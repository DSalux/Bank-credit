{
 "cells": [
  {
   "cell_type": "markdown",
   "metadata": {},
   "source": [
    "# Исследование надёжности заёмщиков\n",
    "\n",
    "Заказчик — кредитный отдел банка. Нужно разобраться, влияет ли семейное положение и количество детей клиента на факт погашения кредита в срок. Входные данные от банка — статистика о платёжеспособности клиентов.\n",
    "\n",
    "Результаты исследования будут учтены при построении модели **кредитного скоринга** — специальной системы, которая оценивает способность потенциального заёмщика вернуть кредит банку."
   ]
  },
  {
   "cell_type": "markdown",
   "metadata": {},
   "source": [
    "## Шаг 1. Откройте файл с данными и изучите общую информацию"
   ]
  },
  {
   "cell_type": "markdown",
   "metadata": {},
   "source": [
    "Начнем анализ с открытия файла и изучения общей информации - тип строк, количество, наименование столбцов и тд методом .info()\n",
    "Далее откроем первые 15 строчек файла для более ясной картины."
   ]
  },
  {
   "cell_type": "code",
   "execution_count": 84,
   "metadata": {
    "scrolled": true
   },
   "outputs": [
    {
     "name": "stdout",
     "output_type": "stream",
     "text": [
      "<class 'pandas.core.frame.DataFrame'>\n",
      "RangeIndex: 21525 entries, 0 to 21524\n",
      "Data columns (total 12 columns):\n",
      "children            21525 non-null int64\n",
      "days_employed       19351 non-null float64\n",
      "dob_years           21525 non-null int64\n",
      "education           21525 non-null object\n",
      "education_id        21525 non-null int64\n",
      "family_status       21525 non-null object\n",
      "family_status_id    21525 non-null int64\n",
      "gender              21525 non-null object\n",
      "income_type         21525 non-null object\n",
      "debt                21525 non-null int64\n",
      "total_income        19351 non-null float64\n",
      "purpose             21525 non-null object\n",
      "dtypes: float64(2), int64(5), object(5)\n",
      "memory usage: 2.0+ MB\n"
     ]
    }
   ],
   "source": [
    "import pandas as pd #импртируем библиотеку pandas\n",
    "\n",
    "try:\n",
    "        df = pd.read_csv('C:/Users/datasets/data.csv')\n",
    "except:\n",
    "        df = pd.read_csv('/datasets/data.csv')\n",
    "\n",
    "#df = pd.read_csv('/datasets/data.csv') - запасной вариант\n",
    "\n",
    "df.info() \n"
   ]
  },
  {
   "cell_type": "markdown",
   "metadata": {},
   "source": [
    "Посмотрим первые 15 строчек таблицы и проанализируем их"
   ]
  },
  {
   "cell_type": "code",
   "execution_count": 85,
   "metadata": {},
   "outputs": [
    {
     "data": {
      "text/html": [
       "<div>\n",
       "<style scoped>\n",
       "    .dataframe tbody tr th:only-of-type {\n",
       "        vertical-align: middle;\n",
       "    }\n",
       "\n",
       "    .dataframe tbody tr th {\n",
       "        vertical-align: top;\n",
       "    }\n",
       "\n",
       "    .dataframe thead th {\n",
       "        text-align: right;\n",
       "    }\n",
       "</style>\n",
       "<table border=\"1\" class=\"dataframe\">\n",
       "  <thead>\n",
       "    <tr style=\"text-align: right;\">\n",
       "      <th></th>\n",
       "      <th>children</th>\n",
       "      <th>days_employed</th>\n",
       "      <th>dob_years</th>\n",
       "      <th>education</th>\n",
       "      <th>education_id</th>\n",
       "      <th>family_status</th>\n",
       "      <th>family_status_id</th>\n",
       "      <th>gender</th>\n",
       "      <th>income_type</th>\n",
       "      <th>debt</th>\n",
       "      <th>total_income</th>\n",
       "      <th>purpose</th>\n",
       "    </tr>\n",
       "  </thead>\n",
       "  <tbody>\n",
       "    <tr>\n",
       "      <td>0</td>\n",
       "      <td>1</td>\n",
       "      <td>-8437.673028</td>\n",
       "      <td>42</td>\n",
       "      <td>высшее</td>\n",
       "      <td>0</td>\n",
       "      <td>женат / замужем</td>\n",
       "      <td>0</td>\n",
       "      <td>F</td>\n",
       "      <td>сотрудник</td>\n",
       "      <td>0</td>\n",
       "      <td>253875.639453</td>\n",
       "      <td>покупка жилья</td>\n",
       "    </tr>\n",
       "    <tr>\n",
       "      <td>1</td>\n",
       "      <td>1</td>\n",
       "      <td>-4024.803754</td>\n",
       "      <td>36</td>\n",
       "      <td>среднее</td>\n",
       "      <td>1</td>\n",
       "      <td>женат / замужем</td>\n",
       "      <td>0</td>\n",
       "      <td>F</td>\n",
       "      <td>сотрудник</td>\n",
       "      <td>0</td>\n",
       "      <td>112080.014102</td>\n",
       "      <td>приобретение автомобиля</td>\n",
       "    </tr>\n",
       "    <tr>\n",
       "      <td>2</td>\n",
       "      <td>0</td>\n",
       "      <td>-5623.422610</td>\n",
       "      <td>33</td>\n",
       "      <td>Среднее</td>\n",
       "      <td>1</td>\n",
       "      <td>женат / замужем</td>\n",
       "      <td>0</td>\n",
       "      <td>M</td>\n",
       "      <td>сотрудник</td>\n",
       "      <td>0</td>\n",
       "      <td>145885.952297</td>\n",
       "      <td>покупка жилья</td>\n",
       "    </tr>\n",
       "    <tr>\n",
       "      <td>3</td>\n",
       "      <td>3</td>\n",
       "      <td>-4124.747207</td>\n",
       "      <td>32</td>\n",
       "      <td>среднее</td>\n",
       "      <td>1</td>\n",
       "      <td>женат / замужем</td>\n",
       "      <td>0</td>\n",
       "      <td>M</td>\n",
       "      <td>сотрудник</td>\n",
       "      <td>0</td>\n",
       "      <td>267628.550329</td>\n",
       "      <td>дополнительное образование</td>\n",
       "    </tr>\n",
       "    <tr>\n",
       "      <td>4</td>\n",
       "      <td>0</td>\n",
       "      <td>340266.072047</td>\n",
       "      <td>53</td>\n",
       "      <td>среднее</td>\n",
       "      <td>1</td>\n",
       "      <td>гражданский брак</td>\n",
       "      <td>1</td>\n",
       "      <td>F</td>\n",
       "      <td>пенсионер</td>\n",
       "      <td>0</td>\n",
       "      <td>158616.077870</td>\n",
       "      <td>сыграть свадьбу</td>\n",
       "    </tr>\n",
       "    <tr>\n",
       "      <td>5</td>\n",
       "      <td>0</td>\n",
       "      <td>-926.185831</td>\n",
       "      <td>27</td>\n",
       "      <td>высшее</td>\n",
       "      <td>0</td>\n",
       "      <td>гражданский брак</td>\n",
       "      <td>1</td>\n",
       "      <td>M</td>\n",
       "      <td>компаньон</td>\n",
       "      <td>0</td>\n",
       "      <td>255763.565419</td>\n",
       "      <td>покупка жилья</td>\n",
       "    </tr>\n",
       "    <tr>\n",
       "      <td>6</td>\n",
       "      <td>0</td>\n",
       "      <td>-2879.202052</td>\n",
       "      <td>43</td>\n",
       "      <td>высшее</td>\n",
       "      <td>0</td>\n",
       "      <td>женат / замужем</td>\n",
       "      <td>0</td>\n",
       "      <td>F</td>\n",
       "      <td>компаньон</td>\n",
       "      <td>0</td>\n",
       "      <td>240525.971920</td>\n",
       "      <td>операции с жильем</td>\n",
       "    </tr>\n",
       "    <tr>\n",
       "      <td>7</td>\n",
       "      <td>0</td>\n",
       "      <td>-152.779569</td>\n",
       "      <td>50</td>\n",
       "      <td>СРЕДНЕЕ</td>\n",
       "      <td>1</td>\n",
       "      <td>женат / замужем</td>\n",
       "      <td>0</td>\n",
       "      <td>M</td>\n",
       "      <td>сотрудник</td>\n",
       "      <td>0</td>\n",
       "      <td>135823.934197</td>\n",
       "      <td>образование</td>\n",
       "    </tr>\n",
       "    <tr>\n",
       "      <td>8</td>\n",
       "      <td>2</td>\n",
       "      <td>-6929.865299</td>\n",
       "      <td>35</td>\n",
       "      <td>ВЫСШЕЕ</td>\n",
       "      <td>0</td>\n",
       "      <td>гражданский брак</td>\n",
       "      <td>1</td>\n",
       "      <td>F</td>\n",
       "      <td>сотрудник</td>\n",
       "      <td>0</td>\n",
       "      <td>95856.832424</td>\n",
       "      <td>на проведение свадьбы</td>\n",
       "    </tr>\n",
       "    <tr>\n",
       "      <td>9</td>\n",
       "      <td>0</td>\n",
       "      <td>-2188.756445</td>\n",
       "      <td>41</td>\n",
       "      <td>среднее</td>\n",
       "      <td>1</td>\n",
       "      <td>женат / замужем</td>\n",
       "      <td>0</td>\n",
       "      <td>M</td>\n",
       "      <td>сотрудник</td>\n",
       "      <td>0</td>\n",
       "      <td>144425.938277</td>\n",
       "      <td>покупка жилья для семьи</td>\n",
       "    </tr>\n",
       "    <tr>\n",
       "      <td>10</td>\n",
       "      <td>2</td>\n",
       "      <td>-4171.483647</td>\n",
       "      <td>36</td>\n",
       "      <td>высшее</td>\n",
       "      <td>0</td>\n",
       "      <td>женат / замужем</td>\n",
       "      <td>0</td>\n",
       "      <td>M</td>\n",
       "      <td>компаньон</td>\n",
       "      <td>0</td>\n",
       "      <td>113943.491460</td>\n",
       "      <td>покупка недвижимости</td>\n",
       "    </tr>\n",
       "    <tr>\n",
       "      <td>11</td>\n",
       "      <td>0</td>\n",
       "      <td>-792.701887</td>\n",
       "      <td>40</td>\n",
       "      <td>среднее</td>\n",
       "      <td>1</td>\n",
       "      <td>женат / замужем</td>\n",
       "      <td>0</td>\n",
       "      <td>F</td>\n",
       "      <td>сотрудник</td>\n",
       "      <td>0</td>\n",
       "      <td>77069.234271</td>\n",
       "      <td>покупка коммерческой недвижимости</td>\n",
       "    </tr>\n",
       "    <tr>\n",
       "      <td>12</td>\n",
       "      <td>0</td>\n",
       "      <td>NaN</td>\n",
       "      <td>65</td>\n",
       "      <td>среднее</td>\n",
       "      <td>1</td>\n",
       "      <td>гражданский брак</td>\n",
       "      <td>1</td>\n",
       "      <td>M</td>\n",
       "      <td>пенсионер</td>\n",
       "      <td>0</td>\n",
       "      <td>NaN</td>\n",
       "      <td>сыграть свадьбу</td>\n",
       "    </tr>\n",
       "    <tr>\n",
       "      <td>13</td>\n",
       "      <td>0</td>\n",
       "      <td>-1846.641941</td>\n",
       "      <td>54</td>\n",
       "      <td>неоконченное высшее</td>\n",
       "      <td>2</td>\n",
       "      <td>женат / замужем</td>\n",
       "      <td>0</td>\n",
       "      <td>F</td>\n",
       "      <td>сотрудник</td>\n",
       "      <td>0</td>\n",
       "      <td>130458.228857</td>\n",
       "      <td>приобретение автомобиля</td>\n",
       "    </tr>\n",
       "    <tr>\n",
       "      <td>14</td>\n",
       "      <td>0</td>\n",
       "      <td>-1844.956182</td>\n",
       "      <td>56</td>\n",
       "      <td>высшее</td>\n",
       "      <td>0</td>\n",
       "      <td>гражданский брак</td>\n",
       "      <td>1</td>\n",
       "      <td>F</td>\n",
       "      <td>компаньон</td>\n",
       "      <td>1</td>\n",
       "      <td>165127.911772</td>\n",
       "      <td>покупка жилой недвижимости</td>\n",
       "    </tr>\n",
       "  </tbody>\n",
       "</table>\n",
       "</div>"
      ],
      "text/plain": [
       "    children  days_employed  dob_years            education  education_id  \\\n",
       "0          1   -8437.673028         42               высшее             0   \n",
       "1          1   -4024.803754         36              среднее             1   \n",
       "2          0   -5623.422610         33              Среднее             1   \n",
       "3          3   -4124.747207         32              среднее             1   \n",
       "4          0  340266.072047         53              среднее             1   \n",
       "5          0    -926.185831         27               высшее             0   \n",
       "6          0   -2879.202052         43               высшее             0   \n",
       "7          0    -152.779569         50              СРЕДНЕЕ             1   \n",
       "8          2   -6929.865299         35               ВЫСШЕЕ             0   \n",
       "9          0   -2188.756445         41              среднее             1   \n",
       "10         2   -4171.483647         36               высшее             0   \n",
       "11         0    -792.701887         40              среднее             1   \n",
       "12         0            NaN         65              среднее             1   \n",
       "13         0   -1846.641941         54  неоконченное высшее             2   \n",
       "14         0   -1844.956182         56               высшее             0   \n",
       "\n",
       "       family_status  family_status_id gender income_type  debt  \\\n",
       "0    женат / замужем                 0      F   сотрудник     0   \n",
       "1    женат / замужем                 0      F   сотрудник     0   \n",
       "2    женат / замужем                 0      M   сотрудник     0   \n",
       "3    женат / замужем                 0      M   сотрудник     0   \n",
       "4   гражданский брак                 1      F   пенсионер     0   \n",
       "5   гражданский брак                 1      M   компаньон     0   \n",
       "6    женат / замужем                 0      F   компаньон     0   \n",
       "7    женат / замужем                 0      M   сотрудник     0   \n",
       "8   гражданский брак                 1      F   сотрудник     0   \n",
       "9    женат / замужем                 0      M   сотрудник     0   \n",
       "10   женат / замужем                 0      M   компаньон     0   \n",
       "11   женат / замужем                 0      F   сотрудник     0   \n",
       "12  гражданский брак                 1      M   пенсионер     0   \n",
       "13   женат / замужем                 0      F   сотрудник     0   \n",
       "14  гражданский брак                 1      F   компаньон     1   \n",
       "\n",
       "     total_income                            purpose  \n",
       "0   253875.639453                      покупка жилья  \n",
       "1   112080.014102            приобретение автомобиля  \n",
       "2   145885.952297                      покупка жилья  \n",
       "3   267628.550329         дополнительное образование  \n",
       "4   158616.077870                    сыграть свадьбу  \n",
       "5   255763.565419                      покупка жилья  \n",
       "6   240525.971920                  операции с жильем  \n",
       "7   135823.934197                        образование  \n",
       "8    95856.832424              на проведение свадьбы  \n",
       "9   144425.938277            покупка жилья для семьи  \n",
       "10  113943.491460               покупка недвижимости  \n",
       "11   77069.234271  покупка коммерческой недвижимости  \n",
       "12            NaN                    сыграть свадьбу  \n",
       "13  130458.228857            приобретение автомобиля  \n",
       "14  165127.911772         покупка жилой недвижимости  "
      ]
     },
     "metadata": {},
     "output_type": "display_data"
    }
   ],
   "source": [
    "display(df.head(15))"
   ]
  },
  {
   "cell_type": "markdown",
   "metadata": {},
   "source": [
    "Выведем названия столбцов - посмотрим все ли там верно"
   ]
  },
  {
   "cell_type": "code",
   "execution_count": 86,
   "metadata": {},
   "outputs": [
    {
     "data": {
      "text/plain": [
       "Index(['children', 'days_employed', 'dob_years', 'education', 'education_id',\n",
       "       'family_status', 'family_status_id', 'gender', 'income_type', 'debt',\n",
       "       'total_income', 'purpose'],\n",
       "      dtype='object')"
      ]
     },
     "execution_count": 86,
     "metadata": {},
     "output_type": "execute_result"
    }
   ],
   "source": [
    "df.columns"
   ]
  },
  {
   "cell_type": "markdown",
   "metadata": {},
   "source": [
    "**Вывод**\n",
    "\n"
   ]
  },
  {
   "cell_type": "markdown",
   "metadata": {},
   "source": [
    "Общий вывод по таблице:\n",
    "1) Названия столбцов логичные и правильные (на англ., со змеиным регистром, без пробелов и заглавных букв)\n",
    "\n",
    "2) Столбец days_employed имеет непонятные данные (отрицательные значения) \n",
    "\n",
    "3) Есть пропуски в 2 столбцах - days_employed и total_income\n",
    "\n",
    "4) Количество пропусков в столбцах days_employed и total_income идентично\n",
    "\n",
    "5) В столбце образование - дубликаты, которые пишут по разному\n"
   ]
  },
  {
   "cell_type": "markdown",
   "metadata": {},
   "source": [
    "## Шаг 2. Предобработка данных"
   ]
  },
  {
   "cell_type": "markdown",
   "metadata": {},
   "source": [
    "### Обработка пропусков"
   ]
  },
  {
   "cell_type": "markdown",
   "metadata": {},
   "source": [
    "Посмотрим какие есть пропуски:\n",
    "    \n",
    "1) Какое их количество\n",
    "\n",
    "2) В каких они столбцах\n",
    "\n",
    "Далее решим как и чем их заменить, или удалить\n"
   ]
  },
  {
   "cell_type": "markdown",
   "metadata": {},
   "source": [
    "Алгоритм моего исследования:"
   ]
  },
  {
   "cell_type": "code",
   "execution_count": 87,
   "metadata": {},
   "outputs": [
    {
     "data": {
      "text/plain": [
       "children               0\n",
       "days_employed       2174\n",
       "dob_years              0\n",
       "education              0\n",
       "education_id           0\n",
       "family_status          0\n",
       "family_status_id       0\n",
       "gender                 0\n",
       "income_type            0\n",
       "debt                   0\n",
       "total_income        2174\n",
       "purpose                0\n",
       "dtype: int64"
      ]
     },
     "metadata": {},
     "output_type": "display_data"
    },
    {
     "data": {
      "text/plain": [
       "children            0.000000\n",
       "days_employed       0.100999\n",
       "dob_years           0.000000\n",
       "education           0.000000\n",
       "education_id        0.000000\n",
       "family_status       0.000000\n",
       "family_status_id    0.000000\n",
       "gender              0.000000\n",
       "income_type         0.000000\n",
       "debt                0.000000\n",
       "total_income        0.100999\n",
       "purpose             0.000000\n",
       "dtype: float64"
      ]
     },
     "metadata": {},
     "output_type": "display_data"
    }
   ],
   "source": [
    "#Поищем сумму всех пропусков в таблице\n",
    "display(df.isna().sum()) # в 2 столбцах одинаковое количество пропусков в одинаковых строчках\n",
    "# Узнаем процентное соотношение строк с пропусками от общего количества строк в подтверждение гипотезы выше\n",
    "display(df.isna().mean())"
   ]
  },
  {
   "cell_type": "markdown",
   "metadata": {},
   "source": [
    "Выведем первые 10 строк из столбца с доходом - посмотрим на закономерности в пропусках"
   ]
  },
  {
   "cell_type": "code",
   "execution_count": 88,
   "metadata": {},
   "outputs": [
    {
     "data": {
      "text/html": [
       "<div>\n",
       "<style scoped>\n",
       "    .dataframe tbody tr th:only-of-type {\n",
       "        vertical-align: middle;\n",
       "    }\n",
       "\n",
       "    .dataframe tbody tr th {\n",
       "        vertical-align: top;\n",
       "    }\n",
       "\n",
       "    .dataframe thead th {\n",
       "        text-align: right;\n",
       "    }\n",
       "</style>\n",
       "<table border=\"1\" class=\"dataframe\">\n",
       "  <thead>\n",
       "    <tr style=\"text-align: right;\">\n",
       "      <th></th>\n",
       "      <th>children</th>\n",
       "      <th>days_employed</th>\n",
       "      <th>dob_years</th>\n",
       "      <th>education</th>\n",
       "      <th>education_id</th>\n",
       "      <th>family_status</th>\n",
       "      <th>family_status_id</th>\n",
       "      <th>gender</th>\n",
       "      <th>income_type</th>\n",
       "      <th>debt</th>\n",
       "      <th>total_income</th>\n",
       "      <th>purpose</th>\n",
       "    </tr>\n",
       "  </thead>\n",
       "  <tbody>\n",
       "    <tr>\n",
       "      <td>12</td>\n",
       "      <td>0</td>\n",
       "      <td>NaN</td>\n",
       "      <td>65</td>\n",
       "      <td>среднее</td>\n",
       "      <td>1</td>\n",
       "      <td>гражданский брак</td>\n",
       "      <td>1</td>\n",
       "      <td>M</td>\n",
       "      <td>пенсионер</td>\n",
       "      <td>0</td>\n",
       "      <td>NaN</td>\n",
       "      <td>сыграть свадьбу</td>\n",
       "    </tr>\n",
       "    <tr>\n",
       "      <td>26</td>\n",
       "      <td>0</td>\n",
       "      <td>NaN</td>\n",
       "      <td>41</td>\n",
       "      <td>среднее</td>\n",
       "      <td>1</td>\n",
       "      <td>женат / замужем</td>\n",
       "      <td>0</td>\n",
       "      <td>M</td>\n",
       "      <td>госслужащий</td>\n",
       "      <td>0</td>\n",
       "      <td>NaN</td>\n",
       "      <td>образование</td>\n",
       "    </tr>\n",
       "    <tr>\n",
       "      <td>29</td>\n",
       "      <td>0</td>\n",
       "      <td>NaN</td>\n",
       "      <td>63</td>\n",
       "      <td>среднее</td>\n",
       "      <td>1</td>\n",
       "      <td>Не женат / не замужем</td>\n",
       "      <td>4</td>\n",
       "      <td>F</td>\n",
       "      <td>пенсионер</td>\n",
       "      <td>0</td>\n",
       "      <td>NaN</td>\n",
       "      <td>строительство жилой недвижимости</td>\n",
       "    </tr>\n",
       "    <tr>\n",
       "      <td>41</td>\n",
       "      <td>0</td>\n",
       "      <td>NaN</td>\n",
       "      <td>50</td>\n",
       "      <td>среднее</td>\n",
       "      <td>1</td>\n",
       "      <td>женат / замужем</td>\n",
       "      <td>0</td>\n",
       "      <td>F</td>\n",
       "      <td>госслужащий</td>\n",
       "      <td>0</td>\n",
       "      <td>NaN</td>\n",
       "      <td>сделка с подержанным автомобилем</td>\n",
       "    </tr>\n",
       "    <tr>\n",
       "      <td>55</td>\n",
       "      <td>0</td>\n",
       "      <td>NaN</td>\n",
       "      <td>54</td>\n",
       "      <td>среднее</td>\n",
       "      <td>1</td>\n",
       "      <td>гражданский брак</td>\n",
       "      <td>1</td>\n",
       "      <td>F</td>\n",
       "      <td>пенсионер</td>\n",
       "      <td>1</td>\n",
       "      <td>NaN</td>\n",
       "      <td>сыграть свадьбу</td>\n",
       "    </tr>\n",
       "    <tr>\n",
       "      <td>65</td>\n",
       "      <td>0</td>\n",
       "      <td>NaN</td>\n",
       "      <td>21</td>\n",
       "      <td>среднее</td>\n",
       "      <td>1</td>\n",
       "      <td>Не женат / не замужем</td>\n",
       "      <td>4</td>\n",
       "      <td>M</td>\n",
       "      <td>компаньон</td>\n",
       "      <td>0</td>\n",
       "      <td>NaN</td>\n",
       "      <td>операции с коммерческой недвижимостью</td>\n",
       "    </tr>\n",
       "    <tr>\n",
       "      <td>67</td>\n",
       "      <td>0</td>\n",
       "      <td>NaN</td>\n",
       "      <td>52</td>\n",
       "      <td>высшее</td>\n",
       "      <td>0</td>\n",
       "      <td>женат / замужем</td>\n",
       "      <td>0</td>\n",
       "      <td>F</td>\n",
       "      <td>пенсионер</td>\n",
       "      <td>0</td>\n",
       "      <td>NaN</td>\n",
       "      <td>покупка жилья для семьи</td>\n",
       "    </tr>\n",
       "    <tr>\n",
       "      <td>72</td>\n",
       "      <td>1</td>\n",
       "      <td>NaN</td>\n",
       "      <td>32</td>\n",
       "      <td>высшее</td>\n",
       "      <td>0</td>\n",
       "      <td>женат / замужем</td>\n",
       "      <td>0</td>\n",
       "      <td>M</td>\n",
       "      <td>госслужащий</td>\n",
       "      <td>0</td>\n",
       "      <td>NaN</td>\n",
       "      <td>операции с коммерческой недвижимостью</td>\n",
       "    </tr>\n",
       "    <tr>\n",
       "      <td>82</td>\n",
       "      <td>2</td>\n",
       "      <td>NaN</td>\n",
       "      <td>50</td>\n",
       "      <td>высшее</td>\n",
       "      <td>0</td>\n",
       "      <td>женат / замужем</td>\n",
       "      <td>0</td>\n",
       "      <td>F</td>\n",
       "      <td>сотрудник</td>\n",
       "      <td>0</td>\n",
       "      <td>NaN</td>\n",
       "      <td>жилье</td>\n",
       "    </tr>\n",
       "    <tr>\n",
       "      <td>83</td>\n",
       "      <td>0</td>\n",
       "      <td>NaN</td>\n",
       "      <td>52</td>\n",
       "      <td>среднее</td>\n",
       "      <td>1</td>\n",
       "      <td>женат / замужем</td>\n",
       "      <td>0</td>\n",
       "      <td>M</td>\n",
       "      <td>сотрудник</td>\n",
       "      <td>0</td>\n",
       "      <td>NaN</td>\n",
       "      <td>жилье</td>\n",
       "    </tr>\n",
       "  </tbody>\n",
       "</table>\n",
       "</div>"
      ],
      "text/plain": [
       "    children  days_employed  dob_years education  education_id  \\\n",
       "12         0            NaN         65   среднее             1   \n",
       "26         0            NaN         41   среднее             1   \n",
       "29         0            NaN         63   среднее             1   \n",
       "41         0            NaN         50   среднее             1   \n",
       "55         0            NaN         54   среднее             1   \n",
       "65         0            NaN         21   среднее             1   \n",
       "67         0            NaN         52    высшее             0   \n",
       "72         1            NaN         32    высшее             0   \n",
       "82         2            NaN         50    высшее             0   \n",
       "83         0            NaN         52   среднее             1   \n",
       "\n",
       "            family_status  family_status_id gender  income_type  debt  \\\n",
       "12       гражданский брак                 1      M    пенсионер     0   \n",
       "26        женат / замужем                 0      M  госслужащий     0   \n",
       "29  Не женат / не замужем                 4      F    пенсионер     0   \n",
       "41        женат / замужем                 0      F  госслужащий     0   \n",
       "55       гражданский брак                 1      F    пенсионер     1   \n",
       "65  Не женат / не замужем                 4      M    компаньон     0   \n",
       "67        женат / замужем                 0      F    пенсионер     0   \n",
       "72        женат / замужем                 0      M  госслужащий     0   \n",
       "82        женат / замужем                 0      F    сотрудник     0   \n",
       "83        женат / замужем                 0      M    сотрудник     0   \n",
       "\n",
       "    total_income                                purpose  \n",
       "12           NaN                        сыграть свадьбу  \n",
       "26           NaN                            образование  \n",
       "29           NaN       строительство жилой недвижимости  \n",
       "41           NaN       сделка с подержанным автомобилем  \n",
       "55           NaN                        сыграть свадьбу  \n",
       "65           NaN  операции с коммерческой недвижимостью  \n",
       "67           NaN                покупка жилья для семьи  \n",
       "72           NaN  операции с коммерческой недвижимостью  \n",
       "82           NaN                                  жилье  \n",
       "83           NaN                                  жилье  "
      ]
     },
     "metadata": {},
     "output_type": "display_data"
    }
   ],
   "source": [
    "display(df[df['total_income'].isna()].head(10)) "
   ]
  },
  {
   "cell_type": "markdown",
   "metadata": {},
   "source": [
    "Пропуски в одинаковых строчках - люди не указывают доход и общий стаж не просто так.\n",
    "Так как зарплата нужна будет для дальнейшего исследования - просто удалить эти строки не выход, нужно посчитать среднее и\n",
    "медианное значение и заполнить им пропуски"
   ]
  },
  {
   "cell_type": "code",
   "execution_count": 89,
   "metadata": {},
   "outputs": [
    {
     "name": "stdout",
     "output_type": "stream",
     "text": [
      "Максимальное значение заработка в месяц 2265604.028722744\n",
      "Минимальное значение заработка в месяц 20667.26379327158\n",
      "Медианное значение заработка в месяц 145017.93753253992\n",
      "Среднее значение заработка в месяц 167422.30220817294\n"
     ]
    }
   ],
   "source": [
    "print('Максимальное значение заработка в месяц', df['total_income'].max())\n",
    "print('Минимальное значение заработка в месяц', df['total_income'].min())\n",
    "median_zp = df['total_income'].median()\n",
    "mean_zp = df['total_income'].mean()\n",
    "print('Медианное значение заработка в месяц', median_zp)\n",
    "print('Среднее значение заработка в месяц', mean_zp)"
   ]
  },
  {
   "cell_type": "markdown",
   "metadata": {},
   "source": [
    "Медианное значение получилось меньше, чем среднее. Сравнив медианное и среднее значение, принимаю решение заменить пропуски \n",
    "медианным значением, так как разница между максимальным и минимальным значением больше 2,2 млн условных единиц, делая среднее значение выше."
   ]
  },
  {
   "cell_type": "code",
   "execution_count": 90,
   "metadata": {},
   "outputs": [],
   "source": [
    "# Заполним пропуски в значениях столбца ежемесячного дохода - методом fillna()\n",
    "df['total_income'] = df['total_income'].fillna(median_zp)"
   ]
  },
  {
   "cell_type": "markdown",
   "metadata": {},
   "source": [
    "Далее разберемся с пропуском в столбце со стажем работы.\n",
    "Для исследования он не нужен - для этого заменим все значения на -1."
   ]
  },
  {
   "cell_type": "code",
   "execution_count": 91,
   "metadata": {},
   "outputs": [],
   "source": [
    "df['days_employed'] = df['days_employed'].fillna(-1)"
   ]
  },
  {
   "cell_type": "code",
   "execution_count": 92,
   "metadata": {
    "scrolled": false
   },
   "outputs": [
    {
     "name": "stdout",
     "output_type": "stream",
     "text": [
      "<class 'pandas.core.frame.DataFrame'>\n",
      "RangeIndex: 21525 entries, 0 to 21524\n",
      "Data columns (total 12 columns):\n",
      "children            21525 non-null int64\n",
      "days_employed       21525 non-null float64\n",
      "dob_years           21525 non-null int64\n",
      "education           21525 non-null object\n",
      "education_id        21525 non-null int64\n",
      "family_status       21525 non-null object\n",
      "family_status_id    21525 non-null int64\n",
      "gender              21525 non-null object\n",
      "income_type         21525 non-null object\n",
      "debt                21525 non-null int64\n",
      "total_income        21525 non-null float64\n",
      "purpose             21525 non-null object\n",
      "dtypes: float64(2), int64(5), object(5)\n",
      "memory usage: 2.0+ MB\n"
     ]
    }
   ],
   "source": [
    "# В конце удостоверимся что пустых строк нет, применив info().\n",
    "df.info()"
   ]
  },
  {
   "cell_type": "markdown",
   "metadata": {},
   "source": [
    "**Вывод**\n"
   ]
  },
  {
   "cell_type": "markdown",
   "metadata": {},
   "source": [
    "Произвели замену данных в столбцах - общий стаж работы и ежемесячный доход. Столбец ежемесячный доход нам далее необходим будет для исследования - просто удалить его мы не можем (доля пропусков составляла 10% - достаточно большое количество). Пропуски были у одних и тех же людей в столбцах стаж и доход - можно предположить что данные заполнили некорректно, или люди скрыли свой доход. "
   ]
  },
  {
   "cell_type": "markdown",
   "metadata": {},
   "source": [
    "### Замена типа данных"
   ]
  },
  {
   "cell_type": "markdown",
   "metadata": {},
   "source": [
    "Далее произведем замену типов данных в столбцах - total_income и days_employed с float64 на int64 для удобства подсчетов данных,\n",
    "визуально более приятного вида таблицы и правильности значений"
   ]
  },
  {
   "cell_type": "code",
   "execution_count": 93,
   "metadata": {},
   "outputs": [
    {
     "name": "stdout",
     "output_type": "stream",
     "text": [
      "<class 'pandas.core.frame.DataFrame'>\n",
      "RangeIndex: 21525 entries, 0 to 21524\n",
      "Data columns (total 12 columns):\n",
      "children            21525 non-null int64\n",
      "days_employed       21525 non-null int64\n",
      "dob_years           21525 non-null int64\n",
      "education           21525 non-null object\n",
      "education_id        21525 non-null int64\n",
      "family_status       21525 non-null object\n",
      "family_status_id    21525 non-null int64\n",
      "gender              21525 non-null object\n",
      "income_type         21525 non-null object\n",
      "debt                21525 non-null int64\n",
      "total_income        21525 non-null int64\n",
      "purpose             21525 non-null object\n",
      "dtypes: int64(7), object(5)\n",
      "memory usage: 2.0+ MB\n"
     ]
    }
   ],
   "source": [
    "# Заменим тип данных с помощью astype('int')\n",
    "df['total_income'] = df['total_income'].astype('int')\n",
    "df['days_employed'] = df['days_employed'].astype('int')\n",
    "# Проверим - изменился ли тип данных в столбцах\n",
    "df.info()\n",
    "\n",
    "\n"
   ]
  },
  {
   "cell_type": "markdown",
   "metadata": {},
   "source": [
    "**Вывод**"
   ]
  },
  {
   "cell_type": "markdown",
   "metadata": {},
   "source": [
    "Произвел замену типа данных с float на int - для более правильного отображения информации в столбцах и визуального удобства в таблице"
   ]
  },
  {
   "cell_type": "markdown",
   "metadata": {},
   "source": [
    "### Обработка дубликатов"
   ]
  },
  {
   "cell_type": "markdown",
   "metadata": {},
   "source": [
    "Алгоритм данной ячейки следующий - сначала посмотрим явные дубликаты и удалим их. Потом проверим неявные дубликаты и разберемся с ними"
   ]
  },
  {
   "cell_type": "code",
   "execution_count": 94,
   "metadata": {},
   "outputs": [
    {
     "name": "stdout",
     "output_type": "stream",
     "text": [
      "Общее количество дубликатов в таблице - 54\n"
     ]
    }
   ],
   "source": [
    "# Посчитаем сумму всех дубликатов в таблице\n",
    "print('Общее количество дубликатов в таблице -',df.duplicated().sum())"
   ]
  },
  {
   "cell_type": "markdown",
   "metadata": {},
   "source": [
    "Количество дубликатов 54 штуки - в принципе это означает что у нас 54 строки повторяются дважды, мы не знаем одинаковые это люди или нет - но полное совпадение странно, перезапишем датафрейм удалив дубликаты"
   ]
  },
  {
   "cell_type": "code",
   "execution_count": 95,
   "metadata": {},
   "outputs": [
    {
     "name": "stdout",
     "output_type": "stream",
     "text": [
      "Общее количество дубликатов в таблице - 0\n"
     ]
    }
   ],
   "source": [
    "df1 = df.drop_duplicates().reset_index(drop = True) \n",
    "      \n",
    "print('Общее количество дубликатов в таблице -',df1.duplicated().sum())      "
   ]
  },
  {
   "cell_type": "markdown",
   "metadata": {},
   "source": [
    "Дубликаты удалены"
   ]
  },
  {
   "cell_type": "markdown",
   "metadata": {},
   "source": [
    "В столбацх у нас случаются дубликаты - в столбце с количеством детей и в столбце с уровнем образования - проверим данную гипотезу методом Unique()"
   ]
  },
  {
   "cell_type": "code",
   "execution_count": 96,
   "metadata": {
    "scrolled": false
   },
   "outputs": [
    {
     "name": "stdout",
     "output_type": "stream",
     "text": [
      "Проверяем уникальные значения столбца children\n"
     ]
    },
    {
     "data": {
      "text/plain": [
       "array([ 1,  0,  3,  2, -1,  4, 20,  5])"
      ]
     },
     "metadata": {},
     "output_type": "display_data"
    },
    {
     "name": "stdout",
     "output_type": "stream",
     "text": [
      "Видим некоторые странные значения - возможно (-1) это 1, а 20 - 2\n"
     ]
    }
   ],
   "source": [
    "print('Проверяем уникальные значения столбца children')\n",
    "display(df1['children'].unique())\n",
    "print('Видим некоторые странные значения - возможно (-1) это 1, а 20 - 2')"
   ]
  },
  {
   "cell_type": "markdown",
   "metadata": {},
   "source": [
    "По конверсии и логике людей с большим количеством детей должно быть меньше и меньше, но в данном случае людей у кого 20 детей \n",
    "больше, чем у кого 4 и 5 вместе взятых\n",
    "Количество детей также не может быть отрицательным"
   ]
  },
  {
   "cell_type": "code",
   "execution_count": 97,
   "metadata": {},
   "outputs": [
    {
     "name": "stdout",
     "output_type": "stream",
     "text": [
      "Посмотрим количество уникальных значений и их количество для подтверждения теории\n"
     ]
    },
    {
     "data": {
      "text/plain": [
       " 0     14107\n",
       " 1      4809\n",
       " 2      2052\n",
       " 3       330\n",
       " 20       76\n",
       "-1        47\n",
       " 4        41\n",
       " 5         9\n",
       "Name: children, dtype: int64"
      ]
     },
     "metadata": {},
     "output_type": "display_data"
    },
    {
     "name": "stdout",
     "output_type": "stream",
     "text": [
      "Теория подтвердилась - это дубликаты в данных\n"
     ]
    }
   ],
   "source": [
    "print('Посмотрим количество уникальных значений и их количество для подтверждения теории')\n",
    "display(df1['children'].value_counts())\n",
    "print('Теория подтвердилась - это дубликаты в данных')"
   ]
  },
  {
   "cell_type": "markdown",
   "metadata": {},
   "source": [
    "Заменим неверные значения методом replace и посмотрим на обновленный результат"
   ]
  },
  {
   "cell_type": "code",
   "execution_count": 98,
   "metadata": {},
   "outputs": [
    {
     "name": "stdout",
     "output_type": "stream",
     "text": [
      "Поменяем данные в столбце с количеством детей на корректные значения и снова выведем на экран данный столбец\n"
     ]
    },
    {
     "data": {
      "text/plain": [
       "0    14107\n",
       "1     4856\n",
       "2     2128\n",
       "3      330\n",
       "4       41\n",
       "5        9\n",
       "Name: children, dtype: int64"
      ]
     },
     "metadata": {},
     "output_type": "display_data"
    }
   ],
   "source": [
    "df1['children'] = df1['children'].replace(-1, 1)\n",
    "df1['children'] = df1['children'].replace(20, 2)\n",
    "print('Поменяем данные в столбце с количеством детей на корректные значения и снова выведем на экран данный столбец')\n",
    "display(df1['children'].value_counts())\n",
    "# Отсортированная таблица с количеством детей у заемщиков выглядит корректно"
   ]
  },
  {
   "cell_type": "markdown",
   "metadata": {},
   "source": [
    "Отсортированная таблица с количеством детей у заемщиков выглядит корректно"
   ]
  },
  {
   "cell_type": "markdown",
   "metadata": {},
   "source": [
    "Приступим к удалению дубликатов из столбца про образование"
   ]
  },
  {
   "cell_type": "code",
   "execution_count": 99,
   "metadata": {},
   "outputs": [
    {
     "name": "stdout",
     "output_type": "stream",
     "text": [
      "Далее разберемся с дубликатами в столбце образование и для начала найдем уникальные значения столбца\n"
     ]
    },
    {
     "data": {
      "text/plain": [
       "array(['высшее', 'среднее', 'Среднее', 'СРЕДНЕЕ', 'ВЫСШЕЕ',\n",
       "       'неоконченное высшее', 'начальное', 'Высшее',\n",
       "       'НЕОКОНЧЕННОЕ ВЫСШЕЕ', 'Неоконченное высшее', 'НАЧАЛЬНОЕ',\n",
       "       'Начальное', 'Ученая степень', 'УЧЕНАЯ СТЕПЕНЬ', 'ученая степень'],\n",
       "      dtype=object)"
      ]
     },
     "metadata": {},
     "output_type": "display_data"
    },
    {
     "name": "stdout",
     "output_type": "stream",
     "text": [
      "Как мы видим все они корректные - но их необходимо привести к нижнему регистру - делаем это методом str.lower\n",
      "Смотрим на результат - просим перечислить уникальные значения столбца\n"
     ]
    },
    {
     "data": {
      "text/plain": [
       "array(['высшее', 'среднее', 'неоконченное высшее', 'начальное',\n",
       "       'ученая степень'], dtype=object)"
      ]
     },
     "metadata": {},
     "output_type": "display_data"
    }
   ],
   "source": [
    "print('Далее разберемся с дубликатами в столбце образование и для начала найдем уникальные значения столбца')\n",
    "display(df1['education'].unique())\n",
    "print('Как мы видим все они корректные - но их необходимо привести к нижнему регистру - делаем это методом str.lower')\n",
    "df1['education'] = df1['education'].str.lower()\n",
    "print('Смотрим на результат - просим перечислить уникальные значения столбца')\n",
    "display(df1['education'].unique())"
   ]
  },
  {
   "cell_type": "markdown",
   "metadata": {},
   "source": [
    "**Вывод**"
   ]
  },
  {
   "cell_type": "markdown",
   "metadata": {},
   "source": [
    "Нашли и удалили явные дубликаты методом drop_duplicates().\n",
    "Убрали дубликаты из 2 столбцов необходимых для исследования - количество детей и образование. Применили методы replace() и str.lower()"
   ]
  },
  {
   "cell_type": "markdown",
   "metadata": {},
   "source": [
    "### Лемматизация"
   ]
  },
  {
   "cell_type": "markdown",
   "metadata": {},
   "source": [
    "Импортируем библиотеку для лемматизации столбца - цели кредита\n",
    "Там видны 4 явных цели, но они написаны по-разному - свадьба, недвижимость, автомобиль, образование"
   ]
  },
  {
   "cell_type": "code",
   "execution_count": 100,
   "metadata": {
    "scrolled": true
   },
   "outputs": [],
   "source": [
    "# импортируем библиотеку для лемматизации\n",
    "from pymystem3 import Mystem\n",
    "m = Mystem()\n",
    "# Добавим новый столбец - purpose_id для лемм. Саму лемматизацию произведем методом apply(m.lemmatize)\n",
    "df1['purpose_id'] = df1['purpose'].apply(m.lemmatize)"
   ]
  },
  {
   "cell_type": "markdown",
   "metadata": {},
   "source": [
    "Отобразим новый столбец - для подтверждения успешности лемматизации"
   ]
  },
  {
   "cell_type": "code",
   "execution_count": 101,
   "metadata": {},
   "outputs": [
    {
     "data": {
      "text/plain": [
       "[автомобиль, \\n]                                          972\n",
       "[свадьба, \\n]                                             793\n",
       "[на,  , проведение,  , свадьба, \\n]                       773\n",
       "[сыграть,  , свадьба, \\n]                                 769\n",
       "[операция,  , с,  , недвижимость, \\n]                     675\n",
       "[покупка,  , коммерческий,  , недвижимость, \\n]           662\n",
       "[операция,  , с,  , жилье, \\n]                            652\n",
       "[покупка,  , жилье,  , для,  , сдача, \\n]                 652\n",
       "[операция,  , с,  , коммерческий,  , недвижимость, \\n]    650\n",
       "[покупка,  , жилье, \\n]                                   646\n",
       "[жилье, \\n]                                               646\n",
       "[покупка,  , жилье,  , для,  , семья, \\n]                 638\n",
       "[строительство,  , собственный,  , недвижимость, \\n]      635\n",
       "[недвижимость, \\n]                                        633\n",
       "[операция,  , со,  , свой,  , недвижимость, \\n]           627\n",
       "[строительство,  , жилой,  , недвижимость, \\n]            625\n",
       "[покупка,  , недвижимость, \\n]                            621\n",
       "[покупка,  , свой,  , жилье, \\n]                          620\n",
       "[строительство,  , недвижимость, \\n]                      619\n",
       "[ремонт,  , жилье, \\n]                                    607\n",
       "[покупка,  , жилой,  , недвижимость, \\n]                  606\n",
       "[на,  , покупка,  , свой,  , автомобиль, \\n]              505\n",
       "[заниматься,  , высокий,  , образование, \\n]              496\n",
       "[сделка,  , с,  , подержанный,  , автомобиль, \\n]         486\n",
       "[свой,  , автомобиль, \\n]                                 479\n",
       "[на,  , покупка,  , подержать,  , автомобиль, \\n]         478\n",
       "[на,  , покупка,  , автомобиль, \\n]                       472\n",
       "[приобретение,  , автомобиль, \\n]                         461\n",
       "[дополнительный,  , образование, \\n]                      460\n",
       "[сделка,  , с,  , автомобиль, \\n]                         455\n",
       "[высокий,  , образование, \\n]                             452\n",
       "[получение,  , дополнительный,  , образование, \\n]        447\n",
       "[образование, \\n]                                         447\n",
       "[получение,  , образование, \\n]                           442\n",
       "[профильный,  , образование, \\n]                          436\n",
       "[получение,  , высокий,  , образование, \\n]               426\n",
       "[заниматься,  , образование, \\n]                          408\n",
       "Name: purpose_id, dtype: int64"
      ]
     },
     "metadata": {},
     "output_type": "display_data"
    }
   ],
   "source": [
    "display(df1['purpose_id'].value_counts())\n"
   ]
  },
  {
   "cell_type": "markdown",
   "metadata": {},
   "source": [
    "Cоздадим список лемм, для дальнейшей категоризации - тут хранится список всех лемм"
   ]
  },
  {
   "cell_type": "code",
   "execution_count": 102,
   "metadata": {},
   "outputs": [
    {
     "name": "stdout",
     "output_type": "stream",
     "text": [
      "Counter({' ': 33596, '\\n': 21471, 'недвижимость': 6353, 'покупка': 5900, 'жилье': 4461, 'автомобиль': 4308, 'образование': 4014, 'с': 2918, 'операция': 2604, 'свадьба': 2335, 'свой': 2231, 'на': 2228, 'строительство': 1879, 'высокий': 1374, 'получение': 1315, 'коммерческий': 1312, 'для': 1290, 'жилой': 1231, 'сделка': 941, 'дополнительный': 907, 'заниматься': 904, 'проведение': 773, 'сыграть': 769, 'сдача': 652, 'семья': 638, 'собственный': 635, 'со': 627, 'ремонт': 607, 'подержанный': 486, 'подержать': 478, 'приобретение': 461, 'профильный': 436})\n"
     ]
    }
   ],
   "source": [
    "lemmas = []\n",
    "for i in df1['purpose_id']:\n",
    "    lemmas.extend(i)\n",
    "    \n",
    "#display(lemmas) \n",
    "from collections import Counter\n",
    "print(Counter(lemmas)) # посчитаем количество лемм по списку lemmas\n",
    "# данный код отображает список всех лемм.\n",
    "# теперь надо категоризировать данные - чтобы посчитать задание по целям кредита"
   ]
  },
  {
   "cell_type": "markdown",
   "metadata": {},
   "source": [
    "**Вывод**"
   ]
  },
  {
   "cell_type": "markdown",
   "metadata": {},
   "source": [
    "Провел лемматизацию столбца с целями кредита - создав новый столбец с леммами. Далее сделал цикл, который добавляет каждое лемматизированное значение столбца в новый список и посчтиал количество лемм методом Count\n"
   ]
  },
  {
   "cell_type": "markdown",
   "metadata": {},
   "source": [
    "### Категоризация данных"
   ]
  },
  {
   "cell_type": "markdown",
   "metadata": {},
   "source": [
    "Создадим функцию, в которой категоризируем данные по лемматизированному столбцу. Далее применим эту метод apply к новому столбцу и посмотрим на результат"
   ]
  },
  {
   "cell_type": "code",
   "execution_count": 103,
   "metadata": {},
   "outputs": [
    {
     "data": {
      "text/html": [
       "<div>\n",
       "<style scoped>\n",
       "    .dataframe tbody tr th:only-of-type {\n",
       "        vertical-align: middle;\n",
       "    }\n",
       "\n",
       "    .dataframe tbody tr th {\n",
       "        vertical-align: top;\n",
       "    }\n",
       "\n",
       "    .dataframe thead th {\n",
       "        text-align: right;\n",
       "    }\n",
       "</style>\n",
       "<table border=\"1\" class=\"dataframe\">\n",
       "  <thead>\n",
       "    <tr style=\"text-align: right;\">\n",
       "      <th></th>\n",
       "      <th>children</th>\n",
       "      <th>days_employed</th>\n",
       "      <th>dob_years</th>\n",
       "      <th>education</th>\n",
       "      <th>education_id</th>\n",
       "      <th>family_status</th>\n",
       "      <th>family_status_id</th>\n",
       "      <th>gender</th>\n",
       "      <th>income_type</th>\n",
       "      <th>debt</th>\n",
       "      <th>total_income</th>\n",
       "      <th>purpose</th>\n",
       "      <th>purpose_id</th>\n",
       "      <th>purpose_final</th>\n",
       "    </tr>\n",
       "  </thead>\n",
       "  <tbody>\n",
       "    <tr>\n",
       "      <td>0</td>\n",
       "      <td>1</td>\n",
       "      <td>-8437</td>\n",
       "      <td>42</td>\n",
       "      <td>высшее</td>\n",
       "      <td>0</td>\n",
       "      <td>женат / замужем</td>\n",
       "      <td>0</td>\n",
       "      <td>F</td>\n",
       "      <td>сотрудник</td>\n",
       "      <td>0</td>\n",
       "      <td>253875</td>\n",
       "      <td>покупка жилья</td>\n",
       "      <td>[покупка,  , жилье, \\n]</td>\n",
       "      <td>недвижимость</td>\n",
       "    </tr>\n",
       "    <tr>\n",
       "      <td>1</td>\n",
       "      <td>1</td>\n",
       "      <td>-4024</td>\n",
       "      <td>36</td>\n",
       "      <td>среднее</td>\n",
       "      <td>1</td>\n",
       "      <td>женат / замужем</td>\n",
       "      <td>0</td>\n",
       "      <td>F</td>\n",
       "      <td>сотрудник</td>\n",
       "      <td>0</td>\n",
       "      <td>112080</td>\n",
       "      <td>приобретение автомобиля</td>\n",
       "      <td>[приобретение,  , автомобиль, \\n]</td>\n",
       "      <td>автомобиль</td>\n",
       "    </tr>\n",
       "    <tr>\n",
       "      <td>2</td>\n",
       "      <td>0</td>\n",
       "      <td>-5623</td>\n",
       "      <td>33</td>\n",
       "      <td>среднее</td>\n",
       "      <td>1</td>\n",
       "      <td>женат / замужем</td>\n",
       "      <td>0</td>\n",
       "      <td>M</td>\n",
       "      <td>сотрудник</td>\n",
       "      <td>0</td>\n",
       "      <td>145885</td>\n",
       "      <td>покупка жилья</td>\n",
       "      <td>[покупка,  , жилье, \\n]</td>\n",
       "      <td>недвижимость</td>\n",
       "    </tr>\n",
       "    <tr>\n",
       "      <td>3</td>\n",
       "      <td>3</td>\n",
       "      <td>-4124</td>\n",
       "      <td>32</td>\n",
       "      <td>среднее</td>\n",
       "      <td>1</td>\n",
       "      <td>женат / замужем</td>\n",
       "      <td>0</td>\n",
       "      <td>M</td>\n",
       "      <td>сотрудник</td>\n",
       "      <td>0</td>\n",
       "      <td>267628</td>\n",
       "      <td>дополнительное образование</td>\n",
       "      <td>[дополнительный,  , образование, \\n]</td>\n",
       "      <td>образование</td>\n",
       "    </tr>\n",
       "    <tr>\n",
       "      <td>4</td>\n",
       "      <td>0</td>\n",
       "      <td>340266</td>\n",
       "      <td>53</td>\n",
       "      <td>среднее</td>\n",
       "      <td>1</td>\n",
       "      <td>гражданский брак</td>\n",
       "      <td>1</td>\n",
       "      <td>F</td>\n",
       "      <td>пенсионер</td>\n",
       "      <td>0</td>\n",
       "      <td>158616</td>\n",
       "      <td>сыграть свадьбу</td>\n",
       "      <td>[сыграть,  , свадьба, \\n]</td>\n",
       "      <td>свадьба</td>\n",
       "    </tr>\n",
       "    <tr>\n",
       "      <td>5</td>\n",
       "      <td>0</td>\n",
       "      <td>-926</td>\n",
       "      <td>27</td>\n",
       "      <td>высшее</td>\n",
       "      <td>0</td>\n",
       "      <td>гражданский брак</td>\n",
       "      <td>1</td>\n",
       "      <td>M</td>\n",
       "      <td>компаньон</td>\n",
       "      <td>0</td>\n",
       "      <td>255763</td>\n",
       "      <td>покупка жилья</td>\n",
       "      <td>[покупка,  , жилье, \\n]</td>\n",
       "      <td>недвижимость</td>\n",
       "    </tr>\n",
       "    <tr>\n",
       "      <td>6</td>\n",
       "      <td>0</td>\n",
       "      <td>-2879</td>\n",
       "      <td>43</td>\n",
       "      <td>высшее</td>\n",
       "      <td>0</td>\n",
       "      <td>женат / замужем</td>\n",
       "      <td>0</td>\n",
       "      <td>F</td>\n",
       "      <td>компаньон</td>\n",
       "      <td>0</td>\n",
       "      <td>240525</td>\n",
       "      <td>операции с жильем</td>\n",
       "      <td>[операция,  , с,  , жилье, \\n]</td>\n",
       "      <td>недвижимость</td>\n",
       "    </tr>\n",
       "    <tr>\n",
       "      <td>7</td>\n",
       "      <td>0</td>\n",
       "      <td>-152</td>\n",
       "      <td>50</td>\n",
       "      <td>среднее</td>\n",
       "      <td>1</td>\n",
       "      <td>женат / замужем</td>\n",
       "      <td>0</td>\n",
       "      <td>M</td>\n",
       "      <td>сотрудник</td>\n",
       "      <td>0</td>\n",
       "      <td>135823</td>\n",
       "      <td>образование</td>\n",
       "      <td>[образование, \\n]</td>\n",
       "      <td>образование</td>\n",
       "    </tr>\n",
       "    <tr>\n",
       "      <td>8</td>\n",
       "      <td>2</td>\n",
       "      <td>-6929</td>\n",
       "      <td>35</td>\n",
       "      <td>высшее</td>\n",
       "      <td>0</td>\n",
       "      <td>гражданский брак</td>\n",
       "      <td>1</td>\n",
       "      <td>F</td>\n",
       "      <td>сотрудник</td>\n",
       "      <td>0</td>\n",
       "      <td>95856</td>\n",
       "      <td>на проведение свадьбы</td>\n",
       "      <td>[на,  , проведение,  , свадьба, \\n]</td>\n",
       "      <td>свадьба</td>\n",
       "    </tr>\n",
       "    <tr>\n",
       "      <td>9</td>\n",
       "      <td>0</td>\n",
       "      <td>-2188</td>\n",
       "      <td>41</td>\n",
       "      <td>среднее</td>\n",
       "      <td>1</td>\n",
       "      <td>женат / замужем</td>\n",
       "      <td>0</td>\n",
       "      <td>M</td>\n",
       "      <td>сотрудник</td>\n",
       "      <td>0</td>\n",
       "      <td>144425</td>\n",
       "      <td>покупка жилья для семьи</td>\n",
       "      <td>[покупка,  , жилье,  , для,  , семья, \\n]</td>\n",
       "      <td>недвижимость</td>\n",
       "    </tr>\n",
       "  </tbody>\n",
       "</table>\n",
       "</div>"
      ],
      "text/plain": [
       "   children  days_employed  dob_years education  education_id  \\\n",
       "0         1          -8437         42    высшее             0   \n",
       "1         1          -4024         36   среднее             1   \n",
       "2         0          -5623         33   среднее             1   \n",
       "3         3          -4124         32   среднее             1   \n",
       "4         0         340266         53   среднее             1   \n",
       "5         0           -926         27    высшее             0   \n",
       "6         0          -2879         43    высшее             0   \n",
       "7         0           -152         50   среднее             1   \n",
       "8         2          -6929         35    высшее             0   \n",
       "9         0          -2188         41   среднее             1   \n",
       "\n",
       "      family_status  family_status_id gender income_type  debt  total_income  \\\n",
       "0   женат / замужем                 0      F   сотрудник     0        253875   \n",
       "1   женат / замужем                 0      F   сотрудник     0        112080   \n",
       "2   женат / замужем                 0      M   сотрудник     0        145885   \n",
       "3   женат / замужем                 0      M   сотрудник     0        267628   \n",
       "4  гражданский брак                 1      F   пенсионер     0        158616   \n",
       "5  гражданский брак                 1      M   компаньон     0        255763   \n",
       "6   женат / замужем                 0      F   компаньон     0        240525   \n",
       "7   женат / замужем                 0      M   сотрудник     0        135823   \n",
       "8  гражданский брак                 1      F   сотрудник     0         95856   \n",
       "9   женат / замужем                 0      M   сотрудник     0        144425   \n",
       "\n",
       "                      purpose                                 purpose_id  \\\n",
       "0               покупка жилья                    [покупка,  , жилье, \\n]   \n",
       "1     приобретение автомобиля          [приобретение,  , автомобиль, \\n]   \n",
       "2               покупка жилья                    [покупка,  , жилье, \\n]   \n",
       "3  дополнительное образование       [дополнительный,  , образование, \\n]   \n",
       "4             сыграть свадьбу                  [сыграть,  , свадьба, \\n]   \n",
       "5               покупка жилья                    [покупка,  , жилье, \\n]   \n",
       "6           операции с жильем             [операция,  , с,  , жилье, \\n]   \n",
       "7                 образование                          [образование, \\n]   \n",
       "8       на проведение свадьбы        [на,  , проведение,  , свадьба, \\n]   \n",
       "9     покупка жилья для семьи  [покупка,  , жилье,  , для,  , семья, \\n]   \n",
       "\n",
       "  purpose_final  \n",
       "0  недвижимость  \n",
       "1    автомобиль  \n",
       "2  недвижимость  \n",
       "3   образование  \n",
       "4       свадьба  \n",
       "5  недвижимость  \n",
       "6  недвижимость  \n",
       "7   образование  \n",
       "8       свадьба  \n",
       "9  недвижимость  "
      ]
     },
     "metadata": {},
     "output_type": "display_data"
    }
   ],
   "source": [
    "#display(lemmas)\n",
    "\n",
    "def purpose_final(purpose):\n",
    "    \n",
    "    \n",
    "    \n",
    "    if 'свадьба' in purpose:\n",
    "        return 'свадьба'\n",
    "    elif 'недвижимость' in purpose:\n",
    "        return 'недвижимость'\n",
    "    elif 'автомобиль' in purpose:\n",
    "        return 'автомобиль'\n",
    "    elif 'жилье' in purpose:\n",
    "        return 'недвижимость'\n",
    "    else:\n",
    "        return 'образование'\n",
    "    \n",
    "df1['purpose_final'] = df1['purpose_id'].apply(purpose_final)\n",
    "\n",
    "display(df1.head(10))\n",
    "\n",
    "\n",
    "\n",
    "    \n"
   ]
  },
  {
   "cell_type": "markdown",
   "metadata": {},
   "source": [
    "**Вывод**"
   ]
  },
  {
   "cell_type": "markdown",
   "metadata": {},
   "source": [
    "В результате лемматизации и категоризации создал новый столбец - с понятными целями взятия кредита и с ним можно работать в дальнейшем анализе"
   ]
  },
  {
   "cell_type": "markdown",
   "metadata": {},
   "source": [
    "## Шаг 3. Ответьте на вопросы"
   ]
  },
  {
   "cell_type": "markdown",
   "metadata": {},
   "source": [
    "- Есть ли зависимость между наличием детей и возвратом кредита в срок?"
   ]
  },
  {
   "cell_type": "markdown",
   "metadata": {},
   "source": [
    "Начнем отвечать на вопросы по исследованию и для начала рассчитаем общую конверсию"
   ]
  },
  {
   "cell_type": "code",
   "execution_count": 104,
   "metadata": {},
   "outputs": [
    {
     "name": "stdout",
     "output_type": "stream",
     "text": [
      "21471\n",
      "1741\n",
      "0.08108611615667645\n"
     ]
    }
   ],
   "source": [
    "# Сперва рассчитаем конверсию по общему количеству людей с просрочками платежей\n",
    "obch = df1['debt'].count()\n",
    "dolz = df1[df1['debt'] == 1]['debt'].sum()\n",
    "print(obch)\n",
    "print(dolz)\n",
    "percent = dolz / obch\n",
    "print(percent)\n"
   ]
  },
  {
   "cell_type": "markdown",
   "metadata": {},
   "source": [
    "Общая конверсия равна - 0,081 (около 8% процентов). От этого показателя будем делать последующий анализ"
   ]
  },
  {
   "cell_type": "markdown",
   "metadata": {},
   "source": [
    "Сделаем функцию, которая категоризирует людей на имеющих детей и без детей - добавим новый столбец методом apply и выведем его на экран"
   ]
  },
  {
   "cell_type": "code",
   "execution_count": 105,
   "metadata": {},
   "outputs": [
    {
     "data": {
      "text/html": [
       "<div>\n",
       "<style scoped>\n",
       "    .dataframe tbody tr th:only-of-type {\n",
       "        vertical-align: middle;\n",
       "    }\n",
       "\n",
       "    .dataframe tbody tr th {\n",
       "        vertical-align: top;\n",
       "    }\n",
       "\n",
       "    .dataframe thead th {\n",
       "        text-align: right;\n",
       "    }\n",
       "</style>\n",
       "<table border=\"1\" class=\"dataframe\">\n",
       "  <thead>\n",
       "    <tr style=\"text-align: right;\">\n",
       "      <th></th>\n",
       "      <th>children</th>\n",
       "      <th>days_employed</th>\n",
       "      <th>dob_years</th>\n",
       "      <th>education</th>\n",
       "      <th>education_id</th>\n",
       "      <th>family_status</th>\n",
       "      <th>family_status_id</th>\n",
       "      <th>gender</th>\n",
       "      <th>income_type</th>\n",
       "      <th>debt</th>\n",
       "      <th>total_income</th>\n",
       "      <th>purpose</th>\n",
       "      <th>purpose_id</th>\n",
       "      <th>purpose_final</th>\n",
       "      <th>children_final</th>\n",
       "    </tr>\n",
       "  </thead>\n",
       "  <tbody>\n",
       "    <tr>\n",
       "      <td>0</td>\n",
       "      <td>1</td>\n",
       "      <td>-8437</td>\n",
       "      <td>42</td>\n",
       "      <td>высшее</td>\n",
       "      <td>0</td>\n",
       "      <td>женат / замужем</td>\n",
       "      <td>0</td>\n",
       "      <td>F</td>\n",
       "      <td>сотрудник</td>\n",
       "      <td>0</td>\n",
       "      <td>253875</td>\n",
       "      <td>покупка жилья</td>\n",
       "      <td>[покупка,  , жилье, \\n]</td>\n",
       "      <td>недвижимость</td>\n",
       "      <td>есть дети</td>\n",
       "    </tr>\n",
       "    <tr>\n",
       "      <td>1</td>\n",
       "      <td>1</td>\n",
       "      <td>-4024</td>\n",
       "      <td>36</td>\n",
       "      <td>среднее</td>\n",
       "      <td>1</td>\n",
       "      <td>женат / замужем</td>\n",
       "      <td>0</td>\n",
       "      <td>F</td>\n",
       "      <td>сотрудник</td>\n",
       "      <td>0</td>\n",
       "      <td>112080</td>\n",
       "      <td>приобретение автомобиля</td>\n",
       "      <td>[приобретение,  , автомобиль, \\n]</td>\n",
       "      <td>автомобиль</td>\n",
       "      <td>есть дети</td>\n",
       "    </tr>\n",
       "    <tr>\n",
       "      <td>2</td>\n",
       "      <td>0</td>\n",
       "      <td>-5623</td>\n",
       "      <td>33</td>\n",
       "      <td>среднее</td>\n",
       "      <td>1</td>\n",
       "      <td>женат / замужем</td>\n",
       "      <td>0</td>\n",
       "      <td>M</td>\n",
       "      <td>сотрудник</td>\n",
       "      <td>0</td>\n",
       "      <td>145885</td>\n",
       "      <td>покупка жилья</td>\n",
       "      <td>[покупка,  , жилье, \\n]</td>\n",
       "      <td>недвижимость</td>\n",
       "      <td>нет детей</td>\n",
       "    </tr>\n",
       "    <tr>\n",
       "      <td>3</td>\n",
       "      <td>3</td>\n",
       "      <td>-4124</td>\n",
       "      <td>32</td>\n",
       "      <td>среднее</td>\n",
       "      <td>1</td>\n",
       "      <td>женат / замужем</td>\n",
       "      <td>0</td>\n",
       "      <td>M</td>\n",
       "      <td>сотрудник</td>\n",
       "      <td>0</td>\n",
       "      <td>267628</td>\n",
       "      <td>дополнительное образование</td>\n",
       "      <td>[дополнительный,  , образование, \\n]</td>\n",
       "      <td>образование</td>\n",
       "      <td>есть дети</td>\n",
       "    </tr>\n",
       "    <tr>\n",
       "      <td>4</td>\n",
       "      <td>0</td>\n",
       "      <td>340266</td>\n",
       "      <td>53</td>\n",
       "      <td>среднее</td>\n",
       "      <td>1</td>\n",
       "      <td>гражданский брак</td>\n",
       "      <td>1</td>\n",
       "      <td>F</td>\n",
       "      <td>пенсионер</td>\n",
       "      <td>0</td>\n",
       "      <td>158616</td>\n",
       "      <td>сыграть свадьбу</td>\n",
       "      <td>[сыграть,  , свадьба, \\n]</td>\n",
       "      <td>свадьба</td>\n",
       "      <td>нет детей</td>\n",
       "    </tr>\n",
       "  </tbody>\n",
       "</table>\n",
       "</div>"
      ],
      "text/plain": [
       "   children  days_employed  dob_years education  education_id  \\\n",
       "0         1          -8437         42    высшее             0   \n",
       "1         1          -4024         36   среднее             1   \n",
       "2         0          -5623         33   среднее             1   \n",
       "3         3          -4124         32   среднее             1   \n",
       "4         0         340266         53   среднее             1   \n",
       "\n",
       "      family_status  family_status_id gender income_type  debt  total_income  \\\n",
       "0   женат / замужем                 0      F   сотрудник     0        253875   \n",
       "1   женат / замужем                 0      F   сотрудник     0        112080   \n",
       "2   женат / замужем                 0      M   сотрудник     0        145885   \n",
       "3   женат / замужем                 0      M   сотрудник     0        267628   \n",
       "4  гражданский брак                 1      F   пенсионер     0        158616   \n",
       "\n",
       "                      purpose                            purpose_id  \\\n",
       "0               покупка жилья               [покупка,  , жилье, \\n]   \n",
       "1     приобретение автомобиля     [приобретение,  , автомобиль, \\n]   \n",
       "2               покупка жилья               [покупка,  , жилье, \\n]   \n",
       "3  дополнительное образование  [дополнительный,  , образование, \\n]   \n",
       "4             сыграть свадьбу             [сыграть,  , свадьба, \\n]   \n",
       "\n",
       "  purpose_final children_final  \n",
       "0  недвижимость      есть дети  \n",
       "1    автомобиль      есть дети  \n",
       "2  недвижимость      нет детей  \n",
       "3   образование      есть дети  \n",
       "4       свадьба      нет детей  "
      ]
     },
     "metadata": {},
     "output_type": "display_data"
    }
   ],
   "source": [
    "def children_final(purpose):\n",
    "    \n",
    "    if purpose >= 1:\n",
    "        return 'есть дети'\n",
    "    else:\n",
    "        return 'нет детей'\n",
    "    \n",
    "df1['children_final'] = df1['children'].apply(children_final)\n",
    "\n",
    "display(df1.head())"
   ]
  },
  {
   "cell_type": "markdown",
   "metadata": {},
   "source": [
    "Дальше посчитаем количество людей с детьми и без, добавив столбец с задолженность и его аргументами - среднее и количество"
   ]
  },
  {
   "cell_type": "code",
   "execution_count": 106,
   "metadata": {
    "scrolled": true
   },
   "outputs": [
    {
     "data": {
      "text/html": [
       "<div>\n",
       "<style scoped>\n",
       "    .dataframe tbody tr th:only-of-type {\n",
       "        vertical-align: middle;\n",
       "    }\n",
       "\n",
       "    .dataframe tbody tr th {\n",
       "        vertical-align: top;\n",
       "    }\n",
       "\n",
       "    .dataframe thead th {\n",
       "        text-align: right;\n",
       "    }\n",
       "</style>\n",
       "<table border=\"1\" class=\"dataframe\">\n",
       "  <thead>\n",
       "    <tr style=\"text-align: right;\">\n",
       "      <th></th>\n",
       "      <th>mean</th>\n",
       "      <th>count</th>\n",
       "    </tr>\n",
       "    <tr>\n",
       "      <th>children_final</th>\n",
       "      <th></th>\n",
       "      <th></th>\n",
       "    </tr>\n",
       "  </thead>\n",
       "  <tbody>\n",
       "    <tr>\n",
       "      <td>есть дети</td>\n",
       "      <td>0.092070</td>\n",
       "      <td>7364</td>\n",
       "    </tr>\n",
       "    <tr>\n",
       "      <td>нет детей</td>\n",
       "      <td>0.075353</td>\n",
       "      <td>14107</td>\n",
       "    </tr>\n",
       "  </tbody>\n",
       "</table>\n",
       "</div>"
      ],
      "text/plain": [
       "                    mean  count\n",
       "children_final                 \n",
       "есть дети       0.092070   7364\n",
       "нет детей       0.075353  14107"
      ]
     },
     "metadata": {},
     "output_type": "display_data"
    }
   ],
   "source": [
    "t = df1.groupby('children_final')['debt'].agg(['mean','count'])\n",
    "t.sort_values('count')\n",
    "display(t)"
   ]
  },
  {
   "cell_type": "markdown",
   "metadata": {},
   "source": [
    "**Вывод**"
   ]
  },
  {
   "cell_type": "markdown",
   "metadata": {},
   "source": [
    "Есть зависимость в своевременном ежемесячном платеже и наличию детей в семье. Разница в среднем в 1,7 процента. "
   ]
  },
  {
   "cell_type": "markdown",
   "metadata": {},
   "source": [
    "- Есть ли зависимость между семейным положением и возвратом кредита в срок?"
   ]
  },
  {
   "cell_type": "markdown",
   "metadata": {},
   "source": [
    "Разберемся со следующим исследованием - выведем на экран по примеру предыдущей задачи - используем столбец family_status и debt"
   ]
  },
  {
   "cell_type": "code",
   "execution_count": 107,
   "metadata": {},
   "outputs": [
    {
     "data": {
      "text/html": [
       "<div>\n",
       "<style scoped>\n",
       "    .dataframe tbody tr th:only-of-type {\n",
       "        vertical-align: middle;\n",
       "    }\n",
       "\n",
       "    .dataframe tbody tr th {\n",
       "        vertical-align: top;\n",
       "    }\n",
       "\n",
       "    .dataframe thead tr th {\n",
       "        text-align: left;\n",
       "    }\n",
       "\n",
       "    .dataframe thead tr:last-of-type th {\n",
       "        text-align: right;\n",
       "    }\n",
       "</style>\n",
       "<table border=\"1\" class=\"dataframe\">\n",
       "  <thead>\n",
       "    <tr>\n",
       "      <th></th>\n",
       "      <th colspan=\"2\" halign=\"left\">debt</th>\n",
       "    </tr>\n",
       "    <tr>\n",
       "      <th></th>\n",
       "      <th>count</th>\n",
       "      <th>mean</th>\n",
       "    </tr>\n",
       "    <tr>\n",
       "      <th>family_status</th>\n",
       "      <th></th>\n",
       "      <th></th>\n",
       "    </tr>\n",
       "  </thead>\n",
       "  <tbody>\n",
       "    <tr>\n",
       "      <td>Не женат / не замужем</td>\n",
       "      <td>2810</td>\n",
       "      <td>0.097509</td>\n",
       "    </tr>\n",
       "    <tr>\n",
       "      <td>в разводе</td>\n",
       "      <td>1195</td>\n",
       "      <td>0.071130</td>\n",
       "    </tr>\n",
       "    <tr>\n",
       "      <td>вдовец / вдова</td>\n",
       "      <td>959</td>\n",
       "      <td>0.065693</td>\n",
       "    </tr>\n",
       "    <tr>\n",
       "      <td>гражданский брак</td>\n",
       "      <td>4163</td>\n",
       "      <td>0.093202</td>\n",
       "    </tr>\n",
       "    <tr>\n",
       "      <td>женат / замужем</td>\n",
       "      <td>12344</td>\n",
       "      <td>0.075421</td>\n",
       "    </tr>\n",
       "  </tbody>\n",
       "</table>\n",
       "</div>"
      ],
      "text/plain": [
       "                        debt          \n",
       "                       count      mean\n",
       "family_status                         \n",
       "Не женат / не замужем   2810  0.097509\n",
       "в разводе               1195  0.071130\n",
       "вдовец / вдова           959  0.065693\n",
       "гражданский брак        4163  0.093202\n",
       "женат / замужем        12344  0.075421"
      ]
     },
     "metadata": {},
     "output_type": "display_data"
    }
   ],
   "source": [
    "# Создадим новую таблицу, где будем учитывать данные по таблице family_status и debt и выделим среднюю конверсию по задолжностям\n",
    "r = df1.groupby('family_status').agg({'debt':['count', 'mean']})\n",
    "display(r)"
   ]
  },
  {
   "cell_type": "markdown",
   "metadata": {},
   "source": [
    "**Вывод**"
   ]
  },
  {
   "cell_type": "markdown",
   "metadata": {},
   "source": [
    "По данному исследованию можно сделать вывод, что семейное положение влияет на способность возвращать кредит без просрочек.\n",
    "Самые дисциплинированные люди - вдовцы и вдовы - их конверсия задолженности - 6,5% (тогда как средняя задолженность 8%)\n",
    "Люди женатые или в разводе укладываются в цифры ниже общей конверсии (7% и 7,5% соответсвенно)\n",
    "Люди живущие в гражданском браке и не женатые - имеют самый больший процент просрочек от общего числа (9,2% и 9,7% соответсвенно).\n"
   ]
  },
  {
   "cell_type": "markdown",
   "metadata": {},
   "source": [
    "- Есть ли зависимость между уровнем дохода и возвратом кредита в срок?"
   ]
  },
  {
   "cell_type": "markdown",
   "metadata": {},
   "source": [
    "Чтобы посчитать людей по уровню дохода - применим метод cut и qcut. Наши данные поделят примерно на равные по количеству людей части, отсюда сделаем вывод"
   ]
  },
  {
   "cell_type": "code",
   "execution_count": 108,
   "metadata": {},
   "outputs": [
    {
     "data": {
      "text/html": [
       "<div>\n",
       "<style scoped>\n",
       "    .dataframe tbody tr th:only-of-type {\n",
       "        vertical-align: middle;\n",
       "    }\n",
       "\n",
       "    .dataframe tbody tr th {\n",
       "        vertical-align: top;\n",
       "    }\n",
       "\n",
       "    .dataframe thead th {\n",
       "        text-align: right;\n",
       "    }\n",
       "</style>\n",
       "<table border=\"1\" class=\"dataframe\">\n",
       "  <thead>\n",
       "    <tr style=\"text-align: right;\">\n",
       "      <th></th>\n",
       "      <th>count</th>\n",
       "      <th>mean</th>\n",
       "    </tr>\n",
       "    <tr>\n",
       "      <th>total_income_cut1</th>\n",
       "      <th></th>\n",
       "      <th></th>\n",
       "    </tr>\n",
       "  </thead>\n",
       "  <tbody>\n",
       "    <tr>\n",
       "      <td>(20666.999, 107654.5]</td>\n",
       "      <td>5368</td>\n",
       "      <td>0.079545</td>\n",
       "    </tr>\n",
       "    <tr>\n",
       "      <td>(107654.5, 145017.0]</td>\n",
       "      <td>6428</td>\n",
       "      <td>0.085096</td>\n",
       "    </tr>\n",
       "    <tr>\n",
       "      <td>(145017.0, 195751.5]</td>\n",
       "      <td>4307</td>\n",
       "      <td>0.089157</td>\n",
       "    </tr>\n",
       "    <tr>\n",
       "      <td>(195751.5, 2265604.0]</td>\n",
       "      <td>5368</td>\n",
       "      <td>0.071349</td>\n",
       "    </tr>\n",
       "  </tbody>\n",
       "</table>\n",
       "</div>"
      ],
      "text/plain": [
       "                       count      mean\n",
       "total_income_cut1                     \n",
       "(20666.999, 107654.5]   5368  0.079545\n",
       "(107654.5, 145017.0]    6428  0.085096\n",
       "(145017.0, 195751.5]    4307  0.089157\n",
       "(195751.5, 2265604.0]   5368  0.071349"
      ]
     },
     "metadata": {},
     "output_type": "display_data"
    }
   ],
   "source": [
    "df1['total_income_cut'] = pd.cut(df1['total_income'],4)\n",
    "#display(df1['total_income_cut'])\n",
    "#display(df1.groupby('total_income_cut')['debt'].agg(['count','mean']))\n",
    "df1['total_income_cut1'] = pd.qcut(df1['total_income'],4,duplicates='drop')\n",
    "display(df1.groupby('total_income_cut1')['debt'].agg(['count', 'mean']))\n",
    "\n",
    "#display(df1['total_income_cut1'].value_counts())"
   ]
  },
  {
   "cell_type": "markdown",
   "metadata": {},
   "source": [
    "И второй способ - более понятный мне. Через функцию и категоризацию"
   ]
  },
  {
   "cell_type": "code",
   "execution_count": 109,
   "metadata": {},
   "outputs": [
    {
     "data": {
      "text/html": [
       "<div>\n",
       "<style scoped>\n",
       "    .dataframe tbody tr th:only-of-type {\n",
       "        vertical-align: middle;\n",
       "    }\n",
       "\n",
       "    .dataframe tbody tr th {\n",
       "        vertical-align: top;\n",
       "    }\n",
       "\n",
       "    .dataframe thead th {\n",
       "        text-align: right;\n",
       "    }\n",
       "</style>\n",
       "<table border=\"1\" class=\"dataframe\">\n",
       "  <thead>\n",
       "    <tr style=\"text-align: right;\">\n",
       "      <th></th>\n",
       "      <th>count</th>\n",
       "      <th>mean</th>\n",
       "    </tr>\n",
       "    <tr>\n",
       "      <th>total_income_final</th>\n",
       "      <th></th>\n",
       "      <th></th>\n",
       "    </tr>\n",
       "  </thead>\n",
       "  <tbody>\n",
       "    <tr>\n",
       "      <td>высокий доход</td>\n",
       "      <td>5423</td>\n",
       "      <td>0.071732</td>\n",
       "    </tr>\n",
       "    <tr>\n",
       "      <td>выше среднего доход</td>\n",
       "      <td>6374</td>\n",
       "      <td>0.085974</td>\n",
       "    </tr>\n",
       "    <tr>\n",
       "      <td>низкий доход</td>\n",
       "      <td>4463</td>\n",
       "      <td>0.079319</td>\n",
       "    </tr>\n",
       "    <tr>\n",
       "      <td>средний доход</td>\n",
       "      <td>5211</td>\n",
       "      <td>0.086356</td>\n",
       "    </tr>\n",
       "  </tbody>\n",
       "</table>\n",
       "</div>"
      ],
      "text/plain": [
       "                     count      mean\n",
       "total_income_final                  \n",
       "высокий доход         5423  0.071732\n",
       "выше среднего доход   6374  0.085974\n",
       "низкий доход          4463  0.079319\n",
       "средний доход         5211  0.086356"
      ]
     },
     "metadata": {},
     "output_type": "display_data"
    }
   ],
   "source": [
    "def income_final(purpose):\n",
    "    \n",
    "    if purpose <= 100000:\n",
    "        return 'низкий доход'\n",
    "    if purpose <= 145000:\n",
    "        return 'средний доход'\n",
    "    if purpose <= 195000:\n",
    "        return 'выше среднего доход'\n",
    "    else:\n",
    "        return 'высокий доход'\n",
    "    \n",
    "df1['total_income_final'] = df1['total_income'].apply(income_final)\n",
    "display(df1.groupby('total_income_final')['debt'].agg(['count', 'mean']))"
   ]
  },
  {
   "cell_type": "markdown",
   "metadata": {},
   "source": [
    "**Вывод**"
   ]
  },
  {
   "cell_type": "markdown",
   "metadata": {},
   "source": [
    "Разделив месячный доход на 4 равные части - мы пришли к выводу, количество людей примерно одинаковое.\n",
    "\n",
    "Можно сделать вывод - люди с самым высоким доходом менее подвержены просрочкам, а люди в среднем сегменте больше. Прямая зависмимость просматривается"
   ]
  },
  {
   "cell_type": "markdown",
   "metadata": {},
   "source": [
    "- Как разные цели кредита влияют на его возврат в срок?"
   ]
  },
  {
   "cell_type": "markdown",
   "metadata": {},
   "source": [
    "Сделаем исследование по лемматизированному и категоризированному столбцу, добавив значение с просрочками по кредиту"
   ]
  },
  {
   "cell_type": "code",
   "execution_count": 110,
   "metadata": {},
   "outputs": [
    {
     "data": {
      "text/html": [
       "<div>\n",
       "<style scoped>\n",
       "    .dataframe tbody tr th:only-of-type {\n",
       "        vertical-align: middle;\n",
       "    }\n",
       "\n",
       "    .dataframe tbody tr th {\n",
       "        vertical-align: top;\n",
       "    }\n",
       "\n",
       "    .dataframe thead th {\n",
       "        text-align: right;\n",
       "    }\n",
       "</style>\n",
       "<table border=\"1\" class=\"dataframe\">\n",
       "  <thead>\n",
       "    <tr style=\"text-align: right;\">\n",
       "      <th></th>\n",
       "      <th>count</th>\n",
       "      <th>mean</th>\n",
       "    </tr>\n",
       "    <tr>\n",
       "      <th>purpose_final</th>\n",
       "      <th></th>\n",
       "      <th></th>\n",
       "    </tr>\n",
       "  </thead>\n",
       "  <tbody>\n",
       "    <tr>\n",
       "      <td>автомобиль</td>\n",
       "      <td>4308</td>\n",
       "      <td>0.093547</td>\n",
       "    </tr>\n",
       "    <tr>\n",
       "      <td>недвижимость</td>\n",
       "      <td>10814</td>\n",
       "      <td>0.072314</td>\n",
       "    </tr>\n",
       "    <tr>\n",
       "      <td>образование</td>\n",
       "      <td>4014</td>\n",
       "      <td>0.092177</td>\n",
       "    </tr>\n",
       "    <tr>\n",
       "      <td>свадьба</td>\n",
       "      <td>2335</td>\n",
       "      <td>0.079657</td>\n",
       "    </tr>\n",
       "  </tbody>\n",
       "</table>\n",
       "</div>"
      ],
      "text/plain": [
       "               count      mean\n",
       "purpose_final                 \n",
       "автомобиль      4308  0.093547\n",
       "недвижимость   10814  0.072314\n",
       "образование     4014  0.092177\n",
       "свадьба         2335  0.079657"
      ]
     },
     "metadata": {},
     "output_type": "display_data"
    }
   ],
   "source": [
    "display(df1.groupby('purpose_final')['debt'].agg(['count', 'mean']))"
   ]
  },
  {
   "cell_type": "markdown",
   "metadata": {},
   "source": [
    "**Вывод**"
   ]
  },
  {
   "cell_type": "markdown",
   "metadata": {},
   "source": [
    "Сравнивая 2 столбца - мы пришли к выводу, что люди, берущие кредит на свадьбу и недвижимость гораздо дисциплинированее в оплате, чем люди которые бурет деньги на образование и автомобиль - разница больше 1%"
   ]
  },
  {
   "cell_type": "markdown",
   "metadata": {},
   "source": [
    "## Шаг 4. Общий вывод"
   ]
  },
  {
   "cell_type": "markdown",
   "metadata": {},
   "source": [
    "Проведя полное исследование - мы удалили пропуски, дубликаты из таблицы, проанализировали данные для банка. Нашли закономерности при анализе - количество детей влияет на возврат средств, также влияет на возврат средств семейное положение. Также выяснили, что чем выше ежемесячный доход - тем легче не просрочить платеж. По целяи кредита, большие шаги (свадьба) и серьезные покупки (недвижимость) с большей вероятностью будут оплачены банку вовремя."
   ]
  },
  {
   "cell_type": "code",
   "execution_count": null,
   "metadata": {},
   "outputs": [],
   "source": []
  }
 ],
 "metadata": {
  "ExecuteTimeLog": [
   {
    "duration": 663,
    "start_time": "2021-11-08T10:44:54.345Z"
   },
   {
    "duration": 61,
    "start_time": "2021-11-08T10:58:03.212Z"
   },
   {
    "duration": 63,
    "start_time": "2021-11-08T11:01:27.927Z"
   },
   {
    "duration": 8263,
    "start_time": "2021-11-08T11:04:49.193Z"
   },
   {
    "duration": 64,
    "start_time": "2021-11-08T11:05:05.185Z"
   },
   {
    "duration": 7788,
    "start_time": "2021-11-08T11:05:21.302Z"
   },
   {
    "duration": 316,
    "start_time": "2021-11-08T11:05:38.909Z"
   },
   {
    "duration": 3404,
    "start_time": "2021-11-08T11:05:55.874Z"
   },
   {
    "duration": 85,
    "start_time": "2021-11-08T11:06:23.659Z"
   },
   {
    "duration": 94,
    "start_time": "2021-11-08T11:06:29.769Z"
   },
   {
    "duration": 88,
    "start_time": "2021-11-08T11:06:53.400Z"
   },
   {
    "duration": 7699,
    "start_time": "2021-11-08T11:06:58.305Z"
   },
   {
    "duration": 63,
    "start_time": "2021-11-08T11:07:31.895Z"
   },
   {
    "duration": 62,
    "start_time": "2021-11-08T11:08:07.920Z"
   },
   {
    "duration": 63,
    "start_time": "2021-11-08T11:08:24.630Z"
   },
   {
    "duration": 62,
    "start_time": "2021-11-08T11:10:00.644Z"
   },
   {
    "duration": 71,
    "start_time": "2021-11-08T11:10:22.756Z"
   },
   {
    "duration": 67,
    "start_time": "2021-11-08T11:10:56.640Z"
   },
   {
    "duration": 55,
    "start_time": "2021-11-08T11:11:19.028Z"
   },
   {
    "duration": 65,
    "start_time": "2021-11-08T11:35:15.251Z"
   },
   {
    "duration": 54,
    "start_time": "2021-11-08T11:45:37.977Z"
   },
   {
    "duration": 67,
    "start_time": "2021-11-08T11:45:56.223Z"
   },
   {
    "duration": 61,
    "start_time": "2021-11-08T11:46:42.298Z"
   },
   {
    "duration": 61,
    "start_time": "2021-11-08T11:48:26.858Z"
   },
   {
    "duration": 59,
    "start_time": "2021-11-08T11:51:30.082Z"
   },
   {
    "duration": 61,
    "start_time": "2021-11-08T11:52:24.818Z"
   },
   {
    "duration": 61,
    "start_time": "2021-11-08T11:55:26.916Z"
   },
   {
    "duration": 60,
    "start_time": "2021-11-08T11:56:31.014Z"
   },
   {
    "duration": 61,
    "start_time": "2021-11-08T11:56:51.505Z"
   },
   {
    "duration": 58,
    "start_time": "2021-11-08T11:57:29.765Z"
   },
   {
    "duration": 60,
    "start_time": "2021-11-08T11:58:01.890Z"
   },
   {
    "duration": 6347,
    "start_time": "2021-11-08T11:58:19.410Z"
   },
   {
    "duration": 58,
    "start_time": "2021-11-08T12:01:24.242Z"
   },
   {
    "duration": 1219,
    "start_time": "2021-11-08T14:03:02.427Z"
   },
   {
    "duration": 77,
    "start_time": "2021-11-08T14:03:35.912Z"
   },
   {
    "duration": 89,
    "start_time": "2021-11-08T14:03:47.750Z"
   },
   {
    "duration": 136,
    "start_time": "2021-11-08T14:12:38.849Z"
   },
   {
    "duration": 140,
    "start_time": "2021-11-08T14:13:53.879Z"
   },
   {
    "duration": 85,
    "start_time": "2021-11-08T14:15:02.358Z"
   },
   {
    "duration": 1107,
    "start_time": "2021-11-08T14:21:59.918Z"
   },
   {
    "duration": 83,
    "start_time": "2021-11-08T14:23:48.753Z"
   },
   {
    "duration": 81,
    "start_time": "2021-11-08T14:24:16.297Z"
   },
   {
    "duration": 86,
    "start_time": "2021-11-08T14:24:28.232Z"
   },
   {
    "duration": 14,
    "start_time": "2021-11-08T14:35:36.591Z"
   },
   {
    "duration": 18,
    "start_time": "2021-11-08T14:36:30.431Z"
   },
   {
    "duration": 21,
    "start_time": "2021-11-08T14:36:41.214Z"
   },
   {
    "duration": 19,
    "start_time": "2021-11-08T14:36:50.059Z"
   },
   {
    "duration": 88,
    "start_time": "2021-11-08T14:37:09.198Z"
   },
   {
    "duration": 19,
    "start_time": "2021-11-08T14:37:09.289Z"
   },
   {
    "duration": 89,
    "start_time": "2021-11-08T14:37:51.098Z"
   },
   {
    "duration": 20,
    "start_time": "2021-11-08T14:38:01.771Z"
   },
   {
    "duration": 13,
    "start_time": "2021-11-08T14:38:08.271Z"
   },
   {
    "duration": 19,
    "start_time": "2021-11-08T14:38:28.383Z"
   },
   {
    "duration": 96,
    "start_time": "2021-11-08T14:44:12.757Z"
   },
   {
    "duration": 94,
    "start_time": "2021-11-08T14:47:12.583Z"
   },
   {
    "duration": 33,
    "start_time": "2021-11-08T14:53:40.639Z"
   },
   {
    "duration": 30,
    "start_time": "2021-11-08T14:54:06.505Z"
   },
   {
    "duration": 35,
    "start_time": "2021-11-08T15:10:04.778Z"
   },
   {
    "duration": 27,
    "start_time": "2021-11-08T15:10:17.582Z"
   },
   {
    "duration": 30,
    "start_time": "2021-11-08T15:10:45.038Z"
   },
   {
    "duration": 28,
    "start_time": "2021-11-08T15:10:52.611Z"
   },
   {
    "duration": 30,
    "start_time": "2021-11-08T15:11:01.428Z"
   },
   {
    "duration": 24,
    "start_time": "2021-11-08T15:13:13.293Z"
   },
   {
    "duration": 28,
    "start_time": "2021-11-08T15:14:48.939Z"
   },
   {
    "duration": 29,
    "start_time": "2021-11-08T15:17:15.804Z"
   },
   {
    "duration": 39,
    "start_time": "2021-11-08T15:18:06.954Z"
   },
   {
    "duration": 50,
    "start_time": "2021-11-08T15:18:31.670Z"
   },
   {
    "duration": 36,
    "start_time": "2021-11-08T15:19:06.587Z"
   },
   {
    "duration": 27,
    "start_time": "2021-11-08T15:31:43.413Z"
   },
   {
    "duration": 27,
    "start_time": "2021-11-08T15:34:47.867Z"
   },
   {
    "duration": 29,
    "start_time": "2021-11-08T15:35:17.863Z"
   },
   {
    "duration": 82,
    "start_time": "2021-11-08T15:41:53.555Z"
   },
   {
    "duration": 29,
    "start_time": "2021-11-08T16:27:36.941Z"
   },
   {
    "duration": 296,
    "start_time": "2021-11-08T16:42:35.877Z"
   },
   {
    "duration": 58,
    "start_time": "2021-11-08T16:43:01.740Z"
   },
   {
    "duration": 59,
    "start_time": "2021-11-08T16:43:04.608Z"
   },
   {
    "duration": 298,
    "start_time": "2021-11-08T16:44:09.736Z"
   },
   {
    "duration": 50,
    "start_time": "2021-11-08T16:44:22.202Z"
   },
   {
    "duration": 49,
    "start_time": "2021-11-08T16:44:24.742Z"
   },
   {
    "duration": 34,
    "start_time": "2021-11-08T16:44:48.746Z"
   },
   {
    "duration": 35,
    "start_time": "2021-11-08T16:45:10.515Z"
   },
   {
    "duration": 332,
    "start_time": "2021-11-08T16:45:28.827Z"
   },
   {
    "duration": 46,
    "start_time": "2021-11-08T17:17:34.858Z"
   },
   {
    "duration": 20,
    "start_time": "2021-11-08T17:38:35.783Z"
   },
   {
    "duration": 15,
    "start_time": "2021-11-08T17:41:07.209Z"
   },
   {
    "duration": 268,
    "start_time": "2021-11-08T17:49:42.093Z"
   },
   {
    "duration": 7,
    "start_time": "2021-11-08T17:50:10.765Z"
   },
   {
    "duration": 8,
    "start_time": "2021-11-08T17:50:22.640Z"
   },
   {
    "duration": 14,
    "start_time": "2021-11-08T17:54:24.019Z"
   },
   {
    "duration": 31,
    "start_time": "2021-11-08T17:58:53.884Z"
   },
   {
    "duration": 80,
    "start_time": "2021-11-08T17:59:08.192Z"
   },
   {
    "duration": 35,
    "start_time": "2021-11-08T17:59:08.274Z"
   },
   {
    "duration": 33,
    "start_time": "2021-11-08T17:59:08.311Z"
   },
   {
    "duration": 42,
    "start_time": "2021-11-08T18:00:55.644Z"
   },
   {
    "duration": 41,
    "start_time": "2021-11-08T18:01:08.740Z"
   },
   {
    "duration": 81,
    "start_time": "2021-11-08T18:01:11.793Z"
   },
   {
    "duration": 65,
    "start_time": "2021-11-08T18:01:11.876Z"
   },
   {
    "duration": 16,
    "start_time": "2021-11-08T18:01:11.943Z"
   },
   {
    "duration": 26,
    "start_time": "2021-11-08T18:06:49.861Z"
   },
   {
    "duration": 15,
    "start_time": "2021-11-08T18:07:25.923Z"
   },
   {
    "duration": 15,
    "start_time": "2021-11-08T18:07:57.940Z"
   },
   {
    "duration": 273,
    "start_time": "2021-11-08T18:08:13.606Z"
   },
   {
    "duration": 10,
    "start_time": "2021-11-08T18:08:21.971Z"
   },
   {
    "duration": 10,
    "start_time": "2021-11-08T18:08:23.743Z"
   },
   {
    "duration": 16,
    "start_time": "2021-11-08T18:08:34.467Z"
   },
   {
    "duration": 51,
    "start_time": "2021-11-08T18:10:33.773Z"
   },
   {
    "duration": 56,
    "start_time": "2021-11-08T18:10:38.901Z"
   },
   {
    "duration": 89,
    "start_time": "2021-11-08T18:10:41.276Z"
   },
   {
    "duration": 90,
    "start_time": "2021-11-08T18:10:41.369Z"
   },
   {
    "duration": 34,
    "start_time": "2021-11-08T18:12:31.907Z"
   },
   {
    "duration": 10,
    "start_time": "2021-11-08T18:13:14.747Z"
   },
   {
    "duration": 8,
    "start_time": "2021-11-08T18:13:17.934Z"
   },
   {
    "duration": 10,
    "start_time": "2021-11-08T18:13:28.120Z"
   },
   {
    "duration": 79,
    "start_time": "2021-11-08T18:14:15.814Z"
   },
   {
    "duration": 78,
    "start_time": "2021-11-08T18:14:29.756Z"
   },
   {
    "duration": 69,
    "start_time": "2021-11-08T18:14:29.766Z"
   },
   {
    "duration": 68,
    "start_time": "2021-11-08T18:14:29.769Z"
   },
   {
    "duration": 10,
    "start_time": "2021-11-08T18:14:46.002Z"
   },
   {
    "duration": 52,
    "start_time": "2021-11-08T18:22:07.389Z"
   },
   {
    "duration": 82,
    "start_time": "2021-11-08T18:22:28.408Z"
   },
   {
    "duration": 77,
    "start_time": "2021-11-08T18:22:28.493Z"
   },
   {
    "duration": 9,
    "start_time": "2021-11-08T18:22:28.573Z"
   },
   {
    "duration": 13,
    "start_time": "2021-11-08T18:29:11.170Z"
   },
   {
    "duration": 12,
    "start_time": "2021-11-08T18:29:29.079Z"
   },
   {
    "duration": 12,
    "start_time": "2021-11-08T18:29:45.468Z"
   },
   {
    "duration": 51,
    "start_time": "2021-11-08T18:32:03.677Z"
   },
   {
    "duration": 80,
    "start_time": "2021-11-08T18:32:14.854Z"
   },
   {
    "duration": 62,
    "start_time": "2021-11-08T18:32:14.937Z"
   },
   {
    "duration": 10,
    "start_time": "2021-11-08T18:32:15.030Z"
   },
   {
    "duration": 52,
    "start_time": "2021-11-08T18:56:19.982Z"
   },
   {
    "duration": 78,
    "start_time": "2021-11-08T18:56:39.402Z"
   },
   {
    "duration": 83,
    "start_time": "2021-11-08T18:56:39.482Z"
   },
   {
    "duration": 10,
    "start_time": "2021-11-08T18:56:39.567Z"
   },
   {
    "duration": 82,
    "start_time": "2021-11-08T18:57:33.397Z"
   },
   {
    "duration": 83,
    "start_time": "2021-11-08T18:57:33.481Z"
   },
   {
    "duration": 9,
    "start_time": "2021-11-08T18:57:33.566Z"
   },
   {
    "duration": 80,
    "start_time": "2021-11-08T19:04:09.174Z"
   },
   {
    "duration": 93,
    "start_time": "2021-11-08T19:04:09.257Z"
   },
   {
    "duration": 10,
    "start_time": "2021-11-08T19:04:09.353Z"
   },
   {
    "duration": 58,
    "start_time": "2021-11-08T19:04:26.600Z"
   },
   {
    "duration": 82,
    "start_time": "2021-11-08T19:04:29.907Z"
   },
   {
    "duration": 80,
    "start_time": "2021-11-08T19:04:29.992Z"
   },
   {
    "duration": 10,
    "start_time": "2021-11-08T19:04:30.075Z"
   },
   {
    "duration": 81,
    "start_time": "2021-11-08T19:06:31.804Z"
   },
   {
    "duration": 85,
    "start_time": "2021-11-08T19:06:31.888Z"
   },
   {
    "duration": 9,
    "start_time": "2021-11-08T19:06:31.976Z"
   },
   {
    "duration": 87,
    "start_time": "2021-11-08T19:09:59.320Z"
   },
   {
    "duration": 81,
    "start_time": "2021-11-08T19:09:59.411Z"
   },
   {
    "duration": 44,
    "start_time": "2021-11-08T19:09:59.495Z"
   },
   {
    "duration": 95,
    "start_time": "2021-11-08T19:10:37.600Z"
   },
   {
    "duration": 90,
    "start_time": "2021-11-08T19:10:37.698Z"
   },
   {
    "duration": 11,
    "start_time": "2021-11-08T19:10:37.790Z"
   },
   {
    "duration": 102,
    "start_time": "2021-11-08T19:16:09.700Z"
   },
   {
    "duration": 6409,
    "start_time": "2021-11-08T19:16:09.805Z"
   },
   {
    "duration": -101,
    "start_time": "2021-11-08T19:16:16.318Z"
   },
   {
    "duration": 104,
    "start_time": "2021-11-08T19:18:15.102Z"
   },
   {
    "duration": 78,
    "start_time": "2021-11-08T19:18:15.208Z"
   },
   {
    "duration": 43,
    "start_time": "2021-11-08T19:18:15.289Z"
   },
   {
    "duration": 103,
    "start_time": "2021-11-08T19:19:19.005Z"
   },
   {
    "duration": 131,
    "start_time": "2021-11-08T19:19:19.110Z"
   },
   {
    "duration": 13,
    "start_time": "2021-11-08T19:19:19.245Z"
   },
   {
    "duration": 413,
    "start_time": "2021-11-09T09:28:20.605Z"
   },
   {
    "duration": 611,
    "start_time": "2021-11-09T09:28:36.513Z"
   },
   {
    "duration": 40,
    "start_time": "2021-11-09T09:28:37.125Z"
   },
   {
    "duration": 25,
    "start_time": "2021-11-09T09:28:37.167Z"
   },
   {
    "duration": 211,
    "start_time": "2021-11-09T09:36:55.035Z"
   },
   {
    "duration": 502,
    "start_time": "2021-11-09T09:37:32.006Z"
   },
   {
    "duration": 454,
    "start_time": "2021-11-09T09:37:53.230Z"
   },
   {
    "duration": 463,
    "start_time": "2021-11-09T09:38:05.874Z"
   },
   {
    "duration": 13,
    "start_time": "2021-11-09T09:40:12.198Z"
   },
   {
    "duration": 6,
    "start_time": "2021-11-09T09:46:28.403Z"
   },
   {
    "duration": 65,
    "start_time": "2021-11-09T09:46:29.859Z"
   },
   {
    "duration": 37,
    "start_time": "2021-11-09T09:46:29.926Z"
   },
   {
    "duration": 31,
    "start_time": "2021-11-09T09:46:29.965Z"
   },
   {
    "duration": 4599,
    "start_time": "2021-11-09T09:46:29.998Z"
   },
   {
    "duration": 7,
    "start_time": "2021-11-09T09:47:01.297Z"
   },
   {
    "duration": 7,
    "start_time": "2021-11-09T09:47:12.790Z"
   },
   {
    "duration": 8,
    "start_time": "2021-11-09T09:47:17.775Z"
   },
   {
    "duration": 5,
    "start_time": "2021-11-09T09:49:24.497Z"
   },
   {
    "duration": 7,
    "start_time": "2021-11-09T09:49:47.183Z"
   },
   {
    "duration": 8,
    "start_time": "2021-11-09T09:50:25.834Z"
   },
   {
    "duration": 7,
    "start_time": "2021-11-09T09:51:21.036Z"
   },
   {
    "duration": 8,
    "start_time": "2021-11-09T09:51:53.812Z"
   },
   {
    "duration": 7,
    "start_time": "2021-11-09T09:52:02.251Z"
   },
   {
    "duration": 10,
    "start_time": "2021-11-09T09:53:00.536Z"
   },
   {
    "duration": 20,
    "start_time": "2021-11-09T10:03:06.979Z"
   },
   {
    "duration": 27,
    "start_time": "2021-11-09T10:03:40.084Z"
   },
   {
    "duration": 69,
    "start_time": "2021-11-09T10:03:48.967Z"
   },
   {
    "duration": 59,
    "start_time": "2021-11-09T10:03:49.038Z"
   },
   {
    "duration": 11,
    "start_time": "2021-11-09T10:03:49.099Z"
   },
   {
    "duration": 23,
    "start_time": "2021-11-09T10:03:49.111Z"
   },
   {
    "duration": 7,
    "start_time": "2021-11-09T10:03:49.135Z"
   },
   {
    "duration": 24,
    "start_time": "2021-11-09T10:04:57.689Z"
   },
   {
    "duration": 65,
    "start_time": "2021-11-09T10:24:49.773Z"
   },
   {
    "duration": 51,
    "start_time": "2021-11-09T10:24:49.840Z"
   },
   {
    "duration": 11,
    "start_time": "2021-11-09T10:24:49.893Z"
   },
   {
    "duration": 215,
    "start_time": "2021-11-09T10:24:49.906Z"
   },
   {
    "duration": 24,
    "start_time": "2021-11-09T10:24:50.099Z"
   },
   {
    "duration": 67,
    "start_time": "2021-11-09T10:25:13.840Z"
   },
   {
    "duration": 39,
    "start_time": "2021-11-09T10:25:13.909Z"
   },
   {
    "duration": 10,
    "start_time": "2021-11-09T10:25:13.950Z"
   },
   {
    "duration": 55,
    "start_time": "2021-11-09T10:25:13.962Z"
   },
   {
    "duration": 7,
    "start_time": "2021-11-09T10:25:14.018Z"
   },
   {
    "duration": 68,
    "start_time": "2021-11-09T10:29:05.265Z"
   },
   {
    "duration": 38,
    "start_time": "2021-11-09T10:29:05.334Z"
   },
   {
    "duration": 12,
    "start_time": "2021-11-09T10:29:05.392Z"
   },
   {
    "duration": 30,
    "start_time": "2021-11-09T10:29:05.406Z"
   },
   {
    "duration": 6,
    "start_time": "2021-11-09T10:29:05.438Z"
   },
   {
    "duration": 70,
    "start_time": "2021-11-09T10:31:24.002Z"
   },
   {
    "duration": 41,
    "start_time": "2021-11-09T10:31:24.074Z"
   },
   {
    "duration": 12,
    "start_time": "2021-11-09T10:31:24.118Z"
   },
   {
    "duration": 65,
    "start_time": "2021-11-09T10:31:24.132Z"
   },
   {
    "duration": 8,
    "start_time": "2021-11-09T10:31:24.199Z"
   },
   {
    "duration": 9,
    "start_time": "2021-11-09T10:33:19.823Z"
   },
   {
    "duration": 7,
    "start_time": "2021-11-09T10:33:24.521Z"
   },
   {
    "duration": 9,
    "start_time": "2021-11-09T10:33:35.867Z"
   },
   {
    "duration": 178,
    "start_time": "2021-11-09T10:43:32.039Z"
   },
   {
    "duration": 708,
    "start_time": "2021-11-09T10:43:57.776Z"
   },
   {
    "duration": 211,
    "start_time": "2021-11-09T10:44:28.595Z"
   },
   {
    "duration": 185,
    "start_time": "2021-11-09T10:44:37.019Z"
   },
   {
    "duration": 180,
    "start_time": "2021-11-09T10:47:04.006Z"
   },
   {
    "duration": 208,
    "start_time": "2021-11-09T10:47:16.084Z"
   },
   {
    "duration": 683,
    "start_time": "2021-11-09T10:47:20.145Z"
   },
   {
    "duration": 303,
    "start_time": "2021-11-09T10:53:23.204Z"
   },
   {
    "duration": 66,
    "start_time": "2021-11-09T10:53:35.911Z"
   },
   {
    "duration": 4057,
    "start_time": "2021-11-09T10:54:19.663Z"
   },
   {
    "duration": 4060,
    "start_time": "2021-11-09T11:05:00.329Z"
   },
   {
    "duration": 308,
    "start_time": "2021-11-10T12:04:32.276Z"
   },
   {
    "duration": 236,
    "start_time": "2021-11-10T12:04:48.233Z"
   },
   {
    "duration": 659,
    "start_time": "2021-11-10T12:04:55.017Z"
   },
   {
    "duration": 44,
    "start_time": "2021-11-10T12:04:55.678Z"
   },
   {
    "duration": 39,
    "start_time": "2021-11-10T12:04:55.724Z"
   },
   {
    "duration": 35,
    "start_time": "2021-11-10T12:04:55.766Z"
   },
   {
    "duration": 3779,
    "start_time": "2021-11-10T12:04:55.802Z"
   },
   {
    "duration": 10,
    "start_time": "2021-11-10T12:04:59.582Z"
   },
   {
    "duration": 146,
    "start_time": "2021-11-10T12:05:31.862Z"
   },
   {
    "duration": 1011,
    "start_time": "2021-11-10T12:11:44.487Z"
   },
   {
    "duration": 273,
    "start_time": "2021-11-10T12:11:50.671Z"
   },
   {
    "duration": 186,
    "start_time": "2021-11-10T12:12:29.485Z"
   },
   {
    "duration": 78,
    "start_time": "2021-11-10T12:13:19.543Z"
   },
   {
    "duration": 57,
    "start_time": "2021-11-10T12:13:19.623Z"
   },
   {
    "duration": 15,
    "start_time": "2021-11-10T12:13:19.683Z"
   },
   {
    "duration": 74,
    "start_time": "2021-11-10T12:13:19.700Z"
   },
   {
    "duration": 10,
    "start_time": "2021-11-10T12:13:19.775Z"
   },
   {
    "duration": 13,
    "start_time": "2021-11-10T12:13:19.786Z"
   },
   {
    "duration": 3871,
    "start_time": "2021-11-10T12:13:31.947Z"
   },
   {
    "duration": 75,
    "start_time": "2021-11-10T12:13:36.164Z"
   },
   {
    "duration": 47,
    "start_time": "2021-11-10T12:13:36.241Z"
   },
   {
    "duration": 13,
    "start_time": "2021-11-10T12:13:36.290Z"
   },
   {
    "duration": 63,
    "start_time": "2021-11-10T12:13:36.305Z"
   },
   {
    "duration": 3670,
    "start_time": "2021-11-10T12:13:36.370Z"
   },
   {
    "duration": 21,
    "start_time": "2021-11-10T12:13:40.043Z"
   },
   {
    "duration": 81,
    "start_time": "2021-11-10T12:14:00.832Z"
   },
   {
    "duration": 62,
    "start_time": "2021-11-10T12:14:00.915Z"
   },
   {
    "duration": 14,
    "start_time": "2021-11-10T12:14:00.979Z"
   },
   {
    "duration": 33,
    "start_time": "2021-11-10T12:14:00.995Z"
   },
   {
    "duration": 3886,
    "start_time": "2021-11-10T12:14:01.030Z"
   },
   {
    "duration": 102,
    "start_time": "2021-11-10T12:14:04.816Z"
   },
   {
    "duration": 96,
    "start_time": "2021-11-10T12:14:22.753Z"
   },
   {
    "duration": 41,
    "start_time": "2021-11-10T12:14:22.851Z"
   },
   {
    "duration": 13,
    "start_time": "2021-11-10T12:14:22.894Z"
   },
   {
    "duration": 55,
    "start_time": "2021-11-10T12:14:22.909Z"
   },
   {
    "duration": 3639,
    "start_time": "2021-11-10T12:14:22.966Z"
   },
   {
    "duration": 8,
    "start_time": "2021-11-10T12:14:26.606Z"
   },
   {
    "duration": 960,
    "start_time": "2021-11-10T12:27:56.227Z"
   },
   {
    "duration": 83,
    "start_time": "2021-11-10T12:28:30.629Z"
   },
   {
    "duration": 65,
    "start_time": "2021-11-10T12:28:30.714Z"
   },
   {
    "duration": 14,
    "start_time": "2021-11-10T12:28:30.781Z"
   },
   {
    "duration": 67,
    "start_time": "2021-11-10T12:28:30.798Z"
   },
   {
    "duration": 4148,
    "start_time": "2021-11-10T12:28:30.867Z"
   },
   {
    "duration": 9,
    "start_time": "2021-11-10T12:28:35.017Z"
   },
   {
    "duration": 85,
    "start_time": "2021-11-10T12:28:40.522Z"
   },
   {
    "duration": 57,
    "start_time": "2021-11-10T12:28:40.609Z"
   },
   {
    "duration": 15,
    "start_time": "2021-11-10T12:28:40.668Z"
   },
   {
    "duration": 33,
    "start_time": "2021-11-10T12:28:40.685Z"
   },
   {
    "duration": 4448,
    "start_time": "2021-11-10T12:28:40.719Z"
   },
   {
    "duration": 125,
    "start_time": "2021-11-10T12:28:45.045Z"
   },
   {
    "duration": 1045,
    "start_time": "2021-11-10T12:30:39.613Z"
   },
   {
    "duration": 80,
    "start_time": "2021-11-10T12:30:45.071Z"
   },
   {
    "duration": 43,
    "start_time": "2021-11-10T12:30:45.153Z"
   },
   {
    "duration": 14,
    "start_time": "2021-11-10T12:30:45.198Z"
   },
   {
    "duration": 69,
    "start_time": "2021-11-10T12:30:45.215Z"
   },
   {
    "duration": 3595,
    "start_time": "2021-11-10T12:30:45.287Z"
   },
   {
    "duration": 9,
    "start_time": "2021-11-10T12:30:48.885Z"
   },
   {
    "duration": 78,
    "start_time": "2021-11-10T12:31:07.978Z"
   },
   {
    "duration": 42,
    "start_time": "2021-11-10T12:31:08.058Z"
   },
   {
    "duration": 14,
    "start_time": "2021-11-10T12:31:08.102Z"
   },
   {
    "duration": 58,
    "start_time": "2021-11-10T12:31:08.118Z"
   },
   {
    "duration": 3744,
    "start_time": "2021-11-10T12:31:08.177Z"
   },
   {
    "duration": 7,
    "start_time": "2021-11-10T12:31:11.923Z"
   },
   {
    "duration": 75,
    "start_time": "2021-11-10T12:39:28.944Z"
   },
   {
    "duration": 54,
    "start_time": "2021-11-10T12:39:29.021Z"
   },
   {
    "duration": 12,
    "start_time": "2021-11-10T12:39:29.077Z"
   },
   {
    "duration": 31,
    "start_time": "2021-11-10T12:39:29.092Z"
   },
   {
    "duration": 3818,
    "start_time": "2021-11-10T12:39:29.125Z"
   },
   {
    "duration": 472,
    "start_time": "2021-11-10T12:39:32.945Z"
   },
   {
    "duration": 14,
    "start_time": "2021-11-10T12:39:33.419Z"
   },
   {
    "duration": 82,
    "start_time": "2021-11-10T12:40:38.921Z"
   },
   {
    "duration": 68,
    "start_time": "2021-11-10T12:40:39.005Z"
   },
   {
    "duration": 13,
    "start_time": "2021-11-10T12:40:39.075Z"
   },
   {
    "duration": 32,
    "start_time": "2021-11-10T12:40:39.091Z"
   },
   {
    "duration": 3865,
    "start_time": "2021-11-10T12:40:39.125Z"
   },
   {
    "duration": 473,
    "start_time": "2021-11-10T12:40:42.992Z"
   },
   {
    "duration": 10,
    "start_time": "2021-11-10T12:40:43.467Z"
   },
   {
    "duration": 425,
    "start_time": "2021-11-10T12:41:11.292Z"
   },
   {
    "duration": 417,
    "start_time": "2021-11-10T12:42:47.596Z"
   },
   {
    "duration": 74,
    "start_time": "2021-11-10T12:42:51.608Z"
   },
   {
    "duration": 41,
    "start_time": "2021-11-10T12:42:51.684Z"
   },
   {
    "duration": 12,
    "start_time": "2021-11-10T12:42:51.727Z"
   },
   {
    "duration": 32,
    "start_time": "2021-11-10T12:42:51.764Z"
   },
   {
    "duration": 3617,
    "start_time": "2021-11-10T12:42:51.798Z"
   },
   {
    "duration": 428,
    "start_time": "2021-11-10T12:42:55.417Z"
   },
   {
    "duration": 20,
    "start_time": "2021-11-10T12:42:55.847Z"
   },
   {
    "duration": 411,
    "start_time": "2021-11-10T12:45:17.010Z"
   },
   {
    "duration": 3327,
    "start_time": "2021-11-10T12:45:26.535Z"
   },
   {
    "duration": 431,
    "start_time": "2021-11-10T12:45:39.747Z"
   },
   {
    "duration": 427,
    "start_time": "2021-11-10T12:46:23.292Z"
   },
   {
    "duration": 970,
    "start_time": "2021-11-10T12:46:48.280Z"
   },
   {
    "duration": 952,
    "start_time": "2021-11-10T12:47:00.014Z"
   },
   {
    "duration": 86,
    "start_time": "2021-11-10T12:47:03.758Z"
   },
   {
    "duration": 44,
    "start_time": "2021-11-10T12:47:03.846Z"
   },
   {
    "duration": 13,
    "start_time": "2021-11-10T12:47:03.892Z"
   },
   {
    "duration": 72,
    "start_time": "2021-11-10T12:47:03.907Z"
   },
   {
    "duration": 4147,
    "start_time": "2021-11-10T12:47:03.981Z"
   },
   {
    "duration": 485,
    "start_time": "2021-11-10T12:47:08.130Z"
   },
   {
    "duration": 11,
    "start_time": "2021-11-10T12:47:08.616Z"
   },
   {
    "duration": 76,
    "start_time": "2021-11-10T12:50:03.845Z"
   },
   {
    "duration": 62,
    "start_time": "2021-11-10T12:50:03.924Z"
   },
   {
    "duration": 13,
    "start_time": "2021-11-10T12:50:03.988Z"
   },
   {
    "duration": 66,
    "start_time": "2021-11-10T12:50:04.003Z"
   },
   {
    "duration": 3525,
    "start_time": "2021-11-10T12:50:04.072Z"
   },
   {
    "duration": 426,
    "start_time": "2021-11-10T12:50:07.599Z"
   },
   {
    "duration": 10,
    "start_time": "2021-11-10T12:50:08.027Z"
   },
   {
    "duration": 6886,
    "start_time": "2021-11-10T12:50:08.040Z"
   },
   {
    "duration": 74,
    "start_time": "2021-11-10T12:55:39.374Z"
   },
   {
    "duration": 41,
    "start_time": "2021-11-10T12:55:39.450Z"
   },
   {
    "duration": 13,
    "start_time": "2021-11-10T12:55:39.493Z"
   },
   {
    "duration": 66,
    "start_time": "2021-11-10T12:55:39.508Z"
   },
   {
    "duration": 4000,
    "start_time": "2021-11-10T12:55:39.575Z"
   },
   {
    "duration": 605,
    "start_time": "2021-11-10T12:55:43.577Z"
   },
   {
    "duration": 11,
    "start_time": "2021-11-10T12:55:44.184Z"
   },
   {
    "duration": 6706,
    "start_time": "2021-11-10T12:55:44.197Z"
   },
   {
    "duration": 954,
    "start_time": "2021-11-10T12:58:12.288Z"
   },
   {
    "duration": 73,
    "start_time": "2021-11-10T12:58:21.902Z"
   },
   {
    "duration": 42,
    "start_time": "2021-11-10T12:58:21.977Z"
   },
   {
    "duration": 15,
    "start_time": "2021-11-10T12:58:22.021Z"
   },
   {
    "duration": 58,
    "start_time": "2021-11-10T12:58:22.038Z"
   },
   {
    "duration": 5789,
    "start_time": "2021-11-10T12:58:22.097Z"
   },
   {
    "duration": -11,
    "start_time": "2021-11-10T12:58:27.900Z"
   },
   {
    "duration": -14,
    "start_time": "2021-11-10T12:58:27.904Z"
   },
   {
    "duration": -17,
    "start_time": "2021-11-10T12:58:27.908Z"
   },
   {
    "duration": 81,
    "start_time": "2021-11-10T12:58:45.117Z"
   },
   {
    "duration": 45,
    "start_time": "2021-11-10T12:58:45.200Z"
   },
   {
    "duration": 15,
    "start_time": "2021-11-10T12:58:45.264Z"
   },
   {
    "duration": 37,
    "start_time": "2021-11-10T12:58:45.282Z"
   },
   {
    "duration": 5908,
    "start_time": "2021-11-10T12:58:45.321Z"
   },
   {
    "duration": -71,
    "start_time": "2021-11-10T12:58:51.303Z"
   },
   {
    "duration": -73,
    "start_time": "2021-11-10T12:58:51.305Z"
   },
   {
    "duration": -111,
    "start_time": "2021-11-10T12:58:51.344Z"
   },
   {
    "duration": 75,
    "start_time": "2021-11-10T12:59:45.461Z"
   },
   {
    "duration": 43,
    "start_time": "2021-11-10T12:59:45.537Z"
   },
   {
    "duration": 13,
    "start_time": "2021-11-10T12:59:45.582Z"
   },
   {
    "duration": 67,
    "start_time": "2021-11-10T12:59:45.598Z"
   },
   {
    "duration": 5967,
    "start_time": "2021-11-10T12:59:45.666Z"
   },
   {
    "duration": -163,
    "start_time": "2021-11-10T12:59:51.798Z"
   },
   {
    "duration": -166,
    "start_time": "2021-11-10T12:59:51.803Z"
   },
   {
    "duration": -170,
    "start_time": "2021-11-10T12:59:51.808Z"
   },
   {
    "duration": 77,
    "start_time": "2021-11-10T13:00:41.980Z"
   },
   {
    "duration": 46,
    "start_time": "2021-11-10T13:00:42.060Z"
   },
   {
    "duration": 15,
    "start_time": "2021-11-10T13:00:42.109Z"
   },
   {
    "duration": 68,
    "start_time": "2021-11-10T13:00:42.127Z"
   },
   {
    "duration": 4135,
    "start_time": "2021-11-10T13:00:42.197Z"
   },
   {
    "duration": 440,
    "start_time": "2021-11-10T13:00:46.335Z"
   },
   {
    "duration": 11,
    "start_time": "2021-11-10T13:00:46.777Z"
   },
   {
    "duration": 6729,
    "start_time": "2021-11-10T13:00:46.790Z"
   },
   {
    "duration": 76,
    "start_time": "2021-11-10T13:01:19.180Z"
   },
   {
    "duration": 44,
    "start_time": "2021-11-10T13:01:19.259Z"
   },
   {
    "duration": 15,
    "start_time": "2021-11-10T13:01:19.306Z"
   },
   {
    "duration": 64,
    "start_time": "2021-11-10T13:01:19.324Z"
   },
   {
    "duration": 9305,
    "start_time": "2021-11-10T13:01:19.390Z"
   },
   {
    "duration": 459,
    "start_time": "2021-11-10T13:01:28.697Z"
   },
   {
    "duration": 13,
    "start_time": "2021-11-10T13:01:29.158Z"
   },
   {
    "duration": 6155,
    "start_time": "2021-11-10T13:01:29.173Z"
   },
   {
    "duration": 70,
    "start_time": "2021-11-10T13:03:53.066Z"
   },
   {
    "duration": 52,
    "start_time": "2021-11-10T13:03:53.138Z"
   },
   {
    "duration": 13,
    "start_time": "2021-11-10T13:03:53.192Z"
   },
   {
    "duration": 69,
    "start_time": "2021-11-10T13:03:53.207Z"
   },
   {
    "duration": 3574,
    "start_time": "2021-11-10T13:03:53.277Z"
   },
   {
    "duration": 435,
    "start_time": "2021-11-10T13:03:56.864Z"
   },
   {
    "duration": 11,
    "start_time": "2021-11-10T13:03:57.301Z"
   },
   {
    "duration": 7510,
    "start_time": "2021-11-10T13:03:57.315Z"
   },
   {
    "duration": 73,
    "start_time": "2021-11-10T13:05:16.260Z"
   },
   {
    "duration": 47,
    "start_time": "2021-11-10T13:05:16.335Z"
   },
   {
    "duration": 14,
    "start_time": "2021-11-10T13:05:16.384Z"
   },
   {
    "duration": 66,
    "start_time": "2021-11-10T13:05:16.400Z"
   },
   {
    "duration": 3769,
    "start_time": "2021-11-10T13:05:16.468Z"
   },
   {
    "duration": -104,
    "start_time": "2021-11-10T13:05:20.343Z"
   },
   {
    "duration": -105,
    "start_time": "2021-11-10T13:05:20.345Z"
   },
   {
    "duration": -120,
    "start_time": "2021-11-10T13:05:20.361Z"
   },
   {
    "duration": 72,
    "start_time": "2021-11-10T13:06:34.546Z"
   },
   {
    "duration": 61,
    "start_time": "2021-11-10T13:06:34.620Z"
   },
   {
    "duration": 14,
    "start_time": "2021-11-10T13:06:34.683Z"
   },
   {
    "duration": 65,
    "start_time": "2021-11-10T13:06:34.699Z"
   },
   {
    "duration": 3895,
    "start_time": "2021-11-10T13:06:34.766Z"
   },
   {
    "duration": -118,
    "start_time": "2021-11-10T13:06:38.782Z"
   },
   {
    "duration": -136,
    "start_time": "2021-11-10T13:06:38.801Z"
   },
   {
    "duration": -139,
    "start_time": "2021-11-10T13:06:38.806Z"
   },
   {
    "duration": 73,
    "start_time": "2021-11-10T13:07:14.055Z"
   },
   {
    "duration": 54,
    "start_time": "2021-11-10T13:07:14.130Z"
   },
   {
    "duration": 13,
    "start_time": "2021-11-10T13:07:14.187Z"
   },
   {
    "duration": 37,
    "start_time": "2021-11-10T13:07:14.201Z"
   },
   {
    "duration": 4143,
    "start_time": "2021-11-10T13:07:14.264Z"
   },
   {
    "duration": -112,
    "start_time": "2021-11-10T13:07:18.521Z"
   },
   {
    "duration": -120,
    "start_time": "2021-11-10T13:07:18.530Z"
   },
   {
    "duration": -123,
    "start_time": "2021-11-10T13:07:18.534Z"
   },
   {
    "duration": 79,
    "start_time": "2021-11-10T13:07:55.794Z"
   },
   {
    "duration": 43,
    "start_time": "2021-11-10T13:07:55.875Z"
   },
   {
    "duration": 44,
    "start_time": "2021-11-10T13:07:55.920Z"
   },
   {
    "duration": 34,
    "start_time": "2021-11-10T13:07:55.966Z"
   },
   {
    "duration": 4428,
    "start_time": "2021-11-10T13:07:56.002Z"
   },
   {
    "duration": -74,
    "start_time": "2021-11-10T13:08:00.507Z"
   },
   {
    "duration": -80,
    "start_time": "2021-11-10T13:08:00.514Z"
   },
   {
    "duration": -82,
    "start_time": "2021-11-10T13:08:00.517Z"
   },
   {
    "duration": 78,
    "start_time": "2021-11-10T13:11:48.319Z"
   },
   {
    "duration": 41,
    "start_time": "2021-11-10T13:11:48.399Z"
   },
   {
    "duration": 33,
    "start_time": "2021-11-10T13:11:48.442Z"
   },
   {
    "duration": 32,
    "start_time": "2021-11-10T13:11:48.478Z"
   },
   {
    "duration": 4005,
    "start_time": "2021-11-10T13:11:48.512Z"
   },
   {
    "duration": 447,
    "start_time": "2021-11-10T13:11:52.519Z"
   },
   {
    "duration": 10,
    "start_time": "2021-11-10T13:11:52.968Z"
   },
   {
    "duration": 5958,
    "start_time": "2021-11-10T13:11:52.981Z"
   },
   {
    "duration": 4551,
    "start_time": "2021-11-10T13:13:20.783Z"
   },
   {
    "duration": 67,
    "start_time": "2021-11-10T13:14:01.254Z"
   },
   {
    "duration": 58,
    "start_time": "2021-11-10T13:14:01.323Z"
   },
   {
    "duration": 12,
    "start_time": "2021-11-10T13:14:01.383Z"
   },
   {
    "duration": 33,
    "start_time": "2021-11-10T13:14:01.397Z"
   },
   {
    "duration": 3830,
    "start_time": "2021-11-10T13:14:01.464Z"
   },
   {
    "duration": 453,
    "start_time": "2021-11-10T13:14:05.296Z"
   },
   {
    "duration": 19,
    "start_time": "2021-11-10T13:14:05.750Z"
   },
   {
    "duration": 4248,
    "start_time": "2021-11-10T13:14:05.771Z"
   },
   {
    "duration": 40,
    "start_time": "2021-11-10T13:15:03.304Z"
   },
   {
    "duration": 9,
    "start_time": "2021-11-10T13:15:22.665Z"
   },
   {
    "duration": 5,
    "start_time": "2021-11-10T13:15:59.097Z"
   },
   {
    "duration": 5,
    "start_time": "2021-11-10T13:16:10.157Z"
   },
   {
    "duration": 7,
    "start_time": "2021-11-10T13:16:40.158Z"
   },
   {
    "duration": 1067,
    "start_time": "2021-11-10T13:18:00.298Z"
   },
   {
    "duration": 6,
    "start_time": "2021-11-10T13:18:27.685Z"
   },
   {
    "duration": 8,
    "start_time": "2021-11-10T13:18:34.987Z"
   },
   {
    "duration": 243,
    "start_time": "2021-11-10T13:19:27.470Z"
   },
   {
    "duration": 8,
    "start_time": "2021-11-10T13:19:43.781Z"
   },
   {
    "duration": 7,
    "start_time": "2021-11-10T13:19:50.804Z"
   },
   {
    "duration": 8,
    "start_time": "2021-11-10T13:19:56.414Z"
   },
   {
    "duration": 7,
    "start_time": "2021-11-10T13:20:08.171Z"
   },
   {
    "duration": 7,
    "start_time": "2021-11-10T13:21:18.921Z"
   },
   {
    "duration": 7,
    "start_time": "2021-11-10T13:21:40.259Z"
   },
   {
    "duration": 77,
    "start_time": "2021-11-10T13:24:18.771Z"
   },
   {
    "duration": 45,
    "start_time": "2021-11-10T13:24:18.850Z"
   },
   {
    "duration": 14,
    "start_time": "2021-11-10T13:24:18.897Z"
   },
   {
    "duration": 65,
    "start_time": "2021-11-10T13:24:18.913Z"
   },
   {
    "duration": 3534,
    "start_time": "2021-11-10T13:24:18.979Z"
   },
   {
    "duration": 83,
    "start_time": "2021-11-10T13:24:22.516Z"
   },
   {
    "duration": 86,
    "start_time": "2021-11-10T13:24:22.515Z"
   },
   {
    "duration": 83,
    "start_time": "2021-11-10T13:24:22.519Z"
   },
   {
    "duration": 83,
    "start_time": "2021-11-10T13:24:41.985Z"
   },
   {
    "duration": 43,
    "start_time": "2021-11-10T13:24:42.070Z"
   },
   {
    "duration": 15,
    "start_time": "2021-11-10T13:24:42.115Z"
   },
   {
    "duration": 64,
    "start_time": "2021-11-10T13:24:42.133Z"
   },
   {
    "duration": 4112,
    "start_time": "2021-11-10T13:24:42.199Z"
   },
   {
    "duration": 444,
    "start_time": "2021-11-10T13:24:46.313Z"
   },
   {
    "duration": 12,
    "start_time": "2021-11-10T13:24:46.759Z"
   },
   {
    "duration": 8,
    "start_time": "2021-11-10T13:24:46.773Z"
   },
   {
    "duration": 83,
    "start_time": "2021-11-10T13:31:02.374Z"
   },
   {
    "duration": 47,
    "start_time": "2021-11-10T13:31:02.459Z"
   },
   {
    "duration": 14,
    "start_time": "2021-11-10T13:31:02.509Z"
   },
   {
    "duration": 67,
    "start_time": "2021-11-10T13:31:02.525Z"
   },
   {
    "duration": 4080,
    "start_time": "2021-11-10T13:31:02.594Z"
   },
   {
    "duration": 468,
    "start_time": "2021-11-10T13:31:06.676Z"
   },
   {
    "duration": 18,
    "start_time": "2021-11-10T13:31:07.146Z"
   },
   {
    "duration": 8,
    "start_time": "2021-11-10T13:31:07.166Z"
   },
   {
    "duration": 79,
    "start_time": "2021-11-10T13:43:09.509Z"
   },
   {
    "duration": 41,
    "start_time": "2021-11-10T13:43:09.590Z"
   },
   {
    "duration": 36,
    "start_time": "2021-11-10T13:43:09.633Z"
   },
   {
    "duration": 29,
    "start_time": "2021-11-10T13:43:09.671Z"
   },
   {
    "duration": 3722,
    "start_time": "2021-11-10T13:43:09.702Z"
   },
   {
    "duration": 379,
    "start_time": "2021-11-10T13:43:13.426Z"
   },
   {
    "duration": 11,
    "start_time": "2021-11-10T13:43:13.806Z"
   },
   {
    "duration": 7,
    "start_time": "2021-11-10T13:43:13.819Z"
   },
   {
    "duration": 77,
    "start_time": "2021-11-10T13:44:05.467Z"
   },
   {
    "duration": 49,
    "start_time": "2021-11-10T13:44:05.546Z"
   },
   {
    "duration": 14,
    "start_time": "2021-11-10T13:44:05.598Z"
   },
   {
    "duration": 65,
    "start_time": "2021-11-10T13:44:05.615Z"
   },
   {
    "duration": 3614,
    "start_time": "2021-11-10T13:44:05.682Z"
   },
   {
    "duration": 379,
    "start_time": "2021-11-10T13:44:09.298Z"
   },
   {
    "duration": 11,
    "start_time": "2021-11-10T13:44:09.679Z"
   },
   {
    "duration": 15,
    "start_time": "2021-11-10T13:44:09.692Z"
   },
   {
    "duration": 81,
    "start_time": "2021-11-10T13:45:40.095Z"
   },
   {
    "duration": 47,
    "start_time": "2021-11-10T13:45:40.178Z"
   },
   {
    "duration": 43,
    "start_time": "2021-11-10T13:45:40.228Z"
   },
   {
    "duration": 33,
    "start_time": "2021-11-10T13:45:40.274Z"
   },
   {
    "duration": 4093,
    "start_time": "2021-11-10T13:45:40.309Z"
   },
   {
    "duration": 447,
    "start_time": "2021-11-10T13:45:44.404Z"
   },
   {
    "duration": 22,
    "start_time": "2021-11-10T13:45:44.852Z"
   },
   {
    "duration": 8,
    "start_time": "2021-11-10T13:45:44.876Z"
   },
   {
    "duration": 81,
    "start_time": "2021-11-10T13:46:04.663Z"
   },
   {
    "duration": 50,
    "start_time": "2021-11-10T13:46:04.746Z"
   },
   {
    "duration": 13,
    "start_time": "2021-11-10T13:46:04.798Z"
   },
   {
    "duration": 68,
    "start_time": "2021-11-10T13:46:04.813Z"
   },
   {
    "duration": 3885,
    "start_time": "2021-11-10T13:46:04.883Z"
   },
   {
    "duration": 376,
    "start_time": "2021-11-10T13:46:08.770Z"
   },
   {
    "duration": 18,
    "start_time": "2021-11-10T13:46:09.148Z"
   },
   {
    "duration": 7,
    "start_time": "2021-11-10T13:46:09.169Z"
   },
   {
    "duration": 78,
    "start_time": "2021-11-10T13:46:23.710Z"
   },
   {
    "duration": 42,
    "start_time": "2021-11-10T13:46:23.789Z"
   },
   {
    "duration": 39,
    "start_time": "2021-11-10T13:46:23.833Z"
   },
   {
    "duration": 37,
    "start_time": "2021-11-10T13:46:23.875Z"
   },
   {
    "duration": 3829,
    "start_time": "2021-11-10T13:46:23.913Z"
   },
   {
    "duration": 426,
    "start_time": "2021-11-10T13:46:27.745Z"
   },
   {
    "duration": 11,
    "start_time": "2021-11-10T13:46:28.173Z"
   },
   {
    "duration": 6,
    "start_time": "2021-11-10T13:46:28.187Z"
   },
   {
    "duration": 77,
    "start_time": "2021-11-10T13:46:55.891Z"
   },
   {
    "duration": 42,
    "start_time": "2021-11-10T13:46:55.971Z"
   },
   {
    "duration": 48,
    "start_time": "2021-11-10T13:46:56.016Z"
   },
   {
    "duration": 34,
    "start_time": "2021-11-10T13:46:56.066Z"
   },
   {
    "duration": 3715,
    "start_time": "2021-11-10T13:46:56.102Z"
   },
   {
    "duration": 378,
    "start_time": "2021-11-10T13:46:59.819Z"
   },
   {
    "duration": 11,
    "start_time": "2021-11-10T13:47:00.199Z"
   },
   {
    "duration": 7,
    "start_time": "2021-11-10T13:47:00.212Z"
   },
   {
    "duration": 76,
    "start_time": "2021-11-10T13:47:37.926Z"
   },
   {
    "duration": 64,
    "start_time": "2021-11-10T13:47:38.004Z"
   },
   {
    "duration": 13,
    "start_time": "2021-11-10T13:47:38.070Z"
   },
   {
    "duration": 30,
    "start_time": "2021-11-10T13:47:38.085Z"
   },
   {
    "duration": 3920,
    "start_time": "2021-11-10T13:47:38.116Z"
   },
   {
    "duration": 499,
    "start_time": "2021-11-10T13:47:42.038Z"
   },
   {
    "duration": 9,
    "start_time": "2021-11-10T13:47:42.539Z"
   },
   {
    "duration": 19,
    "start_time": "2021-11-10T13:47:42.550Z"
   },
   {
    "duration": 5419,
    "start_time": "2021-11-10T13:48:37.901Z"
   },
   {
    "duration": 85,
    "start_time": "2021-11-10T13:51:47.173Z"
   },
   {
    "duration": 58,
    "start_time": "2021-11-10T13:51:47.260Z"
   },
   {
    "duration": 14,
    "start_time": "2021-11-10T13:51:47.321Z"
   },
   {
    "duration": 67,
    "start_time": "2021-11-10T13:51:47.337Z"
   },
   {
    "duration": 4250,
    "start_time": "2021-11-10T13:51:47.406Z"
   },
   {
    "duration": 380,
    "start_time": "2021-11-10T13:51:51.663Z"
   },
   {
    "duration": 19,
    "start_time": "2021-11-10T13:51:52.045Z"
   },
   {
    "duration": 7,
    "start_time": "2021-11-10T13:51:52.066Z"
   },
   {
    "duration": 79,
    "start_time": "2021-11-10T13:52:13.328Z"
   },
   {
    "duration": 56,
    "start_time": "2021-11-10T13:52:13.409Z"
   },
   {
    "duration": 14,
    "start_time": "2021-11-10T13:52:13.467Z"
   },
   {
    "duration": 36,
    "start_time": "2021-11-10T13:52:13.483Z"
   },
   {
    "duration": 3735,
    "start_time": "2021-11-10T13:52:13.563Z"
   },
   {
    "duration": 381,
    "start_time": "2021-11-10T13:52:17.300Z"
   },
   {
    "duration": 13,
    "start_time": "2021-11-10T13:52:17.682Z"
   },
   {
    "duration": 8,
    "start_time": "2021-11-10T13:52:17.697Z"
   },
   {
    "duration": 1530,
    "start_time": "2021-11-10T18:35:49.334Z"
   },
   {
    "duration": 176,
    "start_time": "2021-11-10T18:35:50.867Z"
   },
   {
    "duration": 17,
    "start_time": "2021-11-10T18:35:51.046Z"
   },
   {
    "duration": 116,
    "start_time": "2021-11-10T18:35:51.131Z"
   },
   {
    "duration": 334,
    "start_time": "2021-11-10T20:32:54.860Z"
   },
   {
    "duration": 883,
    "start_time": "2021-11-10T20:32:58.244Z"
   },
   {
    "duration": 74,
    "start_time": "2021-11-10T20:32:59.130Z"
   },
   {
    "duration": 18,
    "start_time": "2021-11-10T20:32:59.208Z"
   },
   {
    "duration": 73,
    "start_time": "2021-11-10T20:32:59.229Z"
   },
   {
    "duration": 646,
    "start_time": "2021-11-12T13:58:42.059Z"
   },
   {
    "duration": 37,
    "start_time": "2021-11-12T13:58:42.707Z"
   },
   {
    "duration": 11,
    "start_time": "2021-11-12T13:58:42.746Z"
   },
   {
    "duration": 62,
    "start_time": "2021-11-12T13:58:42.759Z"
   },
   {
    "duration": 4,
    "start_time": "2021-11-12T13:58:42.822Z"
   },
   {
    "duration": 359,
    "start_time": "2021-11-12T13:58:42.828Z"
   },
   {
    "duration": 16,
    "start_time": "2021-11-12T13:58:43.189Z"
   },
   {
    "duration": 6,
    "start_time": "2021-11-12T13:58:43.207Z"
   },
   {
    "duration": 13,
    "start_time": "2021-11-12T13:58:43.214Z"
   },
   {
    "duration": 12,
    "start_time": "2021-11-12T13:59:00.498Z"
   },
   {
    "duration": 15,
    "start_time": "2021-11-12T13:59:38.269Z"
   },
   {
    "duration": 64,
    "start_time": "2021-11-12T14:10:16.646Z"
   },
   {
    "duration": 37,
    "start_time": "2021-11-12T14:10:16.712Z"
   },
   {
    "duration": 11,
    "start_time": "2021-11-12T14:10:16.751Z"
   },
   {
    "duration": 59,
    "start_time": "2021-11-12T14:10:16.764Z"
   },
   {
    "duration": 3,
    "start_time": "2021-11-12T14:10:16.824Z"
   },
   {
    "duration": 366,
    "start_time": "2021-11-12T14:10:16.829Z"
   },
   {
    "duration": 20,
    "start_time": "2021-11-12T14:10:17.197Z"
   },
   {
    "duration": 5,
    "start_time": "2021-11-12T14:10:17.219Z"
   },
   {
    "duration": 14,
    "start_time": "2021-11-12T14:10:17.226Z"
   },
   {
    "duration": 64,
    "start_time": "2021-11-12T14:11:05.957Z"
   },
   {
    "duration": 38,
    "start_time": "2021-11-12T14:11:06.022Z"
   },
   {
    "duration": 12,
    "start_time": "2021-11-12T14:11:06.062Z"
   },
   {
    "duration": 67,
    "start_time": "2021-11-12T14:11:06.076Z"
   },
   {
    "duration": 3,
    "start_time": "2021-11-12T14:11:06.145Z"
   },
   {
    "duration": 488,
    "start_time": "2021-11-12T14:11:06.150Z"
   },
   {
    "duration": 393,
    "start_time": "2021-11-12T14:11:06.639Z"
   },
   {
    "duration": 168,
    "start_time": "2021-11-12T14:11:06.866Z"
   },
   {
    "duration": 163,
    "start_time": "2021-11-12T14:11:06.871Z"
   },
   {
    "duration": 14,
    "start_time": "2021-11-12T14:11:21.687Z"
   },
   {
    "duration": 14,
    "start_time": "2021-11-12T14:11:33.992Z"
   },
   {
    "duration": 19,
    "start_time": "2021-11-12T14:12:28.963Z"
   },
   {
    "duration": 65,
    "start_time": "2021-11-12T14:12:41.059Z"
   },
   {
    "duration": 40,
    "start_time": "2021-11-12T14:12:41.126Z"
   },
   {
    "duration": 13,
    "start_time": "2021-11-12T14:12:41.168Z"
   },
   {
    "duration": 32,
    "start_time": "2021-11-12T14:12:41.207Z"
   },
   {
    "duration": 3,
    "start_time": "2021-11-12T14:12:41.240Z"
   },
   {
    "duration": 471,
    "start_time": "2021-11-12T14:12:41.245Z"
   },
   {
    "duration": 21,
    "start_time": "2021-11-12T14:12:41.718Z"
   },
   {
    "duration": 7,
    "start_time": "2021-11-12T14:12:41.741Z"
   },
   {
    "duration": 15,
    "start_time": "2021-11-12T14:12:41.750Z"
   },
   {
    "duration": 357,
    "start_time": "2021-11-12T14:13:33.554Z"
   },
   {
    "duration": 18,
    "start_time": "2021-11-12T14:14:05.499Z"
   },
   {
    "duration": 65,
    "start_time": "2021-11-12T14:14:12.867Z"
   },
   {
    "duration": 40,
    "start_time": "2021-11-12T14:14:12.934Z"
   },
   {
    "duration": 38,
    "start_time": "2021-11-12T14:14:12.976Z"
   },
   {
    "duration": 27,
    "start_time": "2021-11-12T14:14:13.016Z"
   },
   {
    "duration": 3,
    "start_time": "2021-11-12T14:14:13.045Z"
   },
   {
    "duration": 369,
    "start_time": "2021-11-12T14:14:13.049Z"
   },
   {
    "duration": 18,
    "start_time": "2021-11-12T14:14:13.420Z"
   },
   {
    "duration": 5,
    "start_time": "2021-11-12T14:14:13.440Z"
   },
   {
    "duration": 11,
    "start_time": "2021-11-12T14:14:13.446Z"
   },
   {
    "duration": 65,
    "start_time": "2021-11-12T15:32:55.169Z"
   },
   {
    "duration": 39,
    "start_time": "2021-11-12T15:32:55.235Z"
   },
   {
    "duration": 38,
    "start_time": "2021-11-12T15:32:55.276Z"
   },
   {
    "duration": 32,
    "start_time": "2021-11-12T15:32:55.316Z"
   },
   {
    "duration": 4,
    "start_time": "2021-11-12T15:32:55.350Z"
   },
   {
    "duration": 379,
    "start_time": "2021-11-12T15:32:55.356Z"
   },
   {
    "duration": 12,
    "start_time": "2021-11-12T15:32:55.737Z"
   },
   {
    "duration": 6,
    "start_time": "2021-11-12T15:32:55.751Z"
   },
   {
    "duration": 23,
    "start_time": "2021-11-12T15:32:55.758Z"
   },
   {
    "duration": 63,
    "start_time": "2021-11-12T15:33:39.156Z"
   },
   {
    "duration": 36,
    "start_time": "2021-11-12T15:33:39.221Z"
   },
   {
    "duration": 11,
    "start_time": "2021-11-12T15:33:39.259Z"
   },
   {
    "duration": 54,
    "start_time": "2021-11-12T15:33:39.272Z"
   },
   {
    "duration": 3,
    "start_time": "2021-11-12T15:33:39.327Z"
   },
   {
    "duration": 358,
    "start_time": "2021-11-12T15:33:39.332Z"
   },
   {
    "duration": 18,
    "start_time": "2021-11-12T15:33:39.692Z"
   },
   {
    "duration": 5,
    "start_time": "2021-11-12T15:33:39.712Z"
   },
   {
    "duration": 22,
    "start_time": "2021-11-12T15:33:39.719Z"
   },
   {
    "duration": 65,
    "start_time": "2021-11-12T15:34:12.609Z"
   },
   {
    "duration": 43,
    "start_time": "2021-11-12T15:34:12.676Z"
   },
   {
    "duration": 12,
    "start_time": "2021-11-12T15:34:12.721Z"
   },
   {
    "duration": 28,
    "start_time": "2021-11-12T15:34:12.735Z"
   },
   {
    "duration": 3759,
    "start_time": "2021-11-12T15:34:12.765Z"
   },
   {
    "duration": 344,
    "start_time": "2021-11-12T15:34:16.526Z"
   },
   {
    "duration": 17,
    "start_time": "2021-11-12T15:34:16.871Z"
   },
   {
    "duration": 19,
    "start_time": "2021-11-12T15:34:16.890Z"
   },
   {
    "duration": 9,
    "start_time": "2021-11-12T15:34:16.911Z"
   },
   {
    "duration": 71,
    "start_time": "2021-11-12T15:34:22.339Z"
   },
   {
    "duration": 36,
    "start_time": "2021-11-12T15:34:22.412Z"
   },
   {
    "duration": 11,
    "start_time": "2021-11-12T15:34:22.450Z"
   },
   {
    "duration": 60,
    "start_time": "2021-11-12T15:34:22.463Z"
   },
   {
    "duration": 3281,
    "start_time": "2021-11-12T15:34:22.525Z"
   },
   {
    "duration": 347,
    "start_time": "2021-11-12T15:34:25.808Z"
   },
   {
    "duration": 18,
    "start_time": "2021-11-12T15:34:26.156Z"
   },
   {
    "duration": 11,
    "start_time": "2021-11-12T15:34:26.177Z"
   },
   {
    "duration": 25,
    "start_time": "2021-11-12T15:34:26.190Z"
   },
   {
    "duration": 71,
    "start_time": "2021-11-12T15:40:26.660Z"
   },
   {
    "duration": 36,
    "start_time": "2021-11-12T15:40:26.733Z"
   },
   {
    "duration": 13,
    "start_time": "2021-11-12T15:40:26.771Z"
   },
   {
    "duration": 50,
    "start_time": "2021-11-12T15:40:26.787Z"
   },
   {
    "duration": 3893,
    "start_time": "2021-11-12T15:40:26.838Z"
   },
   {
    "duration": 476,
    "start_time": "2021-11-12T15:40:30.733Z"
   },
   {
    "duration": 19,
    "start_time": "2021-11-12T15:40:31.211Z"
   },
   {
    "duration": 6,
    "start_time": "2021-11-12T15:40:31.232Z"
   },
   {
    "duration": 40,
    "start_time": "2021-11-12T15:40:31.241Z"
   },
   {
    "duration": 341,
    "start_time": "2021-11-12T16:04:53.510Z"
   },
   {
    "duration": 344,
    "start_time": "2021-11-12T16:05:10.386Z"
   },
   {
    "duration": 66,
    "start_time": "2021-11-12T16:05:17.781Z"
   },
   {
    "duration": 36,
    "start_time": "2021-11-12T16:05:17.848Z"
   },
   {
    "duration": 28,
    "start_time": "2021-11-12T16:05:17.886Z"
   },
   {
    "duration": 34,
    "start_time": "2021-11-12T16:05:17.916Z"
   },
   {
    "duration": 3555,
    "start_time": "2021-11-12T16:05:17.952Z"
   },
   {
    "duration": 415,
    "start_time": "2021-11-12T16:05:21.509Z"
   },
   {
    "duration": 42,
    "start_time": "2021-11-12T16:05:21.926Z"
   },
   {
    "duration": 5,
    "start_time": "2021-11-12T16:05:21.970Z"
   },
   {
    "duration": 389,
    "start_time": "2021-11-12T16:05:21.977Z"
   },
   {
    "duration": -37,
    "start_time": "2021-11-12T16:05:22.405Z"
   },
   {
    "duration": 68,
    "start_time": "2021-11-12T16:10:50.021Z"
   },
   {
    "duration": 35,
    "start_time": "2021-11-12T16:10:50.091Z"
   },
   {
    "duration": 11,
    "start_time": "2021-11-12T16:10:50.128Z"
   },
   {
    "duration": 27,
    "start_time": "2021-11-12T16:10:50.141Z"
   },
   {
    "duration": 3538,
    "start_time": "2021-11-12T16:10:50.169Z"
   },
   {
    "duration": 5,
    "start_time": "2021-11-12T16:10:53.709Z"
   },
   {
    "duration": 24,
    "start_time": "2021-11-12T16:10:53.715Z"
   },
   {
    "duration": 6,
    "start_time": "2021-11-12T16:10:53.741Z"
   },
   {
    "duration": 116,
    "start_time": "2021-11-12T16:10:53.748Z"
   },
   {
    "duration": -55,
    "start_time": "2021-11-12T16:10:53.921Z"
   },
   {
    "duration": 69,
    "start_time": "2021-11-12T16:15:43.046Z"
   },
   {
    "duration": 37,
    "start_time": "2021-11-12T16:15:43.117Z"
   },
   {
    "duration": 12,
    "start_time": "2021-11-12T16:15:43.156Z"
   },
   {
    "duration": 58,
    "start_time": "2021-11-12T16:15:43.170Z"
   },
   {
    "duration": 3643,
    "start_time": "2021-11-12T16:15:43.230Z"
   },
   {
    "duration": 11,
    "start_time": "2021-11-12T16:15:46.875Z"
   },
   {
    "duration": 33,
    "start_time": "2021-11-12T16:15:46.888Z"
   },
   {
    "duration": 5,
    "start_time": "2021-11-12T16:15:46.923Z"
   },
   {
    "duration": 144,
    "start_time": "2021-11-12T16:15:46.930Z"
   },
   {
    "duration": 49,
    "start_time": "2021-11-12T16:15:47.027Z"
   },
   {
    "duration": 80,
    "start_time": "2021-11-12T16:16:31.463Z"
   },
   {
    "duration": 45,
    "start_time": "2021-11-12T16:16:31.545Z"
   },
   {
    "duration": 18,
    "start_time": "2021-11-12T16:16:31.607Z"
   },
   {
    "duration": 42,
    "start_time": "2021-11-12T16:16:31.627Z"
   },
   {
    "duration": 3922,
    "start_time": "2021-11-12T16:16:31.671Z"
   },
   {
    "duration": 28,
    "start_time": "2021-11-12T16:16:35.594Z"
   },
   {
    "duration": 24,
    "start_time": "2021-11-12T16:16:35.624Z"
   },
   {
    "duration": 7,
    "start_time": "2021-11-12T16:16:35.650Z"
   },
   {
    "duration": 134,
    "start_time": "2021-11-12T16:16:35.659Z"
   },
   {
    "duration": 8,
    "start_time": "2021-11-12T16:16:35.786Z"
   },
   {
    "duration": 76,
    "start_time": "2021-11-12T16:17:14.373Z"
   },
   {
    "duration": 55,
    "start_time": "2021-11-12T16:17:14.451Z"
   },
   {
    "duration": 12,
    "start_time": "2021-11-12T16:17:14.509Z"
   },
   {
    "duration": 36,
    "start_time": "2021-11-12T16:17:14.523Z"
   },
   {
    "duration": 3665,
    "start_time": "2021-11-12T16:17:14.560Z"
   },
   {
    "duration": 13,
    "start_time": "2021-11-12T16:17:18.227Z"
   },
   {
    "duration": 26,
    "start_time": "2021-11-12T16:17:18.242Z"
   },
   {
    "duration": 6,
    "start_time": "2021-11-12T16:17:18.270Z"
   },
   {
    "duration": 171,
    "start_time": "2021-11-12T16:17:18.277Z"
   },
   {
    "duration": 57,
    "start_time": "2021-11-12T16:17:18.393Z"
   },
   {
    "duration": 69,
    "start_time": "2021-11-12T16:32:04.228Z"
   },
   {
    "duration": 41,
    "start_time": "2021-11-12T16:32:04.299Z"
   },
   {
    "duration": 12,
    "start_time": "2021-11-12T16:32:04.342Z"
   },
   {
    "duration": 66,
    "start_time": "2021-11-12T16:32:04.356Z"
   },
   {
    "duration": 3688,
    "start_time": "2021-11-12T16:32:04.423Z"
   },
   {
    "duration": 14,
    "start_time": "2021-11-12T16:32:08.113Z"
   },
   {
    "duration": 20,
    "start_time": "2021-11-12T16:32:08.129Z"
   },
   {
    "duration": 6,
    "start_time": "2021-11-12T16:32:08.151Z"
   },
   {
    "duration": 131,
    "start_time": "2021-11-12T16:32:08.159Z"
   },
   {
    "duration": 88,
    "start_time": "2021-11-12T16:32:08.204Z"
   },
   {
    "duration": 3731,
    "start_time": "2021-11-12T16:33:20.856Z"
   },
   {
    "duration": 71,
    "start_time": "2021-11-12T16:33:45.489Z"
   },
   {
    "duration": 56,
    "start_time": "2021-11-12T16:33:45.561Z"
   },
   {
    "duration": 12,
    "start_time": "2021-11-12T16:33:45.619Z"
   },
   {
    "duration": 31,
    "start_time": "2021-11-12T16:33:45.633Z"
   },
   {
    "duration": 4135,
    "start_time": "2021-11-12T16:33:45.666Z"
   },
   {
    "duration": 38,
    "start_time": "2021-11-12T16:33:49.765Z"
   },
   {
    "duration": 36,
    "start_time": "2021-11-12T16:33:49.768Z"
   },
   {
    "duration": 32,
    "start_time": "2021-11-12T16:33:49.773Z"
   },
   {
    "duration": 17,
    "start_time": "2021-11-12T16:33:49.789Z"
   },
   {
    "duration": -45,
    "start_time": "2021-11-12T16:33:49.852Z"
   },
   {
    "duration": 3620,
    "start_time": "2021-11-12T16:39:23.771Z"
   },
   {
    "duration": 68,
    "start_time": "2021-11-12T16:43:52.629Z"
   },
   {
    "duration": 39,
    "start_time": "2021-11-12T16:43:52.699Z"
   },
   {
    "duration": 13,
    "start_time": "2021-11-12T16:43:52.740Z"
   },
   {
    "duration": 64,
    "start_time": "2021-11-12T16:43:52.756Z"
   },
   {
    "duration": 3794,
    "start_time": "2021-11-12T16:43:52.821Z"
   },
   {
    "duration": 39,
    "start_time": "2021-11-12T16:43:56.578Z"
   },
   {
    "duration": 36,
    "start_time": "2021-11-12T16:43:56.583Z"
   },
   {
    "duration": 32,
    "start_time": "2021-11-12T16:43:56.588Z"
   },
   {
    "duration": 30,
    "start_time": "2021-11-12T16:43:56.591Z"
   },
   {
    "duration": 27,
    "start_time": "2021-11-12T16:43:56.594Z"
   },
   {
    "duration": 67,
    "start_time": "2021-11-12T16:44:56.594Z"
   },
   {
    "duration": 52,
    "start_time": "2021-11-12T16:44:56.663Z"
   },
   {
    "duration": 12,
    "start_time": "2021-11-12T16:44:56.717Z"
   },
   {
    "duration": 27,
    "start_time": "2021-11-12T16:44:56.730Z"
   },
   {
    "duration": 4544,
    "start_time": "2021-11-12T16:44:56.759Z"
   },
   {
    "duration": 20,
    "start_time": "2021-11-12T16:45:01.285Z"
   },
   {
    "duration": -30,
    "start_time": "2021-11-12T16:45:01.336Z"
   },
   {
    "duration": -36,
    "start_time": "2021-11-12T16:45:01.343Z"
   },
   {
    "duration": -38,
    "start_time": "2021-11-12T16:45:01.346Z"
   },
   {
    "duration": -52,
    "start_time": "2021-11-12T16:45:01.361Z"
   },
   {
    "duration": 68,
    "start_time": "2021-11-12T16:45:20.643Z"
   },
   {
    "duration": 37,
    "start_time": "2021-11-12T16:45:20.713Z"
   },
   {
    "duration": 12,
    "start_time": "2021-11-12T16:45:20.752Z"
   },
   {
    "duration": 57,
    "start_time": "2021-11-12T16:45:20.766Z"
   },
   {
    "duration": 3637,
    "start_time": "2021-11-12T16:45:20.824Z"
   },
   {
    "duration": 6,
    "start_time": "2021-11-12T16:45:24.463Z"
   },
   {
    "duration": 37,
    "start_time": "2021-11-12T16:45:24.471Z"
   },
   {
    "duration": 7,
    "start_time": "2021-11-12T16:45:24.511Z"
   },
   {
    "duration": 118,
    "start_time": "2021-11-12T16:45:24.520Z"
   },
   {
    "duration": -93,
    "start_time": "2021-11-12T16:45:24.733Z"
   },
   {
    "duration": 72,
    "start_time": "2021-11-12T16:48:33.361Z"
   },
   {
    "duration": 45,
    "start_time": "2021-11-12T16:48:33.436Z"
   },
   {
    "duration": 37,
    "start_time": "2021-11-12T16:48:33.483Z"
   },
   {
    "duration": 33,
    "start_time": "2021-11-12T16:48:33.523Z"
   },
   {
    "duration": 3656,
    "start_time": "2021-11-12T16:48:33.557Z"
   },
   {
    "duration": 19,
    "start_time": "2021-11-12T16:48:37.215Z"
   },
   {
    "duration": 15,
    "start_time": "2021-11-12T16:48:37.236Z"
   },
   {
    "duration": 132,
    "start_time": "2021-11-12T16:48:37.253Z"
   },
   {
    "duration": 91,
    "start_time": "2021-11-12T16:48:37.296Z"
   },
   {
    "duration": 68,
    "start_time": "2021-11-12T16:50:42.711Z"
   },
   {
    "duration": 46,
    "start_time": "2021-11-12T16:50:42.781Z"
   },
   {
    "duration": 11,
    "start_time": "2021-11-12T16:50:42.830Z"
   },
   {
    "duration": 64,
    "start_time": "2021-11-12T16:50:42.844Z"
   },
   {
    "duration": 4143,
    "start_time": "2021-11-12T16:50:42.910Z"
   },
   {
    "duration": 56,
    "start_time": "2021-11-12T16:50:46.999Z"
   },
   {
    "duration": 52,
    "start_time": "2021-11-12T16:50:47.004Z"
   },
   {
    "duration": 49,
    "start_time": "2021-11-12T16:50:47.008Z"
   },
   {
    "duration": 44,
    "start_time": "2021-11-12T16:50:47.014Z"
   },
   {
    "duration": 68,
    "start_time": "2021-11-12T16:53:13.823Z"
   },
   {
    "duration": 38,
    "start_time": "2021-11-12T16:53:13.893Z"
   },
   {
    "duration": 11,
    "start_time": "2021-11-12T16:53:13.933Z"
   },
   {
    "duration": 62,
    "start_time": "2021-11-12T16:53:13.946Z"
   },
   {
    "duration": 3791,
    "start_time": "2021-11-12T16:53:14.010Z"
   },
   {
    "duration": 43,
    "start_time": "2021-11-12T16:53:17.761Z"
   },
   {
    "duration": -1,
    "start_time": "2021-11-12T16:53:17.807Z"
   },
   {
    "duration": -5,
    "start_time": "2021-11-12T16:53:17.812Z"
   },
   {
    "duration": -14,
    "start_time": "2021-11-12T16:53:17.822Z"
   },
   {
    "duration": 69,
    "start_time": "2021-11-12T16:54:53.134Z"
   },
   {
    "duration": 37,
    "start_time": "2021-11-12T16:54:53.205Z"
   },
   {
    "duration": 12,
    "start_time": "2021-11-12T16:54:53.244Z"
   },
   {
    "duration": 61,
    "start_time": "2021-11-12T16:54:53.258Z"
   },
   {
    "duration": 3486,
    "start_time": "2021-11-12T16:54:53.320Z"
   },
   {
    "duration": 18,
    "start_time": "2021-11-12T16:54:56.808Z"
   },
   {
    "duration": 6,
    "start_time": "2021-11-12T16:54:56.827Z"
   },
   {
    "duration": 115,
    "start_time": "2021-11-12T16:54:56.835Z"
   },
   {
    "duration": -19,
    "start_time": "2021-11-12T16:54:56.971Z"
   },
   {
    "duration": 155,
    "start_time": "2021-11-12T16:58:49.404Z"
   },
   {
    "duration": 70,
    "start_time": "2021-11-12T16:59:10.760Z"
   },
   {
    "duration": 35,
    "start_time": "2021-11-12T16:59:10.831Z"
   },
   {
    "duration": 11,
    "start_time": "2021-11-12T16:59:10.868Z"
   },
   {
    "duration": 49,
    "start_time": "2021-11-12T16:59:10.881Z"
   },
   {
    "duration": 3672,
    "start_time": "2021-11-12T16:59:10.931Z"
   },
   {
    "duration": 126,
    "start_time": "2021-11-12T16:59:14.606Z"
   },
   {
    "duration": -53,
    "start_time": "2021-11-12T16:59:14.787Z"
   },
   {
    "duration": -55,
    "start_time": "2021-11-12T16:59:14.790Z"
   },
   {
    "duration": -58,
    "start_time": "2021-11-12T16:59:14.794Z"
   },
   {
    "duration": -64,
    "start_time": "2021-11-12T16:59:14.802Z"
   },
   {
    "duration": 68,
    "start_time": "2021-11-12T16:59:47.866Z"
   },
   {
    "duration": 40,
    "start_time": "2021-11-12T16:59:47.936Z"
   },
   {
    "duration": 37,
    "start_time": "2021-11-12T16:59:47.979Z"
   },
   {
    "duration": 35,
    "start_time": "2021-11-12T16:59:48.018Z"
   },
   {
    "duration": 3697,
    "start_time": "2021-11-12T16:59:48.055Z"
   },
   {
    "duration": 2,
    "start_time": "2021-11-12T16:59:51.754Z"
   },
   {
    "duration": 30,
    "start_time": "2021-11-12T16:59:51.758Z"
   },
   {
    "duration": 12,
    "start_time": "2021-11-12T16:59:51.790Z"
   },
   {
    "duration": 120,
    "start_time": "2021-11-12T16:59:51.806Z"
   },
   {
    "duration": 24,
    "start_time": "2021-11-12T16:59:51.904Z"
   },
   {
    "duration": 523,
    "start_time": "2021-11-12T17:00:41.443Z"
   },
   {
    "duration": 527,
    "start_time": "2021-11-12T17:01:11.986Z"
   },
   {
    "duration": 68,
    "start_time": "2021-11-12T17:02:05.944Z"
   },
   {
    "duration": 37,
    "start_time": "2021-11-12T17:02:06.014Z"
   },
   {
    "duration": 12,
    "start_time": "2021-11-12T17:02:06.053Z"
   },
   {
    "duration": 30,
    "start_time": "2021-11-12T17:02:06.067Z"
   },
   {
    "duration": 3602,
    "start_time": "2021-11-12T17:02:06.106Z"
   },
   {
    "duration": 2,
    "start_time": "2021-11-12T17:02:09.710Z"
   },
   {
    "duration": 20,
    "start_time": "2021-11-12T17:02:09.714Z"
   },
   {
    "duration": 6,
    "start_time": "2021-11-12T17:02:09.736Z"
   },
   {
    "duration": 712,
    "start_time": "2021-11-12T17:02:09.744Z"
   },
   {
    "duration": -25,
    "start_time": "2021-11-12T17:02:10.483Z"
   },
   {
    "duration": 68,
    "start_time": "2021-11-12T17:02:25.541Z"
   },
   {
    "duration": 34,
    "start_time": "2021-11-12T17:02:25.611Z"
   },
   {
    "duration": 11,
    "start_time": "2021-11-12T17:02:25.647Z"
   },
   {
    "duration": 60,
    "start_time": "2021-11-12T17:02:25.660Z"
   },
   {
    "duration": 3585,
    "start_time": "2021-11-12T17:02:25.721Z"
   },
   {
    "duration": 2,
    "start_time": "2021-11-12T17:02:29.308Z"
   },
   {
    "duration": 20,
    "start_time": "2021-11-12T17:02:29.312Z"
   },
   {
    "duration": 6,
    "start_time": "2021-11-12T17:02:29.334Z"
   },
   {
    "duration": 372,
    "start_time": "2021-11-12T17:02:29.341Z"
   },
   {
    "duration": 10,
    "start_time": "2021-11-12T17:02:29.715Z"
   },
   {
    "duration": 69,
    "start_time": "2021-11-12T17:04:44.029Z"
   },
   {
    "duration": 37,
    "start_time": "2021-11-12T17:04:44.100Z"
   },
   {
    "duration": 11,
    "start_time": "2021-11-12T17:04:44.139Z"
   },
   {
    "duration": 54,
    "start_time": "2021-11-12T17:04:44.152Z"
   },
   {
    "duration": 3532,
    "start_time": "2021-11-12T17:04:44.208Z"
   },
   {
    "duration": 3,
    "start_time": "2021-11-12T17:04:47.741Z"
   },
   {
    "duration": 27,
    "start_time": "2021-11-12T17:04:47.746Z"
   },
   {
    "duration": 6,
    "start_time": "2021-11-12T17:04:47.775Z"
   },
   {
    "duration": 367,
    "start_time": "2021-11-12T17:04:47.783Z"
   },
   {
    "duration": 11,
    "start_time": "2021-11-12T17:04:48.152Z"
   },
   {
    "duration": 67,
    "start_time": "2021-11-12T17:05:21.585Z"
   },
   {
    "duration": 52,
    "start_time": "2021-11-12T17:05:21.654Z"
   },
   {
    "duration": 13,
    "start_time": "2021-11-12T17:05:21.708Z"
   },
   {
    "duration": 32,
    "start_time": "2021-11-12T17:05:21.723Z"
   },
   {
    "duration": 3504,
    "start_time": "2021-11-12T17:05:21.757Z"
   },
   {
    "duration": 2,
    "start_time": "2021-11-12T17:05:25.263Z"
   },
   {
    "duration": 21,
    "start_time": "2021-11-12T17:05:25.267Z"
   },
   {
    "duration": 7,
    "start_time": "2021-11-12T17:05:25.306Z"
   },
   {
    "duration": 349,
    "start_time": "2021-11-12T17:05:25.315Z"
   },
   {
    "duration": 11,
    "start_time": "2021-11-12T17:05:25.666Z"
   },
   {
    "duration": 67,
    "start_time": "2021-11-12T17:06:15.227Z"
   },
   {
    "duration": 37,
    "start_time": "2021-11-12T17:06:15.296Z"
   },
   {
    "duration": 12,
    "start_time": "2021-11-12T17:06:15.335Z"
   },
   {
    "duration": 57,
    "start_time": "2021-11-12T17:06:15.349Z"
   },
   {
    "duration": 3809,
    "start_time": "2021-11-12T17:06:15.408Z"
   },
   {
    "duration": 2,
    "start_time": "2021-11-12T17:06:19.219Z"
   },
   {
    "duration": 24,
    "start_time": "2021-11-12T17:06:19.222Z"
   },
   {
    "duration": 5,
    "start_time": "2021-11-12T17:06:19.248Z"
   },
   {
    "duration": 795,
    "start_time": "2021-11-12T17:06:19.254Z"
   },
   {
    "duration": -133,
    "start_time": "2021-11-12T17:06:20.185Z"
   },
   {
    "duration": 69,
    "start_time": "2021-11-12T17:06:54.957Z"
   },
   {
    "duration": 36,
    "start_time": "2021-11-12T17:06:55.027Z"
   },
   {
    "duration": 20,
    "start_time": "2021-11-12T17:06:55.065Z"
   },
   {
    "duration": 43,
    "start_time": "2021-11-12T17:06:55.087Z"
   },
   {
    "duration": 3420,
    "start_time": "2021-11-12T17:06:55.132Z"
   },
   {
    "duration": 2,
    "start_time": "2021-11-12T17:06:58.554Z"
   },
   {
    "duration": 20,
    "start_time": "2021-11-12T17:06:58.558Z"
   },
   {
    "duration": 5,
    "start_time": "2021-11-12T17:06:58.581Z"
   },
   {
    "duration": 402,
    "start_time": "2021-11-12T17:06:58.607Z"
   },
   {
    "duration": 10,
    "start_time": "2021-11-12T17:06:59.011Z"
   },
   {
    "duration": 66,
    "start_time": "2021-11-12T17:07:30.429Z"
   },
   {
    "duration": 36,
    "start_time": "2021-11-12T17:07:30.497Z"
   },
   {
    "duration": 12,
    "start_time": "2021-11-12T17:07:30.535Z"
   },
   {
    "duration": 58,
    "start_time": "2021-11-12T17:07:30.549Z"
   },
   {
    "duration": 3518,
    "start_time": "2021-11-12T17:07:30.609Z"
   },
   {
    "duration": 2,
    "start_time": "2021-11-12T17:07:34.129Z"
   },
   {
    "duration": 20,
    "start_time": "2021-11-12T17:07:34.132Z"
   },
   {
    "duration": 6,
    "start_time": "2021-11-12T17:07:34.154Z"
   },
   {
    "duration": 111,
    "start_time": "2021-11-12T17:07:34.161Z"
   },
   {
    "duration": -60,
    "start_time": "2021-11-12T17:07:34.334Z"
   },
   {
    "duration": 68,
    "start_time": "2021-11-12T17:07:50.351Z"
   },
   {
    "duration": 35,
    "start_time": "2021-11-12T17:07:50.421Z"
   },
   {
    "duration": 12,
    "start_time": "2021-11-12T17:07:50.458Z"
   },
   {
    "duration": 56,
    "start_time": "2021-11-12T17:07:50.472Z"
   },
   {
    "duration": 3512,
    "start_time": "2021-11-12T17:07:50.530Z"
   },
   {
    "duration": 3,
    "start_time": "2021-11-12T17:07:54.043Z"
   },
   {
    "duration": 20,
    "start_time": "2021-11-12T17:07:54.047Z"
   },
   {
    "duration": 5,
    "start_time": "2021-11-12T17:07:54.069Z"
   },
   {
    "duration": 412,
    "start_time": "2021-11-12T17:07:54.076Z"
   },
   {
    "duration": 21,
    "start_time": "2021-11-12T17:07:54.490Z"
   },
   {
    "duration": 69,
    "start_time": "2021-11-12T17:08:29.548Z"
   },
   {
    "duration": 36,
    "start_time": "2021-11-12T17:08:29.619Z"
   },
   {
    "duration": 12,
    "start_time": "2021-11-12T17:08:29.658Z"
   },
   {
    "duration": 56,
    "start_time": "2021-11-12T17:08:29.671Z"
   },
   {
    "duration": 3550,
    "start_time": "2021-11-12T17:08:29.728Z"
   },
   {
    "duration": 3,
    "start_time": "2021-11-12T17:08:33.281Z"
   },
   {
    "duration": 52,
    "start_time": "2021-11-12T17:08:33.286Z"
   },
   {
    "duration": 9,
    "start_time": "2021-11-12T17:08:33.340Z"
   },
   {
    "duration": 444,
    "start_time": "2021-11-12T17:08:33.351Z"
   },
   {
    "duration": 16,
    "start_time": "2021-11-12T17:08:33.797Z"
   },
   {
    "duration": 69,
    "start_time": "2021-11-12T17:17:58.821Z"
   },
   {
    "duration": 37,
    "start_time": "2021-11-12T17:17:58.892Z"
   },
   {
    "duration": 44,
    "start_time": "2021-11-12T17:17:58.930Z"
   },
   {
    "duration": 45,
    "start_time": "2021-11-12T17:17:58.976Z"
   },
   {
    "duration": 3723,
    "start_time": "2021-11-12T17:17:59.023Z"
   },
   {
    "duration": 17,
    "start_time": "2021-11-12T17:18:24.306Z"
   },
   {
    "duration": 7,
    "start_time": "2021-11-12T17:18:24.325Z"
   },
   {
    "duration": 635,
    "start_time": "2021-11-12T17:18:24.333Z"
   },
   {
    "duration": -133,
    "start_time": "2021-11-12T17:18:25.104Z"
   },
   {
    "duration": -137,
    "start_time": "2021-11-12T17:18:25.109Z"
   },
   {
    "duration": 64,
    "start_time": "2021-11-12T17:18:27.378Z"
   },
   {
    "duration": 38,
    "start_time": "2021-11-12T17:18:27.443Z"
   },
   {
    "duration": 37,
    "start_time": "2021-11-12T17:18:27.483Z"
   },
   {
    "duration": 39,
    "start_time": "2021-11-12T17:18:27.522Z"
   },
   {
    "duration": 3478,
    "start_time": "2021-11-12T17:18:27.562Z"
   },
   {
    "duration": 21985,
    "start_time": "2021-11-12T17:18:31.041Z"
   },
   {
    "duration": 19,
    "start_time": "2021-11-12T17:18:53.027Z"
   },
   {
    "duration": 6,
    "start_time": "2021-11-12T17:18:53.048Z"
   },
   {
    "duration": 604,
    "start_time": "2021-11-12T17:18:53.056Z"
   },
   {
    "duration": -100,
    "start_time": "2021-11-12T17:18:53.762Z"
   },
   {
    "duration": 62,
    "start_time": "2021-11-12T17:20:01.613Z"
   },
   {
    "duration": 41,
    "start_time": "2021-11-12T17:20:01.677Z"
   },
   {
    "duration": 11,
    "start_time": "2021-11-12T17:20:01.720Z"
   },
   {
    "duration": 44,
    "start_time": "2021-11-12T17:20:01.733Z"
   },
   {
    "duration": 3486,
    "start_time": "2021-11-12T17:20:01.778Z"
   },
   {
    "duration": 139,
    "start_time": "2021-11-12T17:20:05.266Z"
   },
   {
    "duration": -94,
    "start_time": "2021-11-12T17:20:05.501Z"
   },
   {
    "duration": -97,
    "start_time": "2021-11-12T17:20:05.505Z"
   },
   {
    "duration": -101,
    "start_time": "2021-11-12T17:20:05.510Z"
   },
   {
    "duration": -111,
    "start_time": "2021-11-12T17:20:05.521Z"
   },
   {
    "duration": 68,
    "start_time": "2021-11-12T17:20:51.473Z"
   },
   {
    "duration": 38,
    "start_time": "2021-11-12T17:20:51.543Z"
   },
   {
    "duration": 34,
    "start_time": "2021-11-12T17:20:51.582Z"
   },
   {
    "duration": 45,
    "start_time": "2021-11-12T17:20:51.618Z"
   },
   {
    "duration": 3491,
    "start_time": "2021-11-12T17:20:51.665Z"
   },
   {
    "duration": 214,
    "start_time": "2021-11-12T17:20:55.158Z"
   },
   {
    "duration": 18,
    "start_time": "2021-11-12T17:20:55.373Z"
   },
   {
    "duration": 18,
    "start_time": "2021-11-12T17:20:55.393Z"
   },
   {
    "duration": 631,
    "start_time": "2021-11-12T17:20:55.412Z"
   },
   {
    "duration": -98,
    "start_time": "2021-11-12T17:20:56.143Z"
   },
   {
    "duration": 62,
    "start_time": "2021-11-12T17:22:28.278Z"
   },
   {
    "duration": 37,
    "start_time": "2021-11-12T17:22:28.342Z"
   },
   {
    "duration": 28,
    "start_time": "2021-11-12T17:22:28.381Z"
   },
   {
    "duration": 29,
    "start_time": "2021-11-12T17:22:28.411Z"
   },
   {
    "duration": 3620,
    "start_time": "2021-11-12T17:22:28.441Z"
   },
   {
    "duration": 24256,
    "start_time": "2021-11-12T17:22:32.063Z"
   },
   {
    "duration": 18,
    "start_time": "2021-11-12T17:22:56.321Z"
   },
   {
    "duration": 6,
    "start_time": "2021-11-12T17:22:56.341Z"
   },
   {
    "duration": 601,
    "start_time": "2021-11-12T17:22:56.348Z"
   },
   {
    "duration": -116,
    "start_time": "2021-11-12T17:22:57.067Z"
   },
   {
    "duration": 66,
    "start_time": "2021-11-12T17:33:42.351Z"
   },
   {
    "duration": 34,
    "start_time": "2021-11-12T17:33:42.418Z"
   },
   {
    "duration": 12,
    "start_time": "2021-11-12T17:33:42.454Z"
   },
   {
    "duration": 61,
    "start_time": "2021-11-12T17:33:42.468Z"
   },
   {
    "duration": 3337,
    "start_time": "2021-11-12T17:33:42.530Z"
   },
   {
    "duration": 13,
    "start_time": "2021-11-12T17:33:45.868Z"
   },
   {
    "duration": 35,
    "start_time": "2021-11-12T17:33:45.883Z"
   },
   {
    "duration": 5,
    "start_time": "2021-11-12T17:33:45.920Z"
   },
   {
    "duration": 618,
    "start_time": "2021-11-12T17:33:45.927Z"
   },
   {
    "duration": -228,
    "start_time": "2021-11-12T17:33:46.774Z"
   },
   {
    "duration": 66,
    "start_time": "2021-11-12T17:34:51.519Z"
   },
   {
    "duration": 41,
    "start_time": "2021-11-12T17:34:51.588Z"
   },
   {
    "duration": 12,
    "start_time": "2021-11-12T17:34:51.632Z"
   },
   {
    "duration": 61,
    "start_time": "2021-11-12T17:34:51.646Z"
   },
   {
    "duration": 3266,
    "start_time": "2021-11-12T17:34:51.709Z"
   },
   {
    "duration": 14,
    "start_time": "2021-11-12T17:34:54.977Z"
   },
   {
    "duration": 18,
    "start_time": "2021-11-12T17:34:55.006Z"
   },
   {
    "duration": 7,
    "start_time": "2021-11-12T17:34:55.026Z"
   },
   {
    "duration": 623,
    "start_time": "2021-11-12T17:34:55.034Z"
   },
   {
    "duration": -55,
    "start_time": "2021-11-12T17:34:55.714Z"
   },
   {
    "duration": 69,
    "start_time": "2021-11-12T17:41:11.284Z"
   },
   {
    "duration": 54,
    "start_time": "2021-11-12T17:41:11.356Z"
   },
   {
    "duration": 12,
    "start_time": "2021-11-12T17:41:11.412Z"
   },
   {
    "duration": 35,
    "start_time": "2021-11-12T17:41:11.426Z"
   },
   {
    "duration": 3412,
    "start_time": "2021-11-12T17:41:11.463Z"
   },
   {
    "duration": 14,
    "start_time": "2021-11-12T17:41:14.877Z"
   },
   {
    "duration": 30,
    "start_time": "2021-11-12T17:41:14.892Z"
   },
   {
    "duration": 6,
    "start_time": "2021-11-12T17:41:14.924Z"
   },
   {
    "duration": 653,
    "start_time": "2021-11-12T17:41:14.932Z"
   },
   {
    "duration": -56,
    "start_time": "2021-11-12T17:41:15.643Z"
   },
   {
    "duration": 572,
    "start_time": "2021-11-12T17:41:40.961Z"
   },
   {
    "duration": 576,
    "start_time": "2021-11-12T17:42:18.439Z"
   },
   {
    "duration": 622,
    "start_time": "2021-11-12T17:42:53.439Z"
   },
   {
    "duration": 394,
    "start_time": "2021-11-12T17:44:16.605Z"
   },
   {
    "duration": 93,
    "start_time": "2021-11-12T17:48:04.363Z"
   },
   {
    "duration": 60,
    "start_time": "2021-11-12T17:48:04.458Z"
   },
   {
    "duration": 13,
    "start_time": "2021-11-12T17:48:04.520Z"
   },
   {
    "duration": 35,
    "start_time": "2021-11-12T17:48:04.534Z"
   },
   {
    "duration": 3958,
    "start_time": "2021-11-12T17:48:04.571Z"
   },
   {
    "duration": 14,
    "start_time": "2021-11-12T17:48:08.530Z"
   },
   {
    "duration": 22,
    "start_time": "2021-11-12T17:48:08.545Z"
   },
   {
    "duration": 6,
    "start_time": "2021-11-12T17:48:08.569Z"
   },
   {
    "duration": 420,
    "start_time": "2021-11-12T17:48:08.576Z"
   },
   {
    "duration": 21,
    "start_time": "2021-11-12T17:48:08.997Z"
   },
   {
    "duration": 68,
    "start_time": "2021-11-12T17:50:07.788Z"
   },
   {
    "duration": 51,
    "start_time": "2021-11-12T17:50:07.858Z"
   },
   {
    "duration": 13,
    "start_time": "2021-11-12T17:50:07.911Z"
   },
   {
    "duration": 54,
    "start_time": "2021-11-12T17:50:07.926Z"
   },
   {
    "duration": 3581,
    "start_time": "2021-11-12T17:50:07.982Z"
   },
   {
    "duration": 12,
    "start_time": "2021-11-12T17:50:11.565Z"
   },
   {
    "duration": 38,
    "start_time": "2021-11-12T17:50:11.578Z"
   },
   {
    "duration": 5,
    "start_time": "2021-11-12T17:50:11.618Z"
   },
   {
    "duration": 410,
    "start_time": "2021-11-12T17:50:11.625Z"
   },
   {
    "duration": 15,
    "start_time": "2021-11-12T17:50:12.036Z"
   },
   {
    "duration": 68,
    "start_time": "2021-11-12T17:57:09.218Z"
   },
   {
    "duration": 35,
    "start_time": "2021-11-12T17:57:09.288Z"
   },
   {
    "duration": 13,
    "start_time": "2021-11-12T17:57:09.324Z"
   },
   {
    "duration": 39,
    "start_time": "2021-11-12T17:57:09.339Z"
   },
   {
    "duration": 3452,
    "start_time": "2021-11-12T17:57:09.379Z"
   },
   {
    "duration": 26,
    "start_time": "2021-11-12T17:57:12.833Z"
   },
   {
    "duration": 21,
    "start_time": "2021-11-12T17:57:12.861Z"
   },
   {
    "duration": 7,
    "start_time": "2021-11-12T17:57:12.907Z"
   },
   {
    "duration": 418,
    "start_time": "2021-11-12T17:57:12.916Z"
   },
   {
    "duration": 16,
    "start_time": "2021-11-12T17:57:13.336Z"
   },
   {
    "duration": 69,
    "start_time": "2021-11-12T17:58:36.646Z"
   },
   {
    "duration": 39,
    "start_time": "2021-11-12T17:58:36.717Z"
   },
   {
    "duration": 12,
    "start_time": "2021-11-12T17:58:36.758Z"
   },
   {
    "duration": 62,
    "start_time": "2021-11-12T17:58:36.772Z"
   },
   {
    "duration": 3401,
    "start_time": "2021-11-12T17:58:36.836Z"
   },
   {
    "duration": 15,
    "start_time": "2021-11-12T17:58:40.239Z"
   },
   {
    "duration": 29,
    "start_time": "2021-11-12T17:58:40.256Z"
   },
   {
    "duration": 5,
    "start_time": "2021-11-12T17:58:40.287Z"
   },
   {
    "duration": 412,
    "start_time": "2021-11-12T17:58:40.307Z"
   },
   {
    "duration": 18,
    "start_time": "2021-11-12T17:58:40.721Z"
   },
   {
    "duration": 339,
    "start_time": "2021-11-12T18:00:14.914Z"
   },
   {
    "duration": 386,
    "start_time": "2021-11-12T18:01:00.593Z"
   },
   {
    "duration": 350,
    "start_time": "2021-11-12T18:01:58.280Z"
   },
   {
    "duration": 349,
    "start_time": "2021-11-12T18:03:14.782Z"
   },
   {
    "duration": 349,
    "start_time": "2021-11-12T18:03:23.518Z"
   },
   {
    "duration": 72,
    "start_time": "2021-11-12T18:03:38.931Z"
   },
   {
    "duration": 39,
    "start_time": "2021-11-12T18:03:39.005Z"
   },
   {
    "duration": 13,
    "start_time": "2021-11-12T18:03:39.046Z"
   },
   {
    "duration": 69,
    "start_time": "2021-11-12T18:03:39.062Z"
   },
   {
    "duration": 3513,
    "start_time": "2021-11-12T18:03:39.133Z"
   },
   {
    "duration": 15,
    "start_time": "2021-11-12T18:03:42.648Z"
   },
   {
    "duration": 42,
    "start_time": "2021-11-12T18:03:42.664Z"
   },
   {
    "duration": 6,
    "start_time": "2021-11-12T18:03:42.708Z"
   },
   {
    "duration": 361,
    "start_time": "2021-11-12T18:03:42.716Z"
   },
   {
    "duration": 13,
    "start_time": "2021-11-12T18:03:43.078Z"
   },
   {
    "duration": 340,
    "start_time": "2021-11-12T18:05:35.259Z"
   },
   {
    "duration": 671,
    "start_time": "2021-11-12T18:05:48.358Z"
   },
   {
    "duration": 120,
    "start_time": "2021-11-12T18:06:07.410Z"
   },
   {
    "duration": 350,
    "start_time": "2021-11-12T18:06:13.419Z"
   },
   {
    "duration": 400,
    "start_time": "2021-11-12T18:09:00.082Z"
   },
   {
    "duration": 366,
    "start_time": "2021-11-12T18:10:23.586Z"
   },
   {
    "duration": 130,
    "start_time": "2021-11-12T18:10:39.433Z"
   },
   {
    "duration": 348,
    "start_time": "2021-11-12T18:10:56.921Z"
   },
   {
    "duration": 414,
    "start_time": "2021-11-12T18:14:09.545Z"
   },
   {
    "duration": 535,
    "start_time": "2021-11-12T18:14:20.563Z"
   },
   {
    "duration": 417,
    "start_time": "2021-11-12T18:14:34.166Z"
   },
   {
    "duration": 7,
    "start_time": "2021-11-12T18:20:30.598Z"
   },
   {
    "duration": 6,
    "start_time": "2021-11-12T18:21:27.111Z"
   },
   {
    "duration": 7,
    "start_time": "2021-11-12T18:22:07.416Z"
   },
   {
    "duration": 10,
    "start_time": "2021-11-12T18:22:38.786Z"
   },
   {
    "duration": 22,
    "start_time": "2021-11-12T18:26:23.590Z"
   },
   {
    "duration": 21,
    "start_time": "2021-11-12T18:26:54.366Z"
   },
   {
    "duration": 21,
    "start_time": "2021-11-12T18:27:31.248Z"
   },
   {
    "duration": 19,
    "start_time": "2021-11-12T18:27:41.564Z"
   },
   {
    "duration": 350,
    "start_time": "2021-11-12T18:28:29.022Z"
   },
   {
    "duration": 374,
    "start_time": "2021-11-12T18:28:44.889Z"
   },
   {
    "duration": 347,
    "start_time": "2021-11-12T18:29:29.097Z"
   },
   {
    "duration": 1024,
    "start_time": "2021-11-12T18:29:48.607Z"
   },
   {
    "duration": 18,
    "start_time": "2021-11-12T18:30:35.696Z"
   },
   {
    "duration": 21,
    "start_time": "2021-11-12T18:31:11.207Z"
   },
   {
    "duration": 358,
    "start_time": "2021-11-12T18:31:31.671Z"
   },
   {
    "duration": 19,
    "start_time": "2021-11-12T18:31:44.333Z"
   },
   {
    "duration": 22,
    "start_time": "2021-11-12T18:32:56.431Z"
   },
   {
    "duration": 24,
    "start_time": "2021-11-12T18:33:23.802Z"
   },
   {
    "duration": 339,
    "start_time": "2021-11-12T18:40:53.003Z"
   },
   {
    "duration": 330,
    "start_time": "2021-11-12T18:42:56.630Z"
   },
   {
    "duration": 333,
    "start_time": "2021-11-12T18:43:28.135Z"
   },
   {
    "duration": 330,
    "start_time": "2021-11-12T18:43:48.875Z"
   },
   {
    "duration": 24,
    "start_time": "2021-11-12T18:48:58.802Z"
   },
   {
    "duration": 339,
    "start_time": "2021-11-12T18:52:21.173Z"
   },
   {
    "duration": 334,
    "start_time": "2021-11-12T18:52:42.656Z"
   },
   {
    "duration": 333,
    "start_time": "2021-11-12T18:55:20.370Z"
   },
   {
    "duration": 342,
    "start_time": "2021-11-12T18:55:47.342Z"
   },
   {
    "duration": 350,
    "start_time": "2021-11-12T18:56:30.535Z"
   },
   {
    "duration": 336,
    "start_time": "2021-11-12T18:56:40.120Z"
   },
   {
    "duration": 342,
    "start_time": "2021-11-12T18:57:46.921Z"
   },
   {
    "duration": 48,
    "start_time": "2021-11-12T19:06:34.283Z"
   },
   {
    "duration": 421,
    "start_time": "2021-11-12T19:08:02.371Z"
   },
   {
    "duration": 52,
    "start_time": "2021-11-12T19:09:56.775Z"
   },
   {
    "duration": 139,
    "start_time": "2021-11-12T19:11:00.697Z"
   },
   {
    "duration": 63,
    "start_time": "2021-11-12T19:11:11.189Z"
   },
   {
    "duration": 48,
    "start_time": "2021-11-12T19:17:08.027Z"
   },
   {
    "duration": 57,
    "start_time": "2021-11-12T19:17:29.076Z"
   },
   {
    "duration": 52,
    "start_time": "2021-11-12T19:17:52.419Z"
   },
   {
    "duration": 64,
    "start_time": "2021-11-12T19:20:42.159Z"
   },
   {
    "duration": 56,
    "start_time": "2021-11-12T19:21:06.651Z"
   },
   {
    "duration": 63,
    "start_time": "2021-11-12T19:32:25.226Z"
   },
   {
    "duration": 8889,
    "start_time": "2021-11-12T19:32:25.291Z"
   },
   {
    "duration": 8,
    "start_time": "2021-11-12T19:32:34.174Z"
   },
   {
    "duration": 1,
    "start_time": "2021-11-12T19:32:34.182Z"
   },
   {
    "duration": -2,
    "start_time": "2021-11-12T19:32:34.186Z"
   },
   {
    "duration": -4,
    "start_time": "2021-11-12T19:32:34.189Z"
   },
   {
    "duration": -7,
    "start_time": "2021-11-12T19:32:34.193Z"
   },
   {
    "duration": -10,
    "start_time": "2021-11-12T19:32:34.197Z"
   },
   {
    "duration": -13,
    "start_time": "2021-11-12T19:32:34.201Z"
   },
   {
    "duration": -16,
    "start_time": "2021-11-12T19:32:34.204Z"
   },
   {
    "duration": 65,
    "start_time": "2021-11-12T19:33:28.912Z"
   },
   {
    "duration": 390,
    "start_time": "2021-11-12T19:33:28.979Z"
   },
   {
    "duration": 18,
    "start_time": "2021-11-12T19:33:29.353Z"
   },
   {
    "duration": 16,
    "start_time": "2021-11-12T19:33:29.356Z"
   },
   {
    "duration": 16,
    "start_time": "2021-11-12T19:33:29.358Z"
   },
   {
    "duration": 12,
    "start_time": "2021-11-12T19:33:29.363Z"
   },
   {
    "duration": 6,
    "start_time": "2021-11-12T19:33:29.370Z"
   },
   {
    "duration": 4,
    "start_time": "2021-11-12T19:33:29.373Z"
   },
   {
    "duration": 3,
    "start_time": "2021-11-12T19:33:29.375Z"
   },
   {
    "duration": -15,
    "start_time": "2021-11-12T19:33:29.394Z"
   },
   {
    "duration": 63,
    "start_time": "2021-11-12T19:34:10.836Z"
   },
   {
    "duration": 402,
    "start_time": "2021-11-12T19:34:10.900Z"
   },
   {
    "duration": -291,
    "start_time": "2021-11-12T19:34:11.595Z"
   },
   {
    "duration": -302,
    "start_time": "2021-11-12T19:34:11.607Z"
   },
   {
    "duration": -303,
    "start_time": "2021-11-12T19:34:11.609Z"
   },
   {
    "duration": -306,
    "start_time": "2021-11-12T19:34:11.613Z"
   },
   {
    "duration": -308,
    "start_time": "2021-11-12T19:34:11.615Z"
   },
   {
    "duration": -342,
    "start_time": "2021-11-12T19:34:11.650Z"
   },
   {
    "duration": -346,
    "start_time": "2021-11-12T19:34:11.655Z"
   },
   {
    "duration": -349,
    "start_time": "2021-11-12T19:34:11.659Z"
   },
   {
    "duration": 61,
    "start_time": "2021-11-12T19:34:32.166Z"
   },
   {
    "duration": 60,
    "start_time": "2021-11-12T19:34:32.229Z"
   },
   {
    "duration": 359,
    "start_time": "2021-11-12T19:34:32.307Z"
   },
   {
    "duration": 23,
    "start_time": "2021-11-12T19:34:32.645Z"
   },
   {
    "duration": 21,
    "start_time": "2021-11-12T19:34:32.648Z"
   },
   {
    "duration": 19,
    "start_time": "2021-11-12T19:34:32.651Z"
   },
   {
    "duration": 17,
    "start_time": "2021-11-12T19:34:32.654Z"
   },
   {
    "duration": 14,
    "start_time": "2021-11-12T19:34:32.657Z"
   },
   {
    "duration": 13,
    "start_time": "2021-11-12T19:34:32.659Z"
   },
   {
    "duration": 11,
    "start_time": "2021-11-12T19:34:32.662Z"
   },
   {
    "duration": 69,
    "start_time": "2021-11-12T19:48:49.998Z"
   },
   {
    "duration": 83,
    "start_time": "2021-11-12T19:48:50.069Z"
   },
   {
    "duration": 16,
    "start_time": "2021-11-12T19:48:50.155Z"
   },
   {
    "duration": 58,
    "start_time": "2021-11-12T19:48:50.173Z"
   },
   {
    "duration": 3861,
    "start_time": "2021-11-12T19:48:50.233Z"
   },
   {
    "duration": 24,
    "start_time": "2021-11-12T19:48:54.095Z"
   },
   {
    "duration": 44,
    "start_time": "2021-11-12T19:48:54.121Z"
   },
   {
    "duration": 22,
    "start_time": "2021-11-12T19:48:54.167Z"
   },
   {
    "duration": 1985,
    "start_time": "2021-11-12T19:48:54.191Z"
   },
   {
    "duration": 13,
    "start_time": "2021-11-12T19:48:56.178Z"
   },
   {
    "duration": 72,
    "start_time": "2021-11-12T19:53:09.676Z"
   },
   {
    "duration": 85,
    "start_time": "2021-11-12T19:53:09.750Z"
   },
   {
    "duration": 11,
    "start_time": "2021-11-12T19:53:09.837Z"
   },
   {
    "duration": 69,
    "start_time": "2021-11-12T19:53:09.850Z"
   },
   {
    "duration": 3406,
    "start_time": "2021-11-12T19:53:09.920Z"
   },
   {
    "duration": 16,
    "start_time": "2021-11-12T19:53:13.328Z"
   },
   {
    "duration": 27,
    "start_time": "2021-11-12T19:53:13.346Z"
   },
   {
    "duration": 52,
    "start_time": "2021-11-12T19:53:13.375Z"
   },
   {
    "duration": 1658,
    "start_time": "2021-11-12T19:53:13.429Z"
   },
   {
    "duration": 27,
    "start_time": "2021-11-12T19:53:15.089Z"
   },
   {
    "duration": 1743,
    "start_time": "2021-11-12T19:57:42.544Z"
   },
   {
    "duration": 118,
    "start_time": "2021-11-12T19:58:27.085Z"
   },
   {
    "duration": 1619,
    "start_time": "2021-11-12T19:58:34.219Z"
   },
   {
    "duration": 1544,
    "start_time": "2021-11-12T20:00:30.827Z"
   },
   {
    "duration": 13,
    "start_time": "2021-11-12T20:15:13.114Z"
   },
   {
    "duration": 1751,
    "start_time": "2021-11-12T20:19:11.646Z"
   },
   {
    "duration": 22,
    "start_time": "2021-11-12T20:20:55.155Z"
   },
   {
    "duration": 3460,
    "start_time": "2021-11-12T20:23:31.871Z"
   },
   {
    "duration": 352,
    "start_time": "2021-11-12T20:24:03.095Z"
   },
   {
    "duration": 4566,
    "start_time": "2021-11-12T20:24:13.660Z"
   },
   {
    "duration": 2476,
    "start_time": "2021-11-12T20:26:15.320Z"
   },
   {
    "duration": 2540,
    "start_time": "2021-11-12T20:27:12.660Z"
   },
   {
    "duration": 5,
    "start_time": "2021-11-12T20:30:21.708Z"
   },
   {
    "duration": 5,
    "start_time": "2021-11-12T20:30:37.442Z"
   },
   {
    "duration": 5,
    "start_time": "2021-11-12T20:31:05.228Z"
   },
   {
    "duration": 16,
    "start_time": "2021-11-12T20:32:41.429Z"
   },
   {
    "duration": 14,
    "start_time": "2021-11-12T20:34:41.780Z"
   },
   {
    "duration": 15,
    "start_time": "2021-11-12T20:34:51.725Z"
   },
   {
    "duration": 17,
    "start_time": "2021-11-12T20:35:02.103Z"
   },
   {
    "duration": 6446,
    "start_time": "2021-11-12T20:53:56.207Z"
   },
   {
    "duration": 78,
    "start_time": "2021-11-12T20:54:42.519Z"
   },
   {
    "duration": 65,
    "start_time": "2021-11-12T20:54:42.599Z"
   },
   {
    "duration": 12,
    "start_time": "2021-11-12T20:54:42.666Z"
   },
   {
    "duration": 56,
    "start_time": "2021-11-12T20:54:42.680Z"
   },
   {
    "duration": 5725,
    "start_time": "2021-11-12T20:54:42.737Z"
   },
   {
    "duration": 20,
    "start_time": "2021-11-12T20:54:48.464Z"
   },
   {
    "duration": 27,
    "start_time": "2021-11-12T20:54:48.486Z"
   },
   {
    "duration": 24,
    "start_time": "2021-11-12T20:54:48.516Z"
   },
   {
    "duration": 1700,
    "start_time": "2021-11-12T20:54:48.542Z"
   },
   {
    "duration": 9,
    "start_time": "2021-11-12T20:54:50.244Z"
   },
   {
    "duration": 98,
    "start_time": "2021-11-12T20:57:17.320Z"
   },
   {
    "duration": 118,
    "start_time": "2021-11-12T20:57:17.420Z"
   },
   {
    "duration": 19,
    "start_time": "2021-11-12T20:57:17.540Z"
   },
   {
    "duration": 58,
    "start_time": "2021-11-12T20:57:17.561Z"
   },
   {
    "duration": 3520,
    "start_time": "2021-11-12T20:57:17.620Z"
   },
   {
    "duration": 26,
    "start_time": "2021-11-12T20:57:21.142Z"
   },
   {
    "duration": 56,
    "start_time": "2021-11-12T20:57:21.169Z"
   },
   {
    "duration": 25,
    "start_time": "2021-11-12T20:57:21.227Z"
   },
   {
    "duration": 1735,
    "start_time": "2021-11-12T20:57:21.255Z"
   },
   {
    "duration": 2188,
    "start_time": "2021-11-12T20:57:22.992Z"
   },
   {
    "duration": 2348,
    "start_time": "2021-11-12T20:59:00.034Z"
   },
   {
    "duration": 661,
    "start_time": "2021-11-12T21:15:53.351Z"
   },
   {
    "duration": 13,
    "start_time": "2021-11-12T21:16:22.138Z"
   },
   {
    "duration": 361,
    "start_time": "2021-11-13T07:35:56.188Z"
   },
   {
    "duration": 815,
    "start_time": "2021-11-13T07:36:11.000Z"
   },
   {
    "duration": 128,
    "start_time": "2021-11-13T07:36:11.818Z"
   },
   {
    "duration": 39,
    "start_time": "2021-11-13T07:36:11.949Z"
   },
   {
    "duration": 45,
    "start_time": "2021-11-13T07:36:11.991Z"
   },
   {
    "duration": 4402,
    "start_time": "2021-11-13T07:36:12.038Z"
   },
   {
    "duration": 55,
    "start_time": "2021-11-13T07:36:16.443Z"
   },
   {
    "duration": 24,
    "start_time": "2021-11-13T07:36:16.501Z"
   },
   {
    "duration": 76,
    "start_time": "2021-11-13T07:36:16.530Z"
   },
   {
    "duration": 3530,
    "start_time": "2021-11-13T07:36:16.609Z"
   },
   {
    "duration": 120,
    "start_time": "2021-11-13T07:36:20.142Z"
   },
   {
    "duration": 98,
    "start_time": "2021-11-13T07:39:01.835Z"
   },
   {
    "duration": 146,
    "start_time": "2021-11-13T07:39:01.936Z"
   },
   {
    "duration": 21,
    "start_time": "2021-11-13T07:39:02.086Z"
   },
   {
    "duration": 97,
    "start_time": "2021-11-13T07:39:02.111Z"
   },
   {
    "duration": 4473,
    "start_time": "2021-11-13T07:39:02.211Z"
   },
   {
    "duration": 25,
    "start_time": "2021-11-13T07:39:06.686Z"
   },
   {
    "duration": 28,
    "start_time": "2021-11-13T07:39:06.714Z"
   },
   {
    "duration": 36,
    "start_time": "2021-11-13T07:39:06.781Z"
   },
   {
    "duration": 3497,
    "start_time": "2021-11-13T07:39:06.819Z"
   },
   {
    "duration": 153,
    "start_time": "2021-11-13T07:39:10.318Z"
   },
   {
    "duration": 52,
    "start_time": "2021-11-13T07:39:27.661Z"
   },
   {
    "duration": 1213,
    "start_time": "2021-11-13T21:18:39.654Z"
   },
   {
    "duration": 140,
    "start_time": "2021-11-13T21:18:40.870Z"
   },
   {
    "duration": 18,
    "start_time": "2021-11-13T21:18:41.013Z"
   },
   {
    "duration": 87,
    "start_time": "2021-11-13T21:18:41.034Z"
   },
   {
    "duration": 4621,
    "start_time": "2021-11-13T21:18:41.123Z"
   },
   {
    "duration": 67,
    "start_time": "2021-11-13T21:18:45.747Z"
   },
   {
    "duration": 38,
    "start_time": "2021-11-13T21:18:45.816Z"
   },
   {
    "duration": 71,
    "start_time": "2021-11-13T21:18:45.857Z"
   },
   {
    "duration": 3509,
    "start_time": "2021-11-13T21:18:45.932Z"
   },
   {
    "duration": 521,
    "start_time": "2021-11-13T21:18:49.444Z"
   },
   {
    "duration": 20,
    "start_time": "2021-11-13T21:22:09.534Z"
   },
   {
    "duration": 2637,
    "start_time": "2021-11-13T21:23:26.922Z"
   },
   {
    "duration": 3312,
    "start_time": "2021-11-13T21:23:40.744Z"
   },
   {
    "duration": 323,
    "start_time": "2021-11-13T21:23:51.932Z"
   },
   {
    "duration": 120,
    "start_time": "2021-11-13T21:23:52.258Z"
   },
   {
    "duration": 20,
    "start_time": "2021-11-13T21:23:52.402Z"
   },
   {
    "duration": 98,
    "start_time": "2021-11-13T21:23:52.425Z"
   },
   {
    "duration": 4611,
    "start_time": "2021-11-13T21:23:52.525Z"
   },
   {
    "duration": 73,
    "start_time": "2021-11-13T21:23:57.139Z"
   },
   {
    "duration": 29,
    "start_time": "2021-11-13T21:23:57.215Z"
   },
   {
    "duration": 67,
    "start_time": "2021-11-13T21:23:57.247Z"
   },
   {
    "duration": 3555,
    "start_time": "2021-11-13T21:23:57.316Z"
   },
   {
    "duration": 426,
    "start_time": "2021-11-13T21:24:00.873Z"
   },
   {
    "duration": 2585,
    "start_time": "2021-11-13T21:24:22.228Z"
   },
   {
    "duration": 410,
    "start_time": "2021-11-13T21:24:30.730Z"
   },
   {
    "duration": 159,
    "start_time": "2021-11-13T21:24:31.144Z"
   },
   {
    "duration": 19,
    "start_time": "2021-11-13T21:24:31.305Z"
   },
   {
    "duration": 103,
    "start_time": "2021-11-13T21:24:31.326Z"
   },
   {
    "duration": 5483,
    "start_time": "2021-11-13T21:24:31.432Z"
   },
   {
    "duration": 53,
    "start_time": "2021-11-13T21:24:36.918Z"
   },
   {
    "duration": 49,
    "start_time": "2021-11-13T21:24:36.974Z"
   },
   {
    "duration": 35,
    "start_time": "2021-11-13T21:24:37.026Z"
   },
   {
    "duration": 3618,
    "start_time": "2021-11-13T21:24:37.064Z"
   },
   {
    "duration": 367,
    "start_time": "2021-11-13T21:24:40.685Z"
   },
   {
    "duration": 346,
    "start_time": "2021-11-13T21:27:37.871Z"
   },
   {
    "duration": 141,
    "start_time": "2021-11-13T21:27:38.220Z"
   },
   {
    "duration": 39,
    "start_time": "2021-11-13T21:27:38.365Z"
   },
   {
    "duration": 108,
    "start_time": "2021-11-13T21:27:38.407Z"
   },
   {
    "duration": 4704,
    "start_time": "2021-11-13T21:27:38.517Z"
   },
   {
    "duration": 54,
    "start_time": "2021-11-13T21:27:43.224Z"
   },
   {
    "duration": 39,
    "start_time": "2021-11-13T21:27:43.281Z"
   },
   {
    "duration": 36,
    "start_time": "2021-11-13T21:27:43.324Z"
   },
   {
    "duration": 3840,
    "start_time": "2021-11-13T21:27:43.363Z"
   },
   {
    "duration": 367,
    "start_time": "2021-11-13T21:27:47.206Z"
   },
   {
    "duration": 495,
    "start_time": "2021-11-13T21:28:54.591Z"
   },
   {
    "duration": 410,
    "start_time": "2021-11-13T21:29:01.904Z"
   },
   {
    "duration": 29,
    "start_time": "2021-11-13T21:31:47.463Z"
   },
   {
    "duration": 31,
    "start_time": "2021-11-13T21:31:53.695Z"
   },
   {
    "duration": 355,
    "start_time": "2021-11-13T21:32:02.120Z"
   },
   {
    "duration": 154,
    "start_time": "2021-11-13T21:32:02.477Z"
   },
   {
    "duration": 20,
    "start_time": "2021-11-13T21:32:02.633Z"
   },
   {
    "duration": 89,
    "start_time": "2021-11-13T21:32:02.655Z"
   },
   {
    "duration": 4830,
    "start_time": "2021-11-13T21:32:02.747Z"
   },
   {
    "duration": 65,
    "start_time": "2021-11-13T21:32:07.579Z"
   },
   {
    "duration": 27,
    "start_time": "2021-11-13T21:32:07.647Z"
   },
   {
    "duration": 58,
    "start_time": "2021-11-13T21:32:07.677Z"
   },
   {
    "duration": 3599,
    "start_time": "2021-11-13T21:32:07.739Z"
   },
   {
    "duration": 27,
    "start_time": "2021-11-13T21:32:11.340Z"
   },
   {
    "duration": 16,
    "start_time": "2021-11-13T21:36:39.585Z"
   },
   {
    "duration": 326,
    "start_time": "2021-11-13T21:46:13.606Z"
   },
   {
    "duration": 22,
    "start_time": "2021-11-13T21:46:13.935Z"
   },
   {
    "duration": 6,
    "start_time": "2021-11-13T21:46:13.961Z"
   },
   {
    "duration": 166,
    "start_time": "2021-11-13T21:46:13.970Z"
   },
   {
    "duration": 28,
    "start_time": "2021-11-13T21:46:14.139Z"
   },
   {
    "duration": 94,
    "start_time": "2021-11-13T21:46:14.170Z"
   },
   {
    "duration": 4778,
    "start_time": "2021-11-13T21:46:14.300Z"
   },
   {
    "duration": 65,
    "start_time": "2021-11-13T21:46:19.082Z"
   },
   {
    "duration": 17,
    "start_time": "2021-11-13T21:46:19.150Z"
   },
   {
    "duration": 44,
    "start_time": "2021-11-13T21:46:19.170Z"
   },
   {
    "duration": 38,
    "start_time": "2021-11-13T21:46:19.217Z"
   },
   {
    "duration": 3589,
    "start_time": "2021-11-13T21:46:19.258Z"
   },
   {
    "duration": 30,
    "start_time": "2021-11-13T21:46:22.850Z"
   },
   {
    "duration": 123,
    "start_time": "2021-11-13T21:46:47.935Z"
   },
   {
    "duration": 128,
    "start_time": "2021-11-13T21:59:55.325Z"
   },
   {
    "duration": 34,
    "start_time": "2021-11-13T22:00:37.508Z"
   },
   {
    "duration": 427,
    "start_time": "2021-11-13T22:00:51.219Z"
   },
   {
    "duration": 21,
    "start_time": "2021-11-13T22:00:51.649Z"
   },
   {
    "duration": 8,
    "start_time": "2021-11-13T22:00:51.673Z"
   },
   {
    "duration": 23,
    "start_time": "2021-11-13T22:00:51.699Z"
   },
   {
    "duration": 149,
    "start_time": "2021-11-13T22:00:51.725Z"
   },
   {
    "duration": 39,
    "start_time": "2021-11-13T22:00:51.876Z"
   },
   {
    "duration": 96,
    "start_time": "2021-11-13T22:00:51.917Z"
   },
   {
    "duration": 4687,
    "start_time": "2021-11-13T22:00:52.015Z"
   },
   {
    "duration": 54,
    "start_time": "2021-11-13T22:00:56.706Z"
   },
   {
    "duration": 41,
    "start_time": "2021-11-13T22:00:56.762Z"
   },
   {
    "duration": 17,
    "start_time": "2021-11-13T22:00:56.806Z"
   },
   {
    "duration": 37,
    "start_time": "2021-11-13T22:00:56.825Z"
   },
   {
    "duration": 3601,
    "start_time": "2021-11-13T22:00:56.900Z"
   },
   {
    "duration": 31,
    "start_time": "2021-11-13T22:01:00.504Z"
   },
   {
    "duration": 16,
    "start_time": "2021-11-13T22:03:16.119Z"
   },
   {
    "duration": 413,
    "start_time": "2021-11-13T22:03:27.220Z"
   },
   {
    "duration": 26,
    "start_time": "2021-11-13T22:03:27.636Z"
   },
   {
    "duration": 8,
    "start_time": "2021-11-13T22:03:27.666Z"
   },
   {
    "duration": 45,
    "start_time": "2021-11-13T22:03:27.677Z"
   },
   {
    "duration": 22,
    "start_time": "2021-11-13T22:03:27.725Z"
   },
   {
    "duration": 158,
    "start_time": "2021-11-13T22:03:27.749Z"
   },
   {
    "duration": 20,
    "start_time": "2021-11-13T22:03:27.909Z"
   },
   {
    "duration": 115,
    "start_time": "2021-11-13T22:03:27.931Z"
   },
   {
    "duration": 4961,
    "start_time": "2021-11-13T22:03:28.357Z"
   },
   {
    "duration": 55,
    "start_time": "2021-11-13T22:03:33.321Z"
   },
   {
    "duration": 33,
    "start_time": "2021-11-13T22:03:33.379Z"
   },
   {
    "duration": 17,
    "start_time": "2021-11-13T22:03:33.416Z"
   },
   {
    "duration": 79,
    "start_time": "2021-11-13T22:03:33.435Z"
   },
   {
    "duration": 3626,
    "start_time": "2021-11-13T22:03:33.517Z"
   },
   {
    "duration": 28,
    "start_time": "2021-11-13T22:03:37.145Z"
   },
   {
    "duration": 11,
    "start_time": "2021-11-13T22:11:06.441Z"
   },
   {
    "duration": 4,
    "start_time": "2021-11-13T22:14:33.847Z"
   },
   {
    "duration": 851,
    "start_time": "2021-11-13T22:18:35.435Z"
   },
   {
    "duration": 22,
    "start_time": "2021-11-13T22:18:36.289Z"
   },
   {
    "duration": 17,
    "start_time": "2021-11-13T22:18:36.314Z"
   },
   {
    "duration": 36,
    "start_time": "2021-11-13T22:18:36.334Z"
   },
   {
    "duration": 34,
    "start_time": "2021-11-13T22:18:36.372Z"
   },
   {
    "duration": 11,
    "start_time": "2021-11-13T22:18:36.409Z"
   },
   {
    "duration": 25,
    "start_time": "2021-11-13T22:18:36.422Z"
   },
   {
    "duration": 12,
    "start_time": "2021-11-13T22:18:36.449Z"
   },
   {
    "duration": 39,
    "start_time": "2021-11-13T22:18:36.464Z"
   },
   {
    "duration": 18,
    "start_time": "2021-11-13T22:18:36.506Z"
   },
   {
    "duration": 100,
    "start_time": "2021-11-13T22:18:36.527Z"
   },
   {
    "duration": 4773,
    "start_time": "2021-11-13T22:18:36.629Z"
   },
   {
    "duration": 49,
    "start_time": "2021-11-13T22:18:41.404Z"
   },
   {
    "duration": 16,
    "start_time": "2021-11-13T22:18:41.455Z"
   },
   {
    "duration": 41,
    "start_time": "2021-11-13T22:18:41.474Z"
   },
   {
    "duration": 212,
    "start_time": "2021-11-13T22:18:41.517Z"
   },
   {
    "duration": 644,
    "start_time": "2021-11-13T22:18:41.732Z"
   },
   {
    "duration": 43,
    "start_time": "2021-11-13T22:18:42.378Z"
   },
   {
    "duration": 4,
    "start_time": "2021-11-13T22:21:21.003Z"
   },
   {
    "duration": 21,
    "start_time": "2021-11-13T22:21:26.188Z"
   },
   {
    "duration": 3106,
    "start_time": "2021-11-13T22:22:23.928Z"
   },
   {
    "duration": 435,
    "start_time": "2021-11-13T22:22:30.234Z"
   },
   {
    "duration": 22,
    "start_time": "2021-11-13T22:22:30.673Z"
   },
   {
    "duration": 22,
    "start_time": "2021-11-13T22:22:30.701Z"
   },
   {
    "duration": 42,
    "start_time": "2021-11-13T22:22:30.726Z"
   },
   {
    "duration": 24,
    "start_time": "2021-11-13T22:22:30.770Z"
   },
   {
    "duration": 36,
    "start_time": "2021-11-13T22:22:30.796Z"
   },
   {
    "duration": 28,
    "start_time": "2021-11-13T22:22:30.834Z"
   },
   {
    "duration": 36,
    "start_time": "2021-11-13T22:22:30.864Z"
   },
   {
    "duration": 26,
    "start_time": "2021-11-13T22:22:30.905Z"
   },
   {
    "duration": 22,
    "start_time": "2021-11-13T22:22:30.934Z"
   },
   {
    "duration": 87,
    "start_time": "2021-11-13T22:22:30.958Z"
   },
   {
    "duration": 4678,
    "start_time": "2021-11-13T22:22:31.048Z"
   },
   {
    "duration": 49,
    "start_time": "2021-11-13T22:22:35.730Z"
   },
   {
    "duration": 18,
    "start_time": "2021-11-13T22:22:35.802Z"
   },
   {
    "duration": 18,
    "start_time": "2021-11-13T22:22:35.823Z"
   },
   {
    "duration": 87,
    "start_time": "2021-11-13T22:22:35.843Z"
   },
   {
    "duration": 640,
    "start_time": "2021-11-13T22:22:35.932Z"
   },
   {
    "duration": 38,
    "start_time": "2021-11-13T22:22:36.574Z"
   },
   {
    "duration": 386,
    "start_time": "2021-11-13T22:25:40.624Z"
   },
   {
    "duration": 22,
    "start_time": "2021-11-13T22:25:41.013Z"
   },
   {
    "duration": 6,
    "start_time": "2021-11-13T22:25:41.039Z"
   },
   {
    "duration": 55,
    "start_time": "2021-11-13T22:25:41.048Z"
   },
   {
    "duration": 30,
    "start_time": "2021-11-13T22:25:41.105Z"
   },
   {
    "duration": 14,
    "start_time": "2021-11-13T22:25:41.138Z"
   },
   {
    "duration": 4,
    "start_time": "2021-11-13T22:25:41.155Z"
   },
   {
    "duration": 39,
    "start_time": "2021-11-13T22:25:41.162Z"
   },
   {
    "duration": 15,
    "start_time": "2021-11-13T22:25:41.205Z"
   },
   {
    "duration": 17,
    "start_time": "2021-11-13T22:25:41.223Z"
   },
   {
    "duration": 100,
    "start_time": "2021-11-13T22:25:41.243Z"
   },
   {
    "duration": 5303,
    "start_time": "2021-11-13T22:25:41.345Z"
   },
   {
    "duration": 69,
    "start_time": "2021-11-13T22:25:46.651Z"
   },
   {
    "duration": 15,
    "start_time": "2021-11-13T22:25:46.722Z"
   },
   {
    "duration": 21,
    "start_time": "2021-11-13T22:25:46.739Z"
   },
   {
    "duration": 71,
    "start_time": "2021-11-13T22:25:46.763Z"
   },
   {
    "duration": 652,
    "start_time": "2021-11-13T22:25:46.837Z"
   },
   {
    "duration": 34,
    "start_time": "2021-11-13T22:25:47.491Z"
   },
   {
    "duration": 328,
    "start_time": "2021-11-13T22:29:26.930Z"
   },
   {
    "duration": 20,
    "start_time": "2021-11-13T22:29:27.261Z"
   },
   {
    "duration": 19,
    "start_time": "2021-11-13T22:29:27.284Z"
   },
   {
    "duration": 23,
    "start_time": "2021-11-13T22:29:27.306Z"
   },
   {
    "duration": 22,
    "start_time": "2021-11-13T22:29:27.331Z"
   },
   {
    "duration": 47,
    "start_time": "2021-11-13T22:29:27.355Z"
   },
   {
    "duration": 5,
    "start_time": "2021-11-13T22:29:27.404Z"
   },
   {
    "duration": 18,
    "start_time": "2021-11-13T22:29:27.411Z"
   },
   {
    "duration": 21,
    "start_time": "2021-11-13T22:29:27.432Z"
   },
   {
    "duration": 20,
    "start_time": "2021-11-13T22:29:27.455Z"
   },
   {
    "duration": 142,
    "start_time": "2021-11-13T22:29:27.478Z"
   },
   {
    "duration": 4706,
    "start_time": "2021-11-13T22:29:27.623Z"
   },
   {
    "duration": 48,
    "start_time": "2021-11-13T22:29:32.332Z"
   },
   {
    "duration": 17,
    "start_time": "2021-11-13T22:29:32.401Z"
   },
   {
    "duration": 17,
    "start_time": "2021-11-13T22:29:32.420Z"
   },
   {
    "duration": 77,
    "start_time": "2021-11-13T22:29:32.440Z"
   },
   {
    "duration": 640,
    "start_time": "2021-11-13T22:29:32.520Z"
   },
   {
    "duration": 40,
    "start_time": "2021-11-13T22:29:33.162Z"
   },
   {
    "duration": 333,
    "start_time": "2021-11-13T22:31:38.385Z"
   },
   {
    "duration": 21,
    "start_time": "2021-11-13T22:31:38.720Z"
   },
   {
    "duration": 20,
    "start_time": "2021-11-13T22:31:38.744Z"
   },
   {
    "duration": 35,
    "start_time": "2021-11-13T22:31:38.766Z"
   },
   {
    "duration": 24,
    "start_time": "2021-11-13T22:31:38.804Z"
   },
   {
    "duration": 10,
    "start_time": "2021-11-13T22:31:38.831Z"
   },
   {
    "duration": 11,
    "start_time": "2021-11-13T22:31:38.843Z"
   },
   {
    "duration": 17,
    "start_time": "2021-11-13T22:31:38.856Z"
   },
   {
    "duration": 15,
    "start_time": "2021-11-13T22:31:38.901Z"
   },
   {
    "duration": 27,
    "start_time": "2021-11-13T22:31:38.919Z"
   },
   {
    "duration": 123,
    "start_time": "2021-11-13T22:31:38.949Z"
   },
   {
    "duration": 4699,
    "start_time": "2021-11-13T22:31:39.074Z"
   },
   {
    "duration": 68,
    "start_time": "2021-11-13T22:31:43.777Z"
   },
   {
    "duration": 16,
    "start_time": "2021-11-13T22:31:43.849Z"
   },
   {
    "duration": 45,
    "start_time": "2021-11-13T22:31:43.867Z"
   },
   {
    "duration": 38,
    "start_time": "2021-11-13T22:31:43.914Z"
   },
   {
    "duration": 657,
    "start_time": "2021-11-13T22:31:43.955Z"
   },
   {
    "duration": 30,
    "start_time": "2021-11-13T22:31:44.614Z"
   },
   {
    "duration": 332,
    "start_time": "2021-11-13T22:34:49.883Z"
   },
   {
    "duration": 22,
    "start_time": "2021-11-13T22:34:50.217Z"
   },
   {
    "duration": 7,
    "start_time": "2021-11-13T22:34:50.242Z"
   },
   {
    "duration": 56,
    "start_time": "2021-11-13T22:34:50.252Z"
   },
   {
    "duration": 23,
    "start_time": "2021-11-13T22:34:50.310Z"
   },
   {
    "duration": 20,
    "start_time": "2021-11-13T22:34:50.336Z"
   },
   {
    "duration": 7,
    "start_time": "2021-11-13T22:34:50.359Z"
   },
   {
    "duration": 34,
    "start_time": "2021-11-13T22:34:50.370Z"
   },
   {
    "duration": 18,
    "start_time": "2021-11-13T22:34:50.407Z"
   },
   {
    "duration": 19,
    "start_time": "2021-11-13T22:34:50.427Z"
   },
   {
    "duration": 158,
    "start_time": "2021-11-13T22:34:50.448Z"
   },
   {
    "duration": 4692,
    "start_time": "2021-11-13T22:34:50.608Z"
   },
   {
    "duration": 50,
    "start_time": "2021-11-13T22:34:55.303Z"
   },
   {
    "duration": 16,
    "start_time": "2021-11-13T22:34:55.356Z"
   },
   {
    "duration": 17,
    "start_time": "2021-11-13T22:34:55.401Z"
   },
   {
    "duration": 40,
    "start_time": "2021-11-13T22:34:55.421Z"
   },
   {
    "duration": 764,
    "start_time": "2021-11-13T22:34:55.464Z"
   },
   {
    "duration": 31,
    "start_time": "2021-11-13T22:34:56.230Z"
   },
   {
    "duration": 2639,
    "start_time": "2021-11-13T22:37:03.512Z"
   },
   {
    "duration": 330,
    "start_time": "2021-11-13T22:57:50.024Z"
   },
   {
    "duration": 21,
    "start_time": "2021-11-13T22:57:50.357Z"
   },
   {
    "duration": 21,
    "start_time": "2021-11-13T22:57:50.381Z"
   },
   {
    "duration": 25,
    "start_time": "2021-11-13T22:57:50.405Z"
   },
   {
    "duration": 26,
    "start_time": "2021-11-13T22:57:50.432Z"
   },
   {
    "duration": 44,
    "start_time": "2021-11-13T22:57:50.460Z"
   },
   {
    "duration": 4,
    "start_time": "2021-11-13T22:57:50.506Z"
   },
   {
    "duration": 7,
    "start_time": "2021-11-13T22:57:50.513Z"
   },
   {
    "duration": 15,
    "start_time": "2021-11-13T22:57:50.524Z"
   },
   {
    "duration": 18,
    "start_time": "2021-11-13T22:57:50.541Z"
   },
   {
    "duration": 61,
    "start_time": "2021-11-13T22:57:50.561Z"
   },
   {
    "duration": 75,
    "start_time": "2021-11-13T22:57:50.625Z"
   },
   {
    "duration": 133,
    "start_time": "2021-11-13T22:57:50.703Z"
   },
   {
    "duration": 267,
    "start_time": "2021-11-13T22:57:50.572Z"
   },
   {
    "duration": 259,
    "start_time": "2021-11-13T22:57:50.582Z"
   },
   {
    "duration": 255,
    "start_time": "2021-11-13T22:57:50.587Z"
   },
   {
    "duration": 252,
    "start_time": "2021-11-13T22:57:50.591Z"
   },
   {
    "duration": 249,
    "start_time": "2021-11-13T22:57:50.596Z"
   },
   {
    "duration": 246,
    "start_time": "2021-11-13T22:57:50.600Z"
   },
   {
    "duration": 237,
    "start_time": "2021-11-13T22:57:50.611Z"
   },
   {
    "duration": 234,
    "start_time": "2021-11-13T22:57:50.615Z"
   },
   {
    "duration": 26,
    "start_time": "2021-11-13T22:59:34.512Z"
   },
   {
    "duration": 444,
    "start_time": "2021-11-13T22:59:39.998Z"
   },
   {
    "duration": 22,
    "start_time": "2021-11-13T22:59:40.445Z"
   },
   {
    "duration": 31,
    "start_time": "2021-11-13T22:59:40.471Z"
   },
   {
    "duration": 27,
    "start_time": "2021-11-13T22:59:40.506Z"
   },
   {
    "duration": 24,
    "start_time": "2021-11-13T22:59:40.536Z"
   },
   {
    "duration": 44,
    "start_time": "2021-11-13T22:59:40.563Z"
   },
   {
    "duration": 6,
    "start_time": "2021-11-13T22:59:40.610Z"
   },
   {
    "duration": 10,
    "start_time": "2021-11-13T22:59:40.619Z"
   },
   {
    "duration": 16,
    "start_time": "2021-11-13T22:59:40.635Z"
   },
   {
    "duration": 60,
    "start_time": "2021-11-13T22:59:40.654Z"
   },
   {
    "duration": 23,
    "start_time": "2021-11-13T22:59:40.717Z"
   },
   {
    "duration": 87,
    "start_time": "2021-11-13T22:59:40.743Z"
   },
   {
    "duration": 23,
    "start_time": "2021-11-13T22:59:40.833Z"
   },
   {
    "duration": 81,
    "start_time": "2021-11-13T22:59:40.859Z"
   },
   {
    "duration": 4681,
    "start_time": "2021-11-13T22:59:40.943Z"
   },
   {
    "duration": 46,
    "start_time": "2021-11-13T22:59:45.627Z"
   },
   {
    "duration": 37,
    "start_time": "2021-11-13T22:59:45.675Z"
   },
   {
    "duration": 19,
    "start_time": "2021-11-13T22:59:45.715Z"
   },
   {
    "duration": 77,
    "start_time": "2021-11-13T22:59:45.737Z"
   },
   {
    "duration": 637,
    "start_time": "2021-11-13T22:59:45.817Z"
   },
   {
    "duration": 46,
    "start_time": "2021-11-13T22:59:46.458Z"
   },
   {
    "duration": 323,
    "start_time": "2021-11-13T23:04:08.459Z"
   },
   {
    "duration": 21,
    "start_time": "2021-11-13T23:04:08.785Z"
   },
   {
    "duration": 6,
    "start_time": "2021-11-13T23:04:08.809Z"
   },
   {
    "duration": 23,
    "start_time": "2021-11-13T23:04:08.818Z"
   },
   {
    "duration": 62,
    "start_time": "2021-11-13T23:04:08.844Z"
   },
   {
    "duration": 10,
    "start_time": "2021-11-13T23:04:08.909Z"
   },
   {
    "duration": 6,
    "start_time": "2021-11-13T23:04:08.922Z"
   },
   {
    "duration": 5,
    "start_time": "2021-11-13T23:04:08.931Z"
   },
   {
    "duration": 60,
    "start_time": "2021-11-13T23:04:08.942Z"
   },
   {
    "duration": 20,
    "start_time": "2021-11-13T23:04:09.006Z"
   },
   {
    "duration": 21,
    "start_time": "2021-11-13T23:04:09.029Z"
   },
   {
    "duration": 55,
    "start_time": "2021-11-13T23:04:09.052Z"
   },
   {
    "duration": 109,
    "start_time": "2021-11-13T23:04:09.110Z"
   },
   {
    "duration": 80,
    "start_time": "2021-11-13T23:04:09.222Z"
   },
   {
    "duration": 4635,
    "start_time": "2021-11-13T23:04:09.304Z"
   },
   {
    "duration": 67,
    "start_time": "2021-11-13T23:04:13.941Z"
   },
   {
    "duration": 18,
    "start_time": "2021-11-13T23:04:14.012Z"
   },
   {
    "duration": 19,
    "start_time": "2021-11-13T23:04:14.033Z"
   },
   {
    "duration": 75,
    "start_time": "2021-11-13T23:04:14.054Z"
   },
   {
    "duration": 848,
    "start_time": "2021-11-13T23:04:14.131Z"
   },
   {
    "duration": 43,
    "start_time": "2021-11-13T23:04:14.981Z"
   },
   {
    "duration": 120,
    "start_time": "2021-11-13T23:05:43.358Z"
   },
   {
    "duration": 450,
    "start_time": "2021-11-13T23:09:36.592Z"
   },
   {
    "duration": 33,
    "start_time": "2021-11-13T23:10:05.019Z"
   },
   {
    "duration": 328,
    "start_time": "2021-11-13T23:20:56.338Z"
   },
   {
    "duration": 21,
    "start_time": "2021-11-13T23:20:56.669Z"
   },
   {
    "duration": 6,
    "start_time": "2021-11-13T23:20:56.700Z"
   },
   {
    "duration": 22,
    "start_time": "2021-11-13T23:20:56.709Z"
   },
   {
    "duration": 22,
    "start_time": "2021-11-13T23:20:56.734Z"
   },
   {
    "duration": 44,
    "start_time": "2021-11-13T23:20:56.758Z"
   },
   {
    "duration": 5,
    "start_time": "2021-11-13T23:20:56.804Z"
   },
   {
    "duration": 12,
    "start_time": "2021-11-13T23:20:56.811Z"
   },
   {
    "duration": 28,
    "start_time": "2021-11-13T23:20:56.827Z"
   },
   {
    "duration": 51,
    "start_time": "2021-11-13T23:20:56.858Z"
   },
   {
    "duration": 21,
    "start_time": "2021-11-13T23:20:56.912Z"
   },
   {
    "duration": 29,
    "start_time": "2021-11-13T23:20:56.936Z"
   },
   {
    "duration": 50,
    "start_time": "2021-11-13T23:20:56.968Z"
   },
   {
    "duration": 9,
    "start_time": "2021-11-13T23:20:57.020Z"
   },
   {
    "duration": 10,
    "start_time": "2021-11-13T23:20:57.032Z"
   },
   {
    "duration": 57,
    "start_time": "2021-11-13T23:20:57.045Z"
   },
   {
    "duration": 30,
    "start_time": "2021-11-13T23:20:57.105Z"
   },
   {
    "duration": 4739,
    "start_time": "2021-11-13T23:20:57.137Z"
   },
   {
    "duration": 63,
    "start_time": "2021-11-13T23:21:01.878Z"
   },
   {
    "duration": 30,
    "start_time": "2021-11-13T23:21:01.944Z"
   },
   {
    "duration": 54,
    "start_time": "2021-11-13T23:21:01.977Z"
   },
   {
    "duration": 39,
    "start_time": "2021-11-13T23:21:02.033Z"
   },
   {
    "duration": 631,
    "start_time": "2021-11-13T23:21:02.074Z"
   },
   {
    "duration": 399,
    "start_time": "2021-11-13T23:21:02.708Z"
   },
   {
    "duration": 332,
    "start_time": "2021-11-13T23:25:22.454Z"
   },
   {
    "duration": 22,
    "start_time": "2021-11-13T23:25:22.789Z"
   },
   {
    "duration": 6,
    "start_time": "2021-11-13T23:25:22.814Z"
   },
   {
    "duration": 23,
    "start_time": "2021-11-13T23:25:22.823Z"
   },
   {
    "duration": 55,
    "start_time": "2021-11-13T23:25:22.848Z"
   },
   {
    "duration": 10,
    "start_time": "2021-11-13T23:25:22.905Z"
   },
   {
    "duration": 8,
    "start_time": "2021-11-13T23:25:22.917Z"
   },
   {
    "duration": 6,
    "start_time": "2021-11-13T23:25:22.927Z"
   },
   {
    "duration": 19,
    "start_time": "2021-11-13T23:25:22.937Z"
   },
   {
    "duration": 19,
    "start_time": "2021-11-13T23:25:23.000Z"
   },
   {
    "duration": 30,
    "start_time": "2021-11-13T23:25:23.022Z"
   },
   {
    "duration": 62,
    "start_time": "2021-11-13T23:25:23.055Z"
   },
   {
    "duration": 23,
    "start_time": "2021-11-13T23:25:23.119Z"
   },
   {
    "duration": 7,
    "start_time": "2021-11-13T23:25:23.145Z"
   },
   {
    "duration": 48,
    "start_time": "2021-11-13T23:25:23.154Z"
   },
   {
    "duration": 12,
    "start_time": "2021-11-13T23:25:23.205Z"
   },
   {
    "duration": 33,
    "start_time": "2021-11-13T23:25:23.219Z"
   },
   {
    "duration": 4812,
    "start_time": "2021-11-13T23:25:23.254Z"
   },
   {
    "duration": 63,
    "start_time": "2021-11-13T23:25:28.069Z"
   },
   {
    "duration": 19,
    "start_time": "2021-11-13T23:25:28.134Z"
   },
   {
    "duration": 81,
    "start_time": "2021-11-13T23:25:28.156Z"
   },
   {
    "duration": 65,
    "start_time": "2021-11-13T23:25:28.240Z"
   },
   {
    "duration": 647,
    "start_time": "2021-11-13T23:25:28.308Z"
   },
   {
    "duration": 391,
    "start_time": "2021-11-13T23:25:28.958Z"
   },
   {
    "duration": 329,
    "start_time": "2021-11-13T23:26:17.962Z"
   },
   {
    "duration": 23,
    "start_time": "2021-11-13T23:26:18.294Z"
   },
   {
    "duration": 13,
    "start_time": "2021-11-13T23:26:18.320Z"
   },
   {
    "duration": 34,
    "start_time": "2021-11-13T23:26:18.336Z"
   },
   {
    "duration": 43,
    "start_time": "2021-11-13T23:26:18.372Z"
   },
   {
    "duration": 11,
    "start_time": "2021-11-13T23:26:18.417Z"
   },
   {
    "duration": 8,
    "start_time": "2021-11-13T23:26:18.431Z"
   },
   {
    "duration": 10,
    "start_time": "2021-11-13T23:26:18.441Z"
   },
   {
    "duration": 47,
    "start_time": "2021-11-13T23:26:18.454Z"
   },
   {
    "duration": 20,
    "start_time": "2021-11-13T23:26:18.504Z"
   },
   {
    "duration": 21,
    "start_time": "2021-11-13T23:26:18.527Z"
   },
   {
    "duration": 64,
    "start_time": "2021-11-13T23:26:18.551Z"
   },
   {
    "duration": 22,
    "start_time": "2021-11-13T23:26:18.617Z"
   },
   {
    "duration": 8,
    "start_time": "2021-11-13T23:26:18.642Z"
   },
   {
    "duration": 15,
    "start_time": "2021-11-13T23:26:18.652Z"
   },
   {
    "duration": 12,
    "start_time": "2021-11-13T23:26:18.702Z"
   },
   {
    "duration": 37,
    "start_time": "2021-11-13T23:26:18.716Z"
   },
   {
    "duration": 4731,
    "start_time": "2021-11-13T23:26:18.757Z"
   },
   {
    "duration": 56,
    "start_time": "2021-11-13T23:26:23.490Z"
   },
   {
    "duration": 16,
    "start_time": "2021-11-13T23:26:23.548Z"
   },
   {
    "duration": 72,
    "start_time": "2021-11-13T23:26:23.566Z"
   },
   {
    "duration": 42,
    "start_time": "2021-11-13T23:26:23.641Z"
   },
   {
    "duration": 686,
    "start_time": "2021-11-13T23:26:23.685Z"
   },
   {
    "duration": 411,
    "start_time": "2021-11-13T23:26:24.373Z"
   },
   {
    "duration": 321,
    "start_time": "2021-11-13T23:27:15.315Z"
   },
   {
    "duration": 22,
    "start_time": "2021-11-13T23:27:15.640Z"
   },
   {
    "duration": 36,
    "start_time": "2021-11-13T23:27:15.666Z"
   },
   {
    "duration": 26,
    "start_time": "2021-11-13T23:27:15.706Z"
   },
   {
    "duration": 24,
    "start_time": "2021-11-13T23:27:15.735Z"
   },
   {
    "duration": 45,
    "start_time": "2021-11-13T23:27:15.762Z"
   },
   {
    "duration": 14,
    "start_time": "2021-11-13T23:27:15.809Z"
   },
   {
    "duration": 15,
    "start_time": "2021-11-13T23:27:15.825Z"
   },
   {
    "duration": 28,
    "start_time": "2021-11-13T23:27:15.845Z"
   },
   {
    "duration": 31,
    "start_time": "2021-11-13T23:27:15.876Z"
   },
   {
    "duration": 22,
    "start_time": "2021-11-13T23:27:15.910Z"
   },
   {
    "duration": 31,
    "start_time": "2021-11-13T23:27:15.934Z"
   },
   {
    "duration": 47,
    "start_time": "2021-11-13T23:27:15.967Z"
   },
   {
    "duration": 7,
    "start_time": "2021-11-13T23:27:16.017Z"
   },
   {
    "duration": 15,
    "start_time": "2021-11-13T23:27:16.026Z"
   },
   {
    "duration": 11,
    "start_time": "2021-11-13T23:27:16.043Z"
   },
   {
    "duration": 29,
    "start_time": "2021-11-13T23:27:16.100Z"
   },
   {
    "duration": 4757,
    "start_time": "2021-11-13T23:27:16.131Z"
   },
   {
    "duration": 58,
    "start_time": "2021-11-13T23:27:20.890Z"
   },
   {
    "duration": 25,
    "start_time": "2021-11-13T23:27:20.951Z"
   },
   {
    "duration": 68,
    "start_time": "2021-11-13T23:27:20.979Z"
   },
   {
    "duration": 61,
    "start_time": "2021-11-13T23:27:21.050Z"
   },
   {
    "duration": 689,
    "start_time": "2021-11-13T23:27:21.113Z"
   },
   {
    "duration": 443,
    "start_time": "2021-11-13T23:27:21.804Z"
   },
   {
    "duration": 130,
    "start_time": "2021-11-13T23:29:20.694Z"
   },
   {
    "duration": 19,
    "start_time": "2021-11-13T23:29:29.262Z"
   },
   {
    "duration": 29,
    "start_time": "2021-11-13T23:30:39.450Z"
   },
   {
    "duration": 135,
    "start_time": "2021-11-13T23:31:08.592Z"
   },
   {
    "duration": 19,
    "start_time": "2021-11-13T23:33:08.593Z"
   },
   {
    "duration": 18,
    "start_time": "2021-11-13T23:33:13.221Z"
   },
   {
    "duration": 53,
    "start_time": "2021-11-13T23:35:16.868Z"
   },
   {
    "duration": 51,
    "start_time": "2021-11-13T23:35:45.295Z"
   },
   {
    "duration": 9426,
    "start_time": "2021-11-13T23:37:29.973Z"
   },
   {
    "duration": 1315,
    "start_time": "2021-11-14T10:36:49.033Z"
   },
   {
    "duration": 32,
    "start_time": "2021-11-14T10:36:50.351Z"
   },
   {
    "duration": 6,
    "start_time": "2021-11-14T10:36:50.386Z"
   },
   {
    "duration": 22,
    "start_time": "2021-11-14T10:36:50.400Z"
   },
   {
    "duration": 25,
    "start_time": "2021-11-14T10:36:50.424Z"
   },
   {
    "duration": 8,
    "start_time": "2021-11-14T10:36:50.451Z"
   },
   {
    "duration": 21,
    "start_time": "2021-11-14T10:36:50.461Z"
   },
   {
    "duration": 26,
    "start_time": "2021-11-14T10:36:50.486Z"
   },
   {
    "duration": 31,
    "start_time": "2021-11-14T10:36:50.516Z"
   },
   {
    "duration": 18,
    "start_time": "2021-11-14T10:36:50.549Z"
   },
   {
    "duration": 21,
    "start_time": "2021-11-14T10:36:50.569Z"
   },
   {
    "duration": 31,
    "start_time": "2021-11-14T10:36:50.593Z"
   },
   {
    "duration": 23,
    "start_time": "2021-11-14T10:36:50.626Z"
   },
   {
    "duration": 7,
    "start_time": "2021-11-14T10:36:50.651Z"
   },
   {
    "duration": 14,
    "start_time": "2021-11-14T10:36:50.660Z"
   },
   {
    "duration": 10,
    "start_time": "2021-11-14T10:36:50.677Z"
   },
   {
    "duration": 32,
    "start_time": "2021-11-14T10:36:50.689Z"
   },
   {
    "duration": 5028,
    "start_time": "2021-11-14T10:36:50.723Z"
   },
   {
    "duration": 58,
    "start_time": "2021-11-14T10:36:55.754Z"
   },
   {
    "duration": 18,
    "start_time": "2021-11-14T10:36:55.815Z"
   },
   {
    "duration": 66,
    "start_time": "2021-11-14T10:36:55.836Z"
   },
   {
    "duration": 27,
    "start_time": "2021-11-14T10:36:55.905Z"
   },
   {
    "duration": 18,
    "start_time": "2021-11-14T10:36:55.936Z"
   },
   {
    "duration": 79,
    "start_time": "2021-11-14T10:36:55.957Z"
   },
   {
    "duration": 488,
    "start_time": "2021-11-14T10:36:56.038Z"
   },
   {
    "duration": 315,
    "start_time": "2021-11-14T11:30:43.568Z"
   },
   {
    "duration": 24,
    "start_time": "2021-11-14T11:30:43.886Z"
   },
   {
    "duration": 7,
    "start_time": "2021-11-14T11:30:43.914Z"
   },
   {
    "duration": 23,
    "start_time": "2021-11-14T11:30:43.924Z"
   },
   {
    "duration": 64,
    "start_time": "2021-11-14T11:30:43.949Z"
   },
   {
    "duration": 10,
    "start_time": "2021-11-14T11:30:44.015Z"
   },
   {
    "duration": 5,
    "start_time": "2021-11-14T11:30:44.027Z"
   },
   {
    "duration": 7,
    "start_time": "2021-11-14T11:30:44.034Z"
   },
   {
    "duration": 14,
    "start_time": "2021-11-14T11:30:44.045Z"
   },
   {
    "duration": 52,
    "start_time": "2021-11-14T11:30:44.062Z"
   },
   {
    "duration": 21,
    "start_time": "2021-11-14T11:30:44.117Z"
   },
   {
    "duration": 63,
    "start_time": "2021-11-14T11:30:44.140Z"
   },
   {
    "duration": 8,
    "start_time": "2021-11-14T11:30:44.209Z"
   },
   {
    "duration": 11,
    "start_time": "2021-11-14T11:30:44.219Z"
   },
   {
    "duration": 12,
    "start_time": "2021-11-14T11:30:44.232Z"
   },
   {
    "duration": 77,
    "start_time": "2021-11-14T11:30:44.246Z"
   },
   {
    "duration": 4810,
    "start_time": "2021-11-14T11:30:44.325Z"
   },
   {
    "duration": 44,
    "start_time": "2021-11-14T11:30:49.138Z"
   },
   {
    "duration": 387,
    "start_time": "2021-11-14T11:30:49.185Z"
   },
   {
    "duration": 139,
    "start_time": "2021-11-14T11:30:49.436Z"
   },
   {
    "duration": 134,
    "start_time": "2021-11-14T11:30:49.442Z"
   },
   {
    "duration": 129,
    "start_time": "2021-11-14T11:30:49.448Z"
   },
   {
    "duration": 125,
    "start_time": "2021-11-14T11:30:49.453Z"
   },
   {
    "duration": 121,
    "start_time": "2021-11-14T11:30:49.459Z"
   },
   {
    "duration": 338,
    "start_time": "2021-11-14T11:34:16.123Z"
   },
   {
    "duration": 22,
    "start_time": "2021-11-14T11:34:16.464Z"
   },
   {
    "duration": 29,
    "start_time": "2021-11-14T11:34:16.489Z"
   },
   {
    "duration": 42,
    "start_time": "2021-11-14T11:34:16.521Z"
   },
   {
    "duration": 22,
    "start_time": "2021-11-14T11:34:16.566Z"
   },
   {
    "duration": 27,
    "start_time": "2021-11-14T11:34:16.590Z"
   },
   {
    "duration": 8,
    "start_time": "2021-11-14T11:34:16.621Z"
   },
   {
    "duration": 6,
    "start_time": "2021-11-14T11:34:16.632Z"
   },
   {
    "duration": 24,
    "start_time": "2021-11-14T11:34:16.642Z"
   },
   {
    "duration": 48,
    "start_time": "2021-11-14T11:34:16.670Z"
   },
   {
    "duration": 22,
    "start_time": "2021-11-14T11:34:16.720Z"
   },
   {
    "duration": 92,
    "start_time": "2021-11-14T11:34:16.745Z"
   },
   {
    "duration": 7,
    "start_time": "2021-11-14T11:34:16.840Z"
   },
   {
    "duration": 24,
    "start_time": "2021-11-14T11:34:16.849Z"
   },
   {
    "duration": 38,
    "start_time": "2021-11-14T11:34:16.876Z"
   },
   {
    "duration": 42,
    "start_time": "2021-11-14T11:34:16.916Z"
   },
   {
    "duration": 5177,
    "start_time": "2021-11-14T11:34:16.962Z"
   },
   {
    "duration": 65,
    "start_time": "2021-11-14T11:34:22.142Z"
   },
   {
    "duration": 16,
    "start_time": "2021-11-14T11:34:22.211Z"
   },
   {
    "duration": 29,
    "start_time": "2021-11-14T11:34:22.229Z"
   },
   {
    "duration": 61,
    "start_time": "2021-11-14T11:34:22.262Z"
   },
   {
    "duration": 21,
    "start_time": "2021-11-14T11:34:22.326Z"
   },
   {
    "duration": 88,
    "start_time": "2021-11-14T11:34:22.350Z"
   },
   {
    "duration": 376,
    "start_time": "2021-11-14T11:34:22.440Z"
   },
   {
    "duration": 119,
    "start_time": "2021-11-14T11:35:23.514Z"
   },
   {
    "duration": 323,
    "start_time": "2021-11-14T11:39:47.419Z"
   },
   {
    "duration": 21,
    "start_time": "2021-11-14T11:39:47.744Z"
   },
   {
    "duration": 7,
    "start_time": "2021-11-14T11:39:47.768Z"
   },
   {
    "duration": 57,
    "start_time": "2021-11-14T11:39:47.778Z"
   },
   {
    "duration": 22,
    "start_time": "2021-11-14T11:39:47.837Z"
   },
   {
    "duration": 12,
    "start_time": "2021-11-14T11:39:47.862Z"
   },
   {
    "duration": 9,
    "start_time": "2021-11-14T11:39:47.901Z"
   },
   {
    "duration": 7,
    "start_time": "2021-11-14T11:39:47.913Z"
   },
   {
    "duration": 16,
    "start_time": "2021-11-14T11:39:47.924Z"
   },
   {
    "duration": 22,
    "start_time": "2021-11-14T11:39:47.942Z"
   },
   {
    "duration": 60,
    "start_time": "2021-11-14T11:39:47.966Z"
   },
   {
    "duration": 48,
    "start_time": "2021-11-14T11:39:48.028Z"
   },
   {
    "duration": 8,
    "start_time": "2021-11-14T11:39:48.102Z"
   },
   {
    "duration": 12,
    "start_time": "2021-11-14T11:39:48.119Z"
   },
   {
    "duration": 14,
    "start_time": "2021-11-14T11:39:48.135Z"
   },
   {
    "duration": 81,
    "start_time": "2021-11-14T11:39:48.151Z"
   },
   {
    "duration": 4615,
    "start_time": "2021-11-14T11:39:48.234Z"
   },
   {
    "duration": 138,
    "start_time": "2021-11-14T11:39:52.852Z"
   },
   {
    "duration": 86,
    "start_time": "2021-11-14T11:39:52.906Z"
   },
   {
    "duration": 81,
    "start_time": "2021-11-14T11:39:52.913Z"
   },
   {
    "duration": 67,
    "start_time": "2021-11-14T11:39:52.929Z"
   },
   {
    "duration": 62,
    "start_time": "2021-11-14T11:39:52.935Z"
   },
   {
    "duration": -11,
    "start_time": "2021-11-14T11:39:53.010Z"
   },
   {
    "duration": -22,
    "start_time": "2021-11-14T11:39:53.023Z"
   },
   {
    "duration": -32,
    "start_time": "2021-11-14T11:39:53.034Z"
   },
   {
    "duration": -44,
    "start_time": "2021-11-14T11:39:53.048Z"
   },
   {
    "duration": 319,
    "start_time": "2021-11-14T11:40:09.527Z"
   },
   {
    "duration": 22,
    "start_time": "2021-11-14T11:40:09.848Z"
   },
   {
    "duration": 32,
    "start_time": "2021-11-14T11:40:09.873Z"
   },
   {
    "duration": 23,
    "start_time": "2021-11-14T11:40:09.908Z"
   },
   {
    "duration": 21,
    "start_time": "2021-11-14T11:40:09.933Z"
   },
   {
    "duration": 52,
    "start_time": "2021-11-14T11:40:09.956Z"
   },
   {
    "duration": 6,
    "start_time": "2021-11-14T11:40:10.011Z"
   },
   {
    "duration": 15,
    "start_time": "2021-11-14T11:40:10.019Z"
   },
   {
    "duration": 26,
    "start_time": "2021-11-14T11:40:10.038Z"
   },
   {
    "duration": 20,
    "start_time": "2021-11-14T11:40:10.068Z"
   },
   {
    "duration": 27,
    "start_time": "2021-11-14T11:40:10.101Z"
   },
   {
    "duration": 73,
    "start_time": "2021-11-14T11:40:10.131Z"
   },
   {
    "duration": 8,
    "start_time": "2021-11-14T11:40:10.207Z"
   },
   {
    "duration": 20,
    "start_time": "2021-11-14T11:40:10.217Z"
   },
   {
    "duration": 20,
    "start_time": "2021-11-14T11:40:10.239Z"
   },
   {
    "duration": 65,
    "start_time": "2021-11-14T11:40:10.262Z"
   },
   {
    "duration": 4742,
    "start_time": "2021-11-14T11:40:10.329Z"
   },
   {
    "duration": 48,
    "start_time": "2021-11-14T11:40:15.074Z"
   },
   {
    "duration": 33,
    "start_time": "2021-11-14T11:40:15.125Z"
   },
   {
    "duration": 79,
    "start_time": "2021-11-14T11:40:15.160Z"
   },
   {
    "duration": 15,
    "start_time": "2021-11-14T11:40:15.241Z"
   },
   {
    "duration": 55,
    "start_time": "2021-11-14T11:40:15.259Z"
   },
   {
    "duration": 24,
    "start_time": "2021-11-14T11:40:15.316Z"
   },
   {
    "duration": 18,
    "start_time": "2021-11-14T11:40:15.343Z"
   },
   {
    "duration": 90,
    "start_time": "2021-11-14T11:40:15.364Z"
   },
   {
    "duration": 397,
    "start_time": "2021-11-14T11:40:15.456Z"
   },
   {
    "duration": 29,
    "start_time": "2021-11-14T11:45:39.932Z"
   },
   {
    "duration": 48,
    "start_time": "2021-11-14T11:45:49.605Z"
   },
   {
    "duration": 497,
    "start_time": "2021-11-14T11:50:37.734Z"
   },
   {
    "duration": 1134,
    "start_time": "2021-11-14T11:50:42.967Z"
   },
   {
    "duration": 35,
    "start_time": "2021-11-14T11:50:44.104Z"
   },
   {
    "duration": 5,
    "start_time": "2021-11-14T11:50:44.142Z"
   },
   {
    "duration": 23,
    "start_time": "2021-11-14T11:50:44.150Z"
   },
   {
    "duration": 51,
    "start_time": "2021-11-14T11:50:44.175Z"
   },
   {
    "duration": 10,
    "start_time": "2021-11-14T11:50:44.228Z"
   },
   {
    "duration": 5,
    "start_time": "2021-11-14T11:50:44.240Z"
   },
   {
    "duration": 7,
    "start_time": "2021-11-14T11:50:44.247Z"
   },
   {
    "duration": 57,
    "start_time": "2021-11-14T11:50:44.258Z"
   },
   {
    "duration": 19,
    "start_time": "2021-11-14T11:50:44.319Z"
   },
   {
    "duration": 19,
    "start_time": "2021-11-14T11:50:44.340Z"
   },
   {
    "duration": 72,
    "start_time": "2021-11-14T11:50:44.361Z"
   },
   {
    "duration": 8,
    "start_time": "2021-11-14T11:50:44.435Z"
   },
   {
    "duration": 23,
    "start_time": "2021-11-14T11:50:44.445Z"
   },
   {
    "duration": 35,
    "start_time": "2021-11-14T11:50:44.472Z"
   },
   {
    "duration": 32,
    "start_time": "2021-11-14T11:50:44.510Z"
   },
   {
    "duration": 4745,
    "start_time": "2021-11-14T11:50:44.544Z"
   },
   {
    "duration": 48,
    "start_time": "2021-11-14T11:50:49.292Z"
   },
   {
    "duration": 26,
    "start_time": "2021-11-14T11:50:49.342Z"
   },
   {
    "duration": 68,
    "start_time": "2021-11-14T11:50:49.370Z"
   },
   {
    "duration": 15,
    "start_time": "2021-11-14T11:50:49.440Z"
   },
   {
    "duration": 55,
    "start_time": "2021-11-14T11:50:49.457Z"
   },
   {
    "duration": 29,
    "start_time": "2021-11-14T11:50:49.515Z"
   },
   {
    "duration": 17,
    "start_time": "2021-11-14T11:50:49.547Z"
   },
   {
    "duration": 67,
    "start_time": "2021-11-14T11:50:49.567Z"
   },
   {
    "duration": 425,
    "start_time": "2021-11-14T11:50:49.637Z"
   },
   {
    "duration": 65,
    "start_time": "2021-11-14T11:54:34.755Z"
   },
   {
    "duration": 953,
    "start_time": "2021-11-14T11:55:49.462Z"
   },
   {
    "duration": 21,
    "start_time": "2021-11-14T11:55:50.418Z"
   },
   {
    "duration": 8,
    "start_time": "2021-11-14T11:55:50.442Z"
   },
   {
    "duration": 49,
    "start_time": "2021-11-14T11:55:50.453Z"
   },
   {
    "duration": 23,
    "start_time": "2021-11-14T11:55:50.505Z"
   },
   {
    "duration": 18,
    "start_time": "2021-11-14T11:55:50.532Z"
   },
   {
    "duration": 5,
    "start_time": "2021-11-14T11:55:50.554Z"
   },
   {
    "duration": 42,
    "start_time": "2021-11-14T11:55:50.562Z"
   },
   {
    "duration": 21,
    "start_time": "2021-11-14T11:55:50.610Z"
   },
   {
    "duration": 25,
    "start_time": "2021-11-14T11:55:50.634Z"
   },
   {
    "duration": 43,
    "start_time": "2021-11-14T11:55:50.662Z"
   },
   {
    "duration": 48,
    "start_time": "2021-11-14T11:55:50.708Z"
   },
   {
    "duration": 8,
    "start_time": "2021-11-14T11:55:50.758Z"
   },
   {
    "duration": 50,
    "start_time": "2021-11-14T11:55:50.769Z"
   },
   {
    "duration": 13,
    "start_time": "2021-11-14T11:55:50.821Z"
   },
   {
    "duration": 64,
    "start_time": "2021-11-14T11:55:50.836Z"
   },
   {
    "duration": 4518,
    "start_time": "2021-11-14T11:55:50.902Z"
   },
   {
    "duration": 38,
    "start_time": "2021-11-14T11:55:55.422Z"
   },
   {
    "duration": 53,
    "start_time": "2021-11-14T11:55:55.462Z"
   },
   {
    "duration": 41,
    "start_time": "2021-11-14T11:55:55.517Z"
   },
   {
    "duration": 15,
    "start_time": "2021-11-14T11:55:55.560Z"
   },
   {
    "duration": 30,
    "start_time": "2021-11-14T11:55:55.601Z"
   },
   {
    "duration": 22,
    "start_time": "2021-11-14T11:55:55.634Z"
   },
   {
    "duration": 51,
    "start_time": "2021-11-14T11:55:55.659Z"
   },
   {
    "duration": 33,
    "start_time": "2021-11-14T11:55:55.712Z"
   },
   {
    "duration": 53,
    "start_time": "2021-11-14T11:55:55.747Z"
   },
   {
    "duration": 373,
    "start_time": "2021-11-14T11:55:55.805Z"
   },
   {
    "duration": 16,
    "start_time": "2021-11-14T11:57:52.685Z"
   },
   {
    "duration": 355,
    "start_time": "2021-11-14T12:01:47.105Z"
   },
   {
    "duration": 21,
    "start_time": "2021-11-14T12:01:47.463Z"
   },
   {
    "duration": 16,
    "start_time": "2021-11-14T12:01:47.488Z"
   },
   {
    "duration": 24,
    "start_time": "2021-11-14T12:01:47.507Z"
   },
   {
    "duration": 24,
    "start_time": "2021-11-14T12:01:47.533Z"
   },
   {
    "duration": 42,
    "start_time": "2021-11-14T12:01:47.559Z"
   },
   {
    "duration": 5,
    "start_time": "2021-11-14T12:01:47.603Z"
   },
   {
    "duration": 7,
    "start_time": "2021-11-14T12:01:47.610Z"
   },
   {
    "duration": 15,
    "start_time": "2021-11-14T12:01:47.621Z"
   },
   {
    "duration": 19,
    "start_time": "2021-11-14T12:01:47.640Z"
   },
   {
    "duration": 22,
    "start_time": "2021-11-14T12:01:47.701Z"
   },
   {
    "duration": 49,
    "start_time": "2021-11-14T12:01:47.726Z"
   },
   {
    "duration": 9,
    "start_time": "2021-11-14T12:01:47.802Z"
   },
   {
    "duration": 12,
    "start_time": "2021-11-14T12:01:47.814Z"
   },
   {
    "duration": 13,
    "start_time": "2021-11-14T12:01:47.828Z"
   },
   {
    "duration": 81,
    "start_time": "2021-11-14T12:01:47.843Z"
   },
   {
    "duration": 4747,
    "start_time": "2021-11-14T12:01:47.927Z"
   },
   {
    "duration": 52,
    "start_time": "2021-11-14T12:01:52.677Z"
   },
   {
    "duration": 43,
    "start_time": "2021-11-14T12:01:52.732Z"
   },
   {
    "duration": 61,
    "start_time": "2021-11-14T12:01:52.778Z"
   },
   {
    "duration": 15,
    "start_time": "2021-11-14T12:01:52.842Z"
   },
   {
    "duration": 54,
    "start_time": "2021-11-14T12:01:52.860Z"
   },
   {
    "duration": 22,
    "start_time": "2021-11-14T12:01:52.917Z"
   },
   {
    "duration": 20,
    "start_time": "2021-11-14T12:01:52.941Z"
   },
   {
    "duration": 60,
    "start_time": "2021-11-14T12:01:52.964Z"
   },
   {
    "duration": 33,
    "start_time": "2021-11-14T12:01:53.026Z"
   },
   {
    "duration": 41,
    "start_time": "2021-11-14T12:01:53.063Z"
   },
   {
    "duration": 330,
    "start_time": "2021-11-14T12:07:53.031Z"
   },
   {
    "duration": 21,
    "start_time": "2021-11-14T12:07:53.364Z"
   },
   {
    "duration": 15,
    "start_time": "2021-11-14T12:07:53.387Z"
   },
   {
    "duration": 22,
    "start_time": "2021-11-14T12:07:53.405Z"
   },
   {
    "duration": 21,
    "start_time": "2021-11-14T12:07:53.429Z"
   },
   {
    "duration": 50,
    "start_time": "2021-11-14T12:07:53.452Z"
   },
   {
    "duration": 4,
    "start_time": "2021-11-14T12:07:53.504Z"
   },
   {
    "duration": 9,
    "start_time": "2021-11-14T12:07:53.511Z"
   },
   {
    "duration": 16,
    "start_time": "2021-11-14T12:07:53.523Z"
   },
   {
    "duration": 18,
    "start_time": "2021-11-14T12:07:53.542Z"
   },
   {
    "duration": 54,
    "start_time": "2021-11-14T12:07:53.562Z"
   },
   {
    "duration": 48,
    "start_time": "2021-11-14T12:07:53.619Z"
   },
   {
    "duration": 32,
    "start_time": "2021-11-14T12:07:53.670Z"
   },
   {
    "duration": 9,
    "start_time": "2021-11-14T12:07:53.704Z"
   },
   {
    "duration": 16,
    "start_time": "2021-11-14T12:07:53.715Z"
   },
   {
    "duration": 69,
    "start_time": "2021-11-14T12:07:53.734Z"
   },
   {
    "duration": 4516,
    "start_time": "2021-11-14T12:07:53.806Z"
   },
   {
    "duration": 40,
    "start_time": "2021-11-14T12:07:58.325Z"
   },
   {
    "duration": 52,
    "start_time": "2021-11-14T12:07:58.367Z"
   },
   {
    "duration": 44,
    "start_time": "2021-11-14T12:07:58.422Z"
   },
   {
    "duration": 40,
    "start_time": "2021-11-14T12:07:58.469Z"
   },
   {
    "duration": 29,
    "start_time": "2021-11-14T12:07:58.511Z"
   },
   {
    "duration": 23,
    "start_time": "2021-11-14T12:07:58.543Z"
   },
   {
    "duration": 44,
    "start_time": "2021-11-14T12:07:58.569Z"
   },
   {
    "duration": 31,
    "start_time": "2021-11-14T12:07:58.616Z"
   },
   {
    "duration": 65,
    "start_time": "2021-11-14T12:07:58.649Z"
   },
   {
    "duration": 18,
    "start_time": "2021-11-14T12:07:58.718Z"
   }
  ],
  "kernelspec": {
   "display_name": "Python 3 (ipykernel)",
   "language": "python",
   "name": "python3"
  },
  "language_info": {
   "codemirror_mode": {
    "name": "ipython",
    "version": 3
   },
   "file_extension": ".py",
   "mimetype": "text/x-python",
   "name": "python",
   "nbconvert_exporter": "python",
   "pygments_lexer": "ipython3",
   "version": "3.9.13"
  },
  "toc": {
   "base_numbering": 1,
   "nav_menu": {},
   "number_sections": true,
   "sideBar": true,
   "skip_h1_title": true,
   "title_cell": "Table of Contents",
   "title_sidebar": "Contents",
   "toc_cell": false,
   "toc_position": {},
   "toc_section_display": true,
   "toc_window_display": false
  }
 },
 "nbformat": 4,
 "nbformat_minor": 2
}
